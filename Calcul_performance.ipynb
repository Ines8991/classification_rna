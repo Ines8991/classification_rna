{
  "cells": [
    {
      "cell_type": "markdown",
      "metadata": {
        "id": "view-in-github",
        "colab_type": "text"
      },
      "source": [
        "<a href=\"https://colab.research.google.com/github/Ines8991/classification_rna/blob/main/Calcul_performance.ipynb\" target=\"_parent\"><img src=\"https://colab.research.google.com/assets/colab-badge.svg\" alt=\"Open In Colab\"/></a>"
      ]
    },
    {
      "cell_type": "code",
      "execution_count": 1,
      "metadata": {
        "id": "wNTXc28ZtBFp"
      },
      "outputs": [],
      "source": [
        "import numpy as np\n",
        "import pandas as pd\n",
        "import matplotlib.pyplot as plt\n",
        "import seaborn as sns"
      ]
    },
    {
      "cell_type": "markdown",
      "source": [
        "Dans ce fichier nous allons calculer la performance de notre modèle sur les données de l'année 2022"
      ],
      "metadata": {
        "id": "D_tlR7aC4YiL"
      }
    },
    {
      "cell_type": "code",
      "execution_count": 2,
      "metadata": {
        "colab": {
          "base_uri": "https://localhost:8080/"
        },
        "id": "_mwedCY1tQkK",
        "outputId": "e7218b2f-8e55-4836-c9b9-7e355f092d31"
      },
      "outputs": [
        {
          "output_type": "execute_result",
          "data": {
            "text/plain": [
              "[\"Année de l'inscription\",\n",
              " 'IAE - Etape (code)',\n",
              " 'IAE - Etape (lib.)',\n",
              " 'Individu - Code Etudiant',\n",
              " 'Note Session 1',\n",
              " 'Résultat Session 1',\n",
              " 'Note Session 2',\n",
              " 'Résultat Session 2']"
            ]
          },
          "metadata": {},
          "execution_count": 2
        }
      ],
      "source": [
        "don=pd.read_excel(r'/content/Ines - Liste des étudiants avec notes par session 22-08-2023.xlsx')\n",
        "don.columns.tolist()"
      ]
    },
    {
      "cell_type": "code",
      "execution_count": 3,
      "metadata": {
        "id": "ADYQD4VLvjHt"
      },
      "outputs": [],
      "source": [
        "don=don.reset_index(drop=True)\n"
      ]
    },
    {
      "cell_type": "code",
      "execution_count": 4,
      "metadata": {
        "colab": {
          "base_uri": "https://localhost:8080/",
          "height": 132
        },
        "id": "EsCrrUlhvtVm",
        "outputId": "065ad382-0cd9-4e4e-be7b-c16051ec6d85"
      },
      "outputs": [
        {
          "output_type": "execute_result",
          "data": {
            "text/plain": [
              "   Année de l'inscription IAE - Etape (code)     IAE - Etape (lib.)  \\\n",
              "0                    2022             B1GEII  BUT1 Génie électrique   \n",
              "\n",
              "   Individu - Code Etudiant  Note Session 1 Résultat Session 1  \\\n",
              "0                  20200070             NaN                NaN   \n",
              "\n",
              "   Note Session 2 Résultat Session 2  \n",
              "0             NaN                NaN  "
            ],
            "text/html": [
              "\n",
              "  <div id=\"df-03c2cc35-ca29-45b1-b9d2-6f79a2dd8a54\" class=\"colab-df-container\">\n",
              "    <div>\n",
              "<style scoped>\n",
              "    .dataframe tbody tr th:only-of-type {\n",
              "        vertical-align: middle;\n",
              "    }\n",
              "\n",
              "    .dataframe tbody tr th {\n",
              "        vertical-align: top;\n",
              "    }\n",
              "\n",
              "    .dataframe thead th {\n",
              "        text-align: right;\n",
              "    }\n",
              "</style>\n",
              "<table border=\"1\" class=\"dataframe\">\n",
              "  <thead>\n",
              "    <tr style=\"text-align: right;\">\n",
              "      <th></th>\n",
              "      <th>Année de l'inscription</th>\n",
              "      <th>IAE - Etape (code)</th>\n",
              "      <th>IAE - Etape (lib.)</th>\n",
              "      <th>Individu - Code Etudiant</th>\n",
              "      <th>Note Session 1</th>\n",
              "      <th>Résultat Session 1</th>\n",
              "      <th>Note Session 2</th>\n",
              "      <th>Résultat Session 2</th>\n",
              "    </tr>\n",
              "  </thead>\n",
              "  <tbody>\n",
              "    <tr>\n",
              "      <th>0</th>\n",
              "      <td>2022</td>\n",
              "      <td>B1GEII</td>\n",
              "      <td>BUT1 Génie électrique</td>\n",
              "      <td>20200070</td>\n",
              "      <td>NaN</td>\n",
              "      <td>NaN</td>\n",
              "      <td>NaN</td>\n",
              "      <td>NaN</td>\n",
              "    </tr>\n",
              "  </tbody>\n",
              "</table>\n",
              "</div>\n",
              "    <div class=\"colab-df-buttons\">\n",
              "\n",
              "  <div class=\"colab-df-container\">\n",
              "    <button class=\"colab-df-convert\" onclick=\"convertToInteractive('df-03c2cc35-ca29-45b1-b9d2-6f79a2dd8a54')\"\n",
              "            title=\"Convert this dataframe to an interactive table.\"\n",
              "            style=\"display:none;\">\n",
              "\n",
              "  <svg xmlns=\"http://www.w3.org/2000/svg\" height=\"24px\" viewBox=\"0 -960 960 960\">\n",
              "    <path d=\"M120-120v-720h720v720H120Zm60-500h600v-160H180v160Zm220 220h160v-160H400v160Zm0 220h160v-160H400v160ZM180-400h160v-160H180v160Zm440 0h160v-160H620v160ZM180-180h160v-160H180v160Zm440 0h160v-160H620v160Z\"/>\n",
              "  </svg>\n",
              "    </button>\n",
              "\n",
              "  <style>\n",
              "    .colab-df-container {\n",
              "      display:flex;\n",
              "      gap: 12px;\n",
              "    }\n",
              "\n",
              "    .colab-df-convert {\n",
              "      background-color: #E8F0FE;\n",
              "      border: none;\n",
              "      border-radius: 50%;\n",
              "      cursor: pointer;\n",
              "      display: none;\n",
              "      fill: #1967D2;\n",
              "      height: 32px;\n",
              "      padding: 0 0 0 0;\n",
              "      width: 32px;\n",
              "    }\n",
              "\n",
              "    .colab-df-convert:hover {\n",
              "      background-color: #E2EBFA;\n",
              "      box-shadow: 0px 1px 2px rgba(60, 64, 67, 0.3), 0px 1px 3px 1px rgba(60, 64, 67, 0.15);\n",
              "      fill: #174EA6;\n",
              "    }\n",
              "\n",
              "    .colab-df-buttons div {\n",
              "      margin-bottom: 4px;\n",
              "    }\n",
              "\n",
              "    [theme=dark] .colab-df-convert {\n",
              "      background-color: #3B4455;\n",
              "      fill: #D2E3FC;\n",
              "    }\n",
              "\n",
              "    [theme=dark] .colab-df-convert:hover {\n",
              "      background-color: #434B5C;\n",
              "      box-shadow: 0px 1px 3px 1px rgba(0, 0, 0, 0.15);\n",
              "      filter: drop-shadow(0px 1px 2px rgba(0, 0, 0, 0.3));\n",
              "      fill: #FFFFFF;\n",
              "    }\n",
              "  </style>\n",
              "\n",
              "    <script>\n",
              "      const buttonEl =\n",
              "        document.querySelector('#df-03c2cc35-ca29-45b1-b9d2-6f79a2dd8a54 button.colab-df-convert');\n",
              "      buttonEl.style.display =\n",
              "        google.colab.kernel.accessAllowed ? 'block' : 'none';\n",
              "\n",
              "      async function convertToInteractive(key) {\n",
              "        const element = document.querySelector('#df-03c2cc35-ca29-45b1-b9d2-6f79a2dd8a54');\n",
              "        const dataTable =\n",
              "          await google.colab.kernel.invokeFunction('convertToInteractive',\n",
              "                                                    [key], {});\n",
              "        if (!dataTable) return;\n",
              "\n",
              "        const docLinkHtml = 'Like what you see? Visit the ' +\n",
              "          '<a target=\"_blank\" href=https://colab.research.google.com/notebooks/data_table.ipynb>data table notebook</a>'\n",
              "          + ' to learn more about interactive tables.';\n",
              "        element.innerHTML = '';\n",
              "        dataTable['output_type'] = 'display_data';\n",
              "        await google.colab.output.renderOutput(dataTable, element);\n",
              "        const docLink = document.createElement('div');\n",
              "        docLink.innerHTML = docLinkHtml;\n",
              "        element.appendChild(docLink);\n",
              "      }\n",
              "    </script>\n",
              "  </div>\n",
              "\n",
              "    </div>\n",
              "  </div>\n"
            ]
          },
          "metadata": {},
          "execution_count": 4
        }
      ],
      "source": [
        "don.head(1)"
      ]
    },
    {
      "cell_type": "code",
      "execution_count": 5,
      "metadata": {
        "colab": {
          "base_uri": "https://localhost:8080/"
        },
        "id": "Vco6uYN7vYcv",
        "outputId": "5e24421d-3946-4c5b-81bb-e3f11766c7c0"
      },
      "outputs": [
        {
          "output_type": "execute_result",
          "data": {
            "text/plain": [
              "array([nan, 'Admis', 'Ajourné', 'Défaillant', 'Red. Non auto.',\n",
              "       'Pas. Condition.', 'Période césure', 'Abs justifiée'], dtype=object)"
            ]
          },
          "metadata": {},
          "execution_count": 5
        }
      ],
      "source": [
        "don['Résultat Session 2'].unique()"
      ]
    },
    {
      "cell_type": "code",
      "execution_count": 6,
      "metadata": {
        "colab": {
          "base_uri": "https://localhost:8080/"
        },
        "id": "LQnsorkcte9f",
        "outputId": "d8a151df-6d04-428e-8b97-7423d17a861c"
      },
      "outputs": [
        {
          "output_type": "stream",
          "name": "stdout",
          "text": [
            "       Nombre d'admis VET\n",
            "0                       0\n",
            "1                       0\n",
            "2                       0\n",
            "3                       0\n",
            "4                       0\n",
            "...                   ...\n",
            "10122                   1\n",
            "10123                   0\n",
            "10124                   0\n",
            "10125                   1\n",
            "10126                   1\n",
            "\n",
            "[10127 rows x 1 columns]\n"
          ]
        },
        {
          "output_type": "execute_result",
          "data": {
            "text/plain": [
              "0    5890\n",
              "1    4237\n",
              "Name: Nombre_d_admis_VET, dtype: int64"
            ]
          },
          "metadata": {},
          "execution_count": 6
        }
      ],
      "source": [
        "redou=[]\n",
        "for i in range(len(don)):\n",
        "  if don['Résultat Session 2'][i]==\"Admis\" or don['Résultat Session 2'][i]==\"Pas. Condition.\":\n",
        "    redou.append(1)\n",
        "  else:\n",
        "    redou.append(0)\n",
        "\n",
        "\n",
        "df_redou = pd.DataFrame(redou, columns=['Nombre d\\'admis VET'])\n",
        "\n",
        "print(df_redou)\n",
        "don1=don.assign(Nombre_d_admis_VET=df_redou[\"Nombre d'admis VET\"])\n",
        "don1['Nombre_d_admis_VET'].value_counts()"
      ]
    },
    {
      "cell_type": "code",
      "execution_count": 7,
      "metadata": {
        "colab": {
          "base_uri": "https://localhost:8080/",
          "height": 150
        },
        "id": "sCxMEeI4yOzH",
        "outputId": "89f49ffb-9019-4c0a-c9c6-8c09f8bf2f88"
      },
      "outputs": [
        {
          "output_type": "execute_result",
          "data": {
            "text/plain": [
              "   Année de l'inscription IAE - Etape (code)     IAE - Etape (lib.)  \\\n",
              "0                    2022             B1GEII  BUT1 Génie électrique   \n",
              "\n",
              "   Individu - Code Etudiant  Note Session 1 Résultat Session 1  \\\n",
              "0                  20200070             NaN                NaN   \n",
              "\n",
              "   Note Session 2 Résultat Session 2  Nombre_d_admis_VET  \n",
              "0             NaN                NaN                   0  "
            ],
            "text/html": [
              "\n",
              "  <div id=\"df-00327250-34c8-4908-82cf-0f738bfb8d37\" class=\"colab-df-container\">\n",
              "    <div>\n",
              "<style scoped>\n",
              "    .dataframe tbody tr th:only-of-type {\n",
              "        vertical-align: middle;\n",
              "    }\n",
              "\n",
              "    .dataframe tbody tr th {\n",
              "        vertical-align: top;\n",
              "    }\n",
              "\n",
              "    .dataframe thead th {\n",
              "        text-align: right;\n",
              "    }\n",
              "</style>\n",
              "<table border=\"1\" class=\"dataframe\">\n",
              "  <thead>\n",
              "    <tr style=\"text-align: right;\">\n",
              "      <th></th>\n",
              "      <th>Année de l'inscription</th>\n",
              "      <th>IAE - Etape (code)</th>\n",
              "      <th>IAE - Etape (lib.)</th>\n",
              "      <th>Individu - Code Etudiant</th>\n",
              "      <th>Note Session 1</th>\n",
              "      <th>Résultat Session 1</th>\n",
              "      <th>Note Session 2</th>\n",
              "      <th>Résultat Session 2</th>\n",
              "      <th>Nombre_d_admis_VET</th>\n",
              "    </tr>\n",
              "  </thead>\n",
              "  <tbody>\n",
              "    <tr>\n",
              "      <th>0</th>\n",
              "      <td>2022</td>\n",
              "      <td>B1GEII</td>\n",
              "      <td>BUT1 Génie électrique</td>\n",
              "      <td>20200070</td>\n",
              "      <td>NaN</td>\n",
              "      <td>NaN</td>\n",
              "      <td>NaN</td>\n",
              "      <td>NaN</td>\n",
              "      <td>0</td>\n",
              "    </tr>\n",
              "  </tbody>\n",
              "</table>\n",
              "</div>\n",
              "    <div class=\"colab-df-buttons\">\n",
              "\n",
              "  <div class=\"colab-df-container\">\n",
              "    <button class=\"colab-df-convert\" onclick=\"convertToInteractive('df-00327250-34c8-4908-82cf-0f738bfb8d37')\"\n",
              "            title=\"Convert this dataframe to an interactive table.\"\n",
              "            style=\"display:none;\">\n",
              "\n",
              "  <svg xmlns=\"http://www.w3.org/2000/svg\" height=\"24px\" viewBox=\"0 -960 960 960\">\n",
              "    <path d=\"M120-120v-720h720v720H120Zm60-500h600v-160H180v160Zm220 220h160v-160H400v160Zm0 220h160v-160H400v160ZM180-400h160v-160H180v160Zm440 0h160v-160H620v160ZM180-180h160v-160H180v160Zm440 0h160v-160H620v160Z\"/>\n",
              "  </svg>\n",
              "    </button>\n",
              "\n",
              "  <style>\n",
              "    .colab-df-container {\n",
              "      display:flex;\n",
              "      gap: 12px;\n",
              "    }\n",
              "\n",
              "    .colab-df-convert {\n",
              "      background-color: #E8F0FE;\n",
              "      border: none;\n",
              "      border-radius: 50%;\n",
              "      cursor: pointer;\n",
              "      display: none;\n",
              "      fill: #1967D2;\n",
              "      height: 32px;\n",
              "      padding: 0 0 0 0;\n",
              "      width: 32px;\n",
              "    }\n",
              "\n",
              "    .colab-df-convert:hover {\n",
              "      background-color: #E2EBFA;\n",
              "      box-shadow: 0px 1px 2px rgba(60, 64, 67, 0.3), 0px 1px 3px 1px rgba(60, 64, 67, 0.15);\n",
              "      fill: #174EA6;\n",
              "    }\n",
              "\n",
              "    .colab-df-buttons div {\n",
              "      margin-bottom: 4px;\n",
              "    }\n",
              "\n",
              "    [theme=dark] .colab-df-convert {\n",
              "      background-color: #3B4455;\n",
              "      fill: #D2E3FC;\n",
              "    }\n",
              "\n",
              "    [theme=dark] .colab-df-convert:hover {\n",
              "      background-color: #434B5C;\n",
              "      box-shadow: 0px 1px 3px 1px rgba(0, 0, 0, 0.15);\n",
              "      filter: drop-shadow(0px 1px 2px rgba(0, 0, 0, 0.3));\n",
              "      fill: #FFFFFF;\n",
              "    }\n",
              "  </style>\n",
              "\n",
              "    <script>\n",
              "      const buttonEl =\n",
              "        document.querySelector('#df-00327250-34c8-4908-82cf-0f738bfb8d37 button.colab-df-convert');\n",
              "      buttonEl.style.display =\n",
              "        google.colab.kernel.accessAllowed ? 'block' : 'none';\n",
              "\n",
              "      async function convertToInteractive(key) {\n",
              "        const element = document.querySelector('#df-00327250-34c8-4908-82cf-0f738bfb8d37');\n",
              "        const dataTable =\n",
              "          await google.colab.kernel.invokeFunction('convertToInteractive',\n",
              "                                                    [key], {});\n",
              "        if (!dataTable) return;\n",
              "\n",
              "        const docLinkHtml = 'Like what you see? Visit the ' +\n",
              "          '<a target=\"_blank\" href=https://colab.research.google.com/notebooks/data_table.ipynb>data table notebook</a>'\n",
              "          + ' to learn more about interactive tables.';\n",
              "        element.innerHTML = '';\n",
              "        dataTable['output_type'] = 'display_data';\n",
              "        await google.colab.output.renderOutput(dataTable, element);\n",
              "        const docLink = document.createElement('div');\n",
              "        docLink.innerHTML = docLinkHtml;\n",
              "        element.appendChild(docLink);\n",
              "      }\n",
              "    </script>\n",
              "  </div>\n",
              "\n",
              "    </div>\n",
              "  </div>\n"
            ]
          },
          "metadata": {},
          "execution_count": 7
        }
      ],
      "source": [
        "don1.head(1)"
      ]
    },
    {
      "cell_type": "code",
      "execution_count": 8,
      "metadata": {
        "colab": {
          "base_uri": "https://localhost:8080/"
        },
        "id": "YtMDLqDqyn-e",
        "outputId": "39d0f54b-a4d8-4bdb-c3db-be6e0a00939b"
      },
      "outputs": [
        {
          "output_type": "execute_result",
          "data": {
            "text/plain": [
              "(119684, 45)"
            ]
          },
          "metadata": {},
          "execution_count": 8
        }
      ],
      "source": [
        "ca=pd.read_excel(r'/content/Ines - caractéristiques des étudiants depuis 2012 v2 (1).xlsx')\n",
        "ca.shape"
      ]
    },
    {
      "cell_type": "code",
      "execution_count": 171,
      "metadata": {
        "colab": {
          "base_uri": "https://localhost:8080/"
        },
        "id": "H_ym4ZLYqbs6",
        "outputId": "c38e8647-4ad9-4269-b297-94ae94280e3a"
      },
      "outputs": [
        {
          "output_type": "execute_result",
          "data": {
            "text/plain": [
              "(499, 9)"
            ]
          },
          "metadata": {},
          "execution_count": 171
        }
      ],
      "source": [
        "pred=pd.read_excel(r'/content/prediction_licence1 (69).xlsx')\n",
        "#pred=pd.read_excel(r'/content/nouvpred (3).xlsx')\n",
        "pred.shape"
      ]
    },
    {
      "cell_type": "code",
      "source": [],
      "metadata": {
        "id": "R1VmGtLbYsz3"
      },
      "execution_count": 171,
      "outputs": []
    },
    {
      "cell_type": "code",
      "source": [],
      "metadata": {
        "id": "ccquTWQGKwki"
      },
      "execution_count": 171,
      "outputs": []
    },
    {
      "cell_type": "code",
      "execution_count": 172,
      "metadata": {
        "colab": {
          "base_uri": "https://localhost:8080/"
        },
        "id": "O4F7OgVG2Vjh",
        "outputId": "e04ed80d-9c75-4d09-82c2-068babb1b916"
      },
      "outputs": [
        {
          "output_type": "execute_result",
          "data": {
            "text/plain": [
              "(11172, 45)"
            ]
          },
          "metadata": {},
          "execution_count": 172
        }
      ],
      "source": [
        "ca2021=ca[ca['Année de l\\'inscription']==2021]\n",
        "ca2021.shape"
      ]
    },
    {
      "cell_type": "code",
      "execution_count": 173,
      "metadata": {
        "colab": {
          "base_uri": "https://localhost:8080/"
        },
        "id": "yxCkKIFH2jpY",
        "outputId": "d1552632-de81-4f04-ee10-d546acf60cf9"
      },
      "outputs": [
        {
          "output_type": "execute_result",
          "data": {
            "text/plain": [
              "(641, 53)"
            ]
          },
          "metadata": {},
          "execution_count": 173
        }
      ],
      "source": [
        "cali1=ca2021[ca2021[\"Type d'étape\"]==\"L1\"]\n",
        "cali1=cali1[cali1['Nombre d’admis VET']==0]\n",
        "calili=pd.merge(cali1,don1,on=\"Individu - Code Etudiant\")\n",
        "calili.shape"
      ]
    },
    {
      "cell_type": "code",
      "execution_count": 174,
      "metadata": {
        "id": "XDGxNZBf3QeU"
      },
      "outputs": [],
      "source": [
        "cli=calili.reset_index(drop=True)\n"
      ]
    },
    {
      "cell_type": "code",
      "execution_count": 175,
      "metadata": {
        "colab": {
          "base_uri": "https://localhost:8080/"
        },
        "id": "aw53muWw3hz9",
        "outputId": "f6ade8da-9c2e-4056-cab0-76de928eac55"
      },
      "outputs": [
        {
          "output_type": "execute_result",
          "data": {
            "text/plain": [
              "[\"Année de l'inscription_x\",\n",
              " 'Niveau',\n",
              " \"Type d'étape\",\n",
              " 'Diplôme SISE intitulé 1 (lib.)',\n",
              " 'IAE - Etape (lib.)_x',\n",
              " 'Individu - Code Etudiant',\n",
              " 'Individu - Sexe',\n",
              " 'Nationalité (code)',\n",
              " 'Nationalité (lib.)',\n",
              " 'Nationalité - continent',\n",
              " 'Adresse fixe - Code postal',\n",
              " 'Naissance - Date',\n",
              " 'Age au bac',\n",
              " \"Bac - Année d'obtention\",\n",
              " 'Bac ou équivalence (code)',\n",
              " 'Groupe de bac',\n",
              " 'Série du bac',\n",
              " 'Spécialité 1 du bac NBGE',\n",
              " 'Bac - Mention (lib.)',\n",
              " 'Situation année précédente (lib.)',\n",
              " 'Diplôme SISE (type)',\n",
              " 'Discipline SISE (code)',\n",
              " 'Discipline SISE (lib.)',\n",
              " 'Secteur disciplinaire SISE (code)',\n",
              " 'Secteur disciplinaire SISE (lib.)',\n",
              " 'Niveau dans le diplôme (calc)',\n",
              " 'PCS - parent (code)',\n",
              " 'PCS - parent (lib.)',\n",
              " \"Régime d'inscription (code)\",\n",
              " \"Régime d'inscription (lib.)\",\n",
              " 'Boursier (O/N)',\n",
              " 'Composante',\n",
              " 'Cursus LMD',\n",
              " 'IAE - Etape (code)_x',\n",
              " 'Etudiant oui ou oui-si',\n",
              " \"Année 1ère inscript. dans l'étab.\",\n",
              " 'Année de dernière inscription',\n",
              " 'Nombre d’admis VET',\n",
              " 'Adresse fixe - Commune (code)',\n",
              " 'Diplôme Evry ou Saclay',\n",
              " 'Bac - Etab. préparation (code)',\n",
              " 'Code commune Lycée',\n",
              " 'IPS du lycée',\n",
              " 'PCS - autre parent (code)',\n",
              " 'Profession du parent 2',\n",
              " \"Année de l'inscription_y\",\n",
              " 'IAE - Etape (code)_y',\n",
              " 'IAE - Etape (lib.)_y',\n",
              " 'Note Session 1',\n",
              " 'Résultat Session 1',\n",
              " 'Note Session 2',\n",
              " 'Résultat Session 2',\n",
              " 'Nombre_d_admis_VET']"
            ]
          },
          "metadata": {},
          "execution_count": 175
        }
      ],
      "source": [
        "cli.columns.tolist()"
      ]
    },
    {
      "cell_type": "code",
      "execution_count": 176,
      "metadata": {
        "id": "b9CTq4J93K5i"
      },
      "outputs": [],
      "source": [
        "rna=[]\n",
        "for i in range(len(cli)):\n",
        "  if (cli[\"Nombre d’admis VET\"][i]==0) & (cli['Nombre_d_admis_VET'][i]==0):\n",
        "    rna.append(\"RNA\")\n",
        "  else:\n",
        "    rna.append(\"NonRNA\")\n"
      ]
    },
    {
      "cell_type": "code",
      "execution_count": 177,
      "metadata": {
        "colab": {
          "base_uri": "https://localhost:8080/"
        },
        "id": "QpaD3xvE4SeL",
        "outputId": "64e284a3-8027-44c9-ad49-b541159d01ef"
      },
      "outputs": [
        {
          "output_type": "stream",
          "name": "stdout",
          "text": [
            "    RNA_2023\n",
            "0     NonRNA\n",
            "1        RNA\n",
            "2     NonRNA\n",
            "3        RNA\n",
            "4        RNA\n",
            "5     NonRNA\n",
            "6        RNA\n",
            "7        RNA\n",
            "8        RNA\n",
            "9     NonRNA\n",
            "10    NonRNA\n",
            "11       RNA\n",
            "12    NonRNA\n",
            "13       RNA\n",
            "14       RNA\n",
            "15       RNA\n",
            "16       RNA\n",
            "17       RNA\n",
            "18       RNA\n",
            "19       RNA\n",
            "20    NonRNA\n",
            "21       RNA\n",
            "22       RNA\n",
            "23       RNA\n",
            "24       RNA\n",
            "25       RNA\n",
            "26       RNA\n",
            "27    NonRNA\n",
            "28       RNA\n",
            "29       RNA\n",
            "30       RNA\n",
            "31       RNA\n",
            "32       RNA\n",
            "33       RNA\n",
            "34    NonRNA\n",
            "35       RNA\n",
            "36       RNA\n",
            "37    NonRNA\n",
            "38       RNA\n",
            "39       RNA\n",
            "40       RNA\n",
            "41       RNA\n",
            "42    NonRNA\n",
            "43       RNA\n",
            "44    NonRNA\n",
            "45    NonRNA\n",
            "46    NonRNA\n",
            "47       RNA\n",
            "48       RNA\n",
            "49    NonRNA\n",
            "50       RNA\n",
            "51       RNA\n",
            "52    NonRNA\n",
            "53    NonRNA\n",
            "54       RNA\n",
            "55    NonRNA\n",
            "56    NonRNA\n",
            "57    NonRNA\n",
            "58       RNA\n",
            "59    NonRNA\n",
            "60       RNA\n",
            "61    NonRNA\n",
            "62       RNA\n",
            "63       RNA\n",
            "64    NonRNA\n",
            "65       RNA\n",
            "66    NonRNA\n",
            "67    NonRNA\n",
            "68    NonRNA\n",
            "69    NonRNA\n",
            "70       RNA\n",
            "71       RNA\n",
            "72       RNA\n",
            "73       RNA\n",
            "74       RNA\n",
            "75       RNA\n",
            "76       RNA\n",
            "77       RNA\n",
            "78       RNA\n",
            "79       RNA\n",
            "80    NonRNA\n",
            "81       RNA\n",
            "82       RNA\n",
            "83       RNA\n",
            "84    NonRNA\n",
            "85    NonRNA\n",
            "86       RNA\n",
            "87       RNA\n",
            "88       RNA\n",
            "89       RNA\n",
            "90       RNA\n",
            "91    NonRNA\n",
            "92       RNA\n",
            "93       RNA\n",
            "94    NonRNA\n",
            "95       RNA\n",
            "96    NonRNA\n",
            "97       RNA\n",
            "98       RNA\n",
            "99    NonRNA\n",
            "100      RNA\n",
            "101      RNA\n",
            "102      RNA\n",
            "103      RNA\n",
            "104      RNA\n",
            "105      RNA\n",
            "106   NonRNA\n",
            "107      RNA\n",
            "108      RNA\n",
            "109      RNA\n",
            "110      RNA\n",
            "111      RNA\n",
            "112   NonRNA\n",
            "113   NonRNA\n",
            "114      RNA\n",
            "115   NonRNA\n",
            "116   NonRNA\n",
            "117   NonRNA\n",
            "118      RNA\n",
            "119   NonRNA\n",
            "120      RNA\n",
            "121      RNA\n",
            "122   NonRNA\n",
            "123      RNA\n",
            "124   NonRNA\n",
            "125      RNA\n",
            "126      RNA\n",
            "127      RNA\n",
            "128      RNA\n",
            "129   NonRNA\n",
            "130   NonRNA\n",
            "131      RNA\n",
            "132   NonRNA\n",
            "133   NonRNA\n",
            "134   NonRNA\n",
            "135      RNA\n",
            "136   NonRNA\n",
            "137      RNA\n",
            "138      RNA\n",
            "139      RNA\n",
            "140      RNA\n",
            "141      RNA\n",
            "142      RNA\n",
            "143      RNA\n",
            "144      RNA\n",
            "145   NonRNA\n",
            "146   NonRNA\n",
            "147      RNA\n",
            "148      RNA\n",
            "149      RNA\n",
            "150   NonRNA\n",
            "151      RNA\n",
            "152      RNA\n",
            "153      RNA\n",
            "154      RNA\n",
            "155      RNA\n",
            "156   NonRNA\n",
            "157      RNA\n",
            "158   NonRNA\n",
            "159   NonRNA\n",
            "160   NonRNA\n",
            "161   NonRNA\n",
            "162      RNA\n",
            "163      RNA\n",
            "164   NonRNA\n",
            "165      RNA\n",
            "166   NonRNA\n",
            "167   NonRNA\n",
            "168   NonRNA\n",
            "169   NonRNA\n",
            "170      RNA\n",
            "171   NonRNA\n",
            "172      RNA\n",
            "173      RNA\n",
            "174   NonRNA\n",
            "175      RNA\n",
            "176   NonRNA\n",
            "177      RNA\n",
            "178   NonRNA\n",
            "179      RNA\n",
            "180   NonRNA\n",
            "181   NonRNA\n",
            "182      RNA\n",
            "183   NonRNA\n",
            "184   NonRNA\n",
            "185   NonRNA\n",
            "186      RNA\n",
            "187      RNA\n",
            "188      RNA\n",
            "189      RNA\n",
            "190      RNA\n",
            "191   NonRNA\n",
            "192      RNA\n",
            "193      RNA\n",
            "194   NonRNA\n",
            "195      RNA\n",
            "196   NonRNA\n",
            "197      RNA\n",
            "198      RNA\n",
            "199      RNA\n",
            "200      RNA\n",
            "201      RNA\n",
            "202      RNA\n",
            "203      RNA\n",
            "204   NonRNA\n",
            "205      RNA\n",
            "206   NonRNA\n",
            "207      RNA\n",
            "208   NonRNA\n",
            "209      RNA\n",
            "210      RNA\n",
            "211      RNA\n",
            "212      RNA\n",
            "213   NonRNA\n",
            "214      RNA\n",
            "215   NonRNA\n",
            "216   NonRNA\n",
            "217   NonRNA\n",
            "218   NonRNA\n",
            "219   NonRNA\n",
            "220      RNA\n",
            "221      RNA\n",
            "222      RNA\n",
            "223      RNA\n",
            "224   NonRNA\n",
            "225   NonRNA\n",
            "226   NonRNA\n",
            "227      RNA\n",
            "228      RNA\n",
            "229      RNA\n",
            "230      RNA\n",
            "231   NonRNA\n",
            "232   NonRNA\n",
            "233      RNA\n",
            "234   NonRNA\n",
            "235      RNA\n",
            "236   NonRNA\n",
            "237   NonRNA\n",
            "238   NonRNA\n",
            "239      RNA\n",
            "240   NonRNA\n",
            "241   NonRNA\n",
            "242      RNA\n",
            "243   NonRNA\n",
            "244   NonRNA\n",
            "245   NonRNA\n",
            "246      RNA\n",
            "247      RNA\n",
            "248   NonRNA\n",
            "249   NonRNA\n",
            "250   NonRNA\n",
            "251   NonRNA\n",
            "252   NonRNA\n",
            "253   NonRNA\n",
            "254   NonRNA\n",
            "255      RNA\n",
            "256   NonRNA\n",
            "257      RNA\n",
            "258   NonRNA\n",
            "259      RNA\n",
            "260      RNA\n",
            "261      RNA\n",
            "262   NonRNA\n",
            "263      RNA\n",
            "264      RNA\n",
            "265      RNA\n",
            "266      RNA\n",
            "267      RNA\n",
            "268      RNA\n",
            "269   NonRNA\n",
            "270      RNA\n",
            "271      RNA\n",
            "272      RNA\n",
            "273      RNA\n",
            "274      RNA\n",
            "275      RNA\n",
            "276   NonRNA\n",
            "277      RNA\n",
            "278      RNA\n",
            "279      RNA\n",
            "280   NonRNA\n",
            "281      RNA\n",
            "282      RNA\n",
            "283      RNA\n",
            "284   NonRNA\n",
            "285   NonRNA\n",
            "286   NonRNA\n",
            "287   NonRNA\n",
            "288      RNA\n",
            "289      RNA\n",
            "290   NonRNA\n",
            "291   NonRNA\n",
            "292      RNA\n",
            "293   NonRNA\n",
            "294   NonRNA\n",
            "295   NonRNA\n",
            "296      RNA\n",
            "297   NonRNA\n",
            "298   NonRNA\n",
            "299      RNA\n",
            "300      RNA\n",
            "301   NonRNA\n",
            "302      RNA\n",
            "303      RNA\n",
            "304      RNA\n",
            "305      RNA\n",
            "306      RNA\n",
            "307   NonRNA\n",
            "308      RNA\n",
            "309      RNA\n",
            "310   NonRNA\n",
            "311      RNA\n",
            "312   NonRNA\n",
            "313      RNA\n",
            "314      RNA\n",
            "315   NonRNA\n",
            "316      RNA\n",
            "317      RNA\n",
            "318   NonRNA\n",
            "319   NonRNA\n",
            "320      RNA\n",
            "321      RNA\n",
            "322   NonRNA\n",
            "323   NonRNA\n",
            "324      RNA\n",
            "325      RNA\n",
            "326      RNA\n",
            "327      RNA\n",
            "328   NonRNA\n",
            "329      RNA\n",
            "330   NonRNA\n",
            "331   NonRNA\n",
            "332   NonRNA\n",
            "333      RNA\n",
            "334   NonRNA\n",
            "335   NonRNA\n",
            "336      RNA\n",
            "337      RNA\n",
            "338   NonRNA\n",
            "339      RNA\n",
            "340      RNA\n",
            "341      RNA\n",
            "342   NonRNA\n",
            "343      RNA\n",
            "344      RNA\n",
            "345   NonRNA\n",
            "346      RNA\n",
            "347   NonRNA\n",
            "348   NonRNA\n",
            "349      RNA\n",
            "350   NonRNA\n",
            "351      RNA\n",
            "352      RNA\n",
            "353      RNA\n",
            "354      RNA\n",
            "355   NonRNA\n",
            "356   NonRNA\n",
            "357      RNA\n",
            "358      RNA\n",
            "359      RNA\n",
            "360   NonRNA\n",
            "361      RNA\n",
            "362   NonRNA\n",
            "363      RNA\n",
            "364      RNA\n",
            "365   NonRNA\n",
            "366      RNA\n",
            "367   NonRNA\n",
            "368   NonRNA\n",
            "369      RNA\n",
            "370      RNA\n",
            "371   NonRNA\n",
            "372      RNA\n",
            "373   NonRNA\n",
            "374      RNA\n",
            "375      RNA\n",
            "376      RNA\n",
            "377      RNA\n",
            "378   NonRNA\n",
            "379   NonRNA\n",
            "380   NonRNA\n",
            "381      RNA\n",
            "382      RNA\n",
            "383   NonRNA\n",
            "384   NonRNA\n",
            "385      RNA\n",
            "386      RNA\n",
            "387      RNA\n",
            "388      RNA\n",
            "389   NonRNA\n",
            "390      RNA\n",
            "391   NonRNA\n",
            "392   NonRNA\n",
            "393      RNA\n",
            "394   NonRNA\n",
            "395      RNA\n",
            "396      RNA\n",
            "397      RNA\n",
            "398      RNA\n",
            "399   NonRNA\n",
            "400   NonRNA\n",
            "401   NonRNA\n",
            "402      RNA\n",
            "403      RNA\n",
            "404      RNA\n",
            "405      RNA\n",
            "406      RNA\n",
            "407      RNA\n",
            "408      RNA\n",
            "409      RNA\n",
            "410   NonRNA\n",
            "411   NonRNA\n",
            "412      RNA\n",
            "413      RNA\n",
            "414   NonRNA\n",
            "415      RNA\n",
            "416      RNA\n",
            "417      RNA\n",
            "418      RNA\n",
            "419      RNA\n",
            "420      RNA\n",
            "421      RNA\n",
            "422      RNA\n",
            "423      RNA\n",
            "424      RNA\n",
            "425   NonRNA\n",
            "426      RNA\n",
            "427      RNA\n",
            "428      RNA\n",
            "429      RNA\n",
            "430      RNA\n",
            "431      RNA\n",
            "432   NonRNA\n",
            "433      RNA\n",
            "434      RNA\n",
            "435      RNA\n",
            "436   NonRNA\n",
            "437   NonRNA\n",
            "438   NonRNA\n",
            "439   NonRNA\n",
            "440   NonRNA\n",
            "441      RNA\n",
            "442   NonRNA\n",
            "443      RNA\n",
            "444      RNA\n",
            "445      RNA\n",
            "446   NonRNA\n",
            "447      RNA\n",
            "448      RNA\n",
            "449   NonRNA\n",
            "450      RNA\n",
            "451      RNA\n",
            "452      RNA\n",
            "453   NonRNA\n",
            "454      RNA\n",
            "455      RNA\n",
            "456      RNA\n",
            "457      RNA\n",
            "458   NonRNA\n",
            "459   NonRNA\n",
            "460   NonRNA\n",
            "461      RNA\n",
            "462      RNA\n",
            "463   NonRNA\n",
            "464   NonRNA\n",
            "465      RNA\n",
            "466      RNA\n",
            "467   NonRNA\n",
            "468      RNA\n",
            "469      RNA\n",
            "470   NonRNA\n",
            "471   NonRNA\n",
            "472   NonRNA\n",
            "473   NonRNA\n",
            "474   NonRNA\n",
            "475      RNA\n",
            "476   NonRNA\n",
            "477      RNA\n",
            "478   NonRNA\n",
            "479   NonRNA\n",
            "480      RNA\n",
            "481   NonRNA\n",
            "482      RNA\n",
            "483   NonRNA\n",
            "484   NonRNA\n",
            "485   NonRNA\n",
            "486   NonRNA\n",
            "487   NonRNA\n",
            "488      RNA\n",
            "489      RNA\n",
            "490   NonRNA\n",
            "491   NonRNA\n",
            "492      RNA\n",
            "493      RNA\n",
            "494      RNA\n",
            "495      RNA\n",
            "496      RNA\n",
            "497   NonRNA\n",
            "498      RNA\n",
            "499      RNA\n",
            "500   NonRNA\n",
            "501      RNA\n",
            "502   NonRNA\n",
            "503      RNA\n",
            "504   NonRNA\n",
            "505      RNA\n",
            "506      RNA\n",
            "507   NonRNA\n",
            "508      RNA\n",
            "509      RNA\n",
            "510      RNA\n",
            "511   NonRNA\n",
            "512      RNA\n",
            "513   NonRNA\n",
            "514   NonRNA\n",
            "515      RNA\n",
            "516      RNA\n",
            "517   NonRNA\n",
            "518      RNA\n",
            "519      RNA\n",
            "520      RNA\n",
            "521   NonRNA\n",
            "522   NonRNA\n",
            "523   NonRNA\n",
            "524   NonRNA\n",
            "525   NonRNA\n",
            "526      RNA\n",
            "527   NonRNA\n",
            "528   NonRNA\n",
            "529      RNA\n",
            "530      RNA\n",
            "531      RNA\n",
            "532      RNA\n",
            "533   NonRNA\n",
            "534   NonRNA\n",
            "535   NonRNA\n",
            "536   NonRNA\n",
            "537   NonRNA\n",
            "538      RNA\n",
            "539   NonRNA\n",
            "540   NonRNA\n",
            "541      RNA\n",
            "542      RNA\n",
            "543      RNA\n",
            "544   NonRNA\n",
            "545      RNA\n",
            "546   NonRNA\n",
            "547      RNA\n",
            "548      RNA\n",
            "549      RNA\n",
            "550      RNA\n",
            "551      RNA\n",
            "552      RNA\n",
            "553      RNA\n",
            "554      RNA\n",
            "555   NonRNA\n",
            "556      RNA\n",
            "557      RNA\n",
            "558   NonRNA\n",
            "559      RNA\n",
            "560      RNA\n",
            "561      RNA\n",
            "562      RNA\n",
            "563      RNA\n",
            "564   NonRNA\n",
            "565      RNA\n",
            "566   NonRNA\n",
            "567      RNA\n",
            "568   NonRNA\n",
            "569      RNA\n",
            "570      RNA\n",
            "571      RNA\n",
            "572   NonRNA\n",
            "573      RNA\n",
            "574      RNA\n",
            "575      RNA\n",
            "576      RNA\n",
            "577      RNA\n",
            "578      RNA\n",
            "579      RNA\n",
            "580   NonRNA\n",
            "581      RNA\n",
            "582      RNA\n",
            "583   NonRNA\n",
            "584   NonRNA\n",
            "585   NonRNA\n",
            "586      RNA\n",
            "587   NonRNA\n",
            "588      RNA\n",
            "589   NonRNA\n",
            "590      RNA\n",
            "591   NonRNA\n",
            "592   NonRNA\n",
            "593      RNA\n",
            "594      RNA\n",
            "595      RNA\n",
            "596   NonRNA\n",
            "597      RNA\n",
            "598   NonRNA\n",
            "599      RNA\n",
            "600      RNA\n",
            "601   NonRNA\n",
            "602      RNA\n",
            "603      RNA\n",
            "604      RNA\n",
            "605   NonRNA\n",
            "606   NonRNA\n",
            "607      RNA\n",
            "608   NonRNA\n",
            "609   NonRNA\n",
            "610   NonRNA\n",
            "611   NonRNA\n",
            "612      RNA\n",
            "613      RNA\n",
            "614      RNA\n",
            "615      RNA\n",
            "616   NonRNA\n",
            "617      RNA\n",
            "618   NonRNA\n",
            "619      RNA\n",
            "620      RNA\n",
            "621      RNA\n",
            "622   NonRNA\n",
            "623   NonRNA\n",
            "624   NonRNA\n",
            "625   NonRNA\n",
            "626      RNA\n",
            "627   NonRNA\n",
            "628      RNA\n",
            "629      RNA\n",
            "630      RNA\n",
            "631   NonRNA\n",
            "632   NonRNA\n",
            "633      RNA\n",
            "634      RNA\n",
            "635   NonRNA\n",
            "636   NonRNA\n",
            "637   NonRNA\n",
            "638   NonRNA\n",
            "639      RNA\n",
            "640      RNA\n"
          ]
        },
        {
          "output_type": "execute_result",
          "data": {
            "text/plain": [
              "(641, 54)"
            ]
          },
          "metadata": {},
          "execution_count": 177
        }
      ],
      "source": [
        "df_rna = pd.DataFrame(rna, columns=['RNA_2023'])\n",
        "\n",
        "print(df_rna)\n",
        "don2=cli.assign(RNA_2023=df_rna[\"RNA_2023\"])\n",
        "don2.shape"
      ]
    },
    {
      "cell_type": "code",
      "execution_count": 178,
      "metadata": {
        "colab": {
          "base_uri": "https://localhost:8080/"
        },
        "id": "_L5yE-sO_Vqg",
        "outputId": "7dca555e-0f25-4005-cb6f-f34bdf105383"
      },
      "outputs": [
        {
          "output_type": "stream",
          "name": "stdout",
          "text": [
            "Success\n"
          ]
        }
      ],
      "source": [
        "file8='rna.xlsx'\n",
        "df_rna.to_excel(file8)\n",
        "print(\"Success\")"
      ]
    },
    {
      "cell_type": "code",
      "execution_count": 178,
      "metadata": {
        "id": "E4jndu-3UziS"
      },
      "outputs": [],
      "source": []
    },
    {
      "cell_type": "code",
      "execution_count": 179,
      "metadata": {
        "colab": {
          "base_uri": "https://localhost:8080/"
        },
        "id": "iHYUx_zMXgh8",
        "outputId": "d9be9743-c584-482c-a0f8-54dbbbc9ae95"
      },
      "outputs": [
        {
          "output_type": "execute_result",
          "data": {
            "text/plain": [
              "RNA_2023\n",
              "RNA         381\n",
              "NonRNA      260\n",
              "dtype: int64"
            ]
          },
          "metadata": {},
          "execution_count": 179
        }
      ],
      "source": [
        "df_rna.value_counts()"
      ]
    },
    {
      "cell_type": "code",
      "execution_count": 180,
      "metadata": {
        "colab": {
          "base_uri": "https://localhost:8080/"
        },
        "id": "9tUnYgdK6r4O",
        "outputId": "b63f20f1-e515-41f0-91e5-4299776c9ca8"
      },
      "outputs": [
        {
          "output_type": "execute_result",
          "data": {
            "text/plain": [
              "[\"Année de l'inscription_x\",\n",
              " 'Niveau',\n",
              " \"Type d'étape\",\n",
              " 'Diplôme SISE intitulé 1 (lib.)',\n",
              " 'IAE - Etape (lib.)_x',\n",
              " 'Individu - Code Etudiant',\n",
              " 'Individu - Sexe',\n",
              " 'Nationalité (code)',\n",
              " 'Nationalité (lib.)',\n",
              " 'Nationalité - continent',\n",
              " 'Adresse fixe - Code postal',\n",
              " 'Naissance - Date',\n",
              " 'Age au bac',\n",
              " \"Bac - Année d'obtention\",\n",
              " 'Bac ou équivalence (code)',\n",
              " 'Groupe de bac',\n",
              " 'Série du bac',\n",
              " 'Spécialité 1 du bac NBGE',\n",
              " 'Bac - Mention (lib.)',\n",
              " 'Situation année précédente (lib.)',\n",
              " 'Diplôme SISE (type)',\n",
              " 'Discipline SISE (code)',\n",
              " 'Discipline SISE (lib.)',\n",
              " 'Secteur disciplinaire SISE (code)',\n",
              " 'Secteur disciplinaire SISE (lib.)',\n",
              " 'Niveau dans le diplôme (calc)',\n",
              " 'PCS - parent (code)',\n",
              " 'PCS - parent (lib.)',\n",
              " \"Régime d'inscription (code)\",\n",
              " \"Régime d'inscription (lib.)\",\n",
              " 'Boursier (O/N)',\n",
              " 'Composante',\n",
              " 'Cursus LMD',\n",
              " 'IAE - Etape (code)_x',\n",
              " 'Etudiant oui ou oui-si',\n",
              " \"Année 1ère inscript. dans l'étab.\",\n",
              " 'Année de dernière inscription',\n",
              " 'Nombre d’admis VET',\n",
              " 'Adresse fixe - Commune (code)',\n",
              " 'Diplôme Evry ou Saclay',\n",
              " 'Bac - Etab. préparation (code)',\n",
              " 'Code commune Lycée',\n",
              " 'IPS du lycée',\n",
              " 'PCS - autre parent (code)',\n",
              " 'Profession du parent 2',\n",
              " \"Année de l'inscription_y\",\n",
              " 'IAE - Etape (code)_y',\n",
              " 'IAE - Etape (lib.)_y',\n",
              " 'Note Session 1',\n",
              " 'Résultat Session 1',\n",
              " 'Note Session 2',\n",
              " 'Résultat Session 2',\n",
              " 'Nombre_d_admis_VET',\n",
              " 'RNA_2023']"
            ]
          },
          "metadata": {},
          "execution_count": 180
        }
      ],
      "source": [
        "don2.columns.tolist()"
      ]
    },
    {
      "cell_type": "code",
      "source": [],
      "metadata": {
        "id": "JEUyS8zR5C_M"
      },
      "execution_count": 180,
      "outputs": []
    },
    {
      "cell_type": "code",
      "execution_count": 181,
      "metadata": {
        "colab": {
          "base_uri": "https://localhost:8080/"
        },
        "id": "CGSlY8KN4rAx",
        "outputId": "89691ca9-4968-49f2-94a4-6a55f9e0016f"
      },
      "outputs": [
        {
          "output_type": "execute_result",
          "data": {
            "text/plain": [
              "(497, 62)"
            ]
          },
          "metadata": {},
          "execution_count": 181
        }
      ],
      "source": [
        "pred=pred.rename(columns={'IndividuCodeEtudiant':'Individu - Code Etudiant'})\n",
        "inter=pd.merge(pred,don2,on=\"Individu - Code Etudiant\")\n",
        "inter.shape"
      ]
    },
    {
      "cell_type": "code",
      "source": [
        "for i in range(len(inter)):\n",
        "  if (inter['Résultat Session 2'][i]==\"Red. Non auto.\") or (inter['Résultat Session 1'][i]==\"Red. Non auto.\"):\n",
        "    inter['RNA_2023'][i]=\"RNA\""
      ],
      "metadata": {
        "colab": {
          "base_uri": "https://localhost:8080/"
        },
        "id": "loiz2hy9Tzkv",
        "outputId": "000dcb16-9010-4706-95ea-a03e4c0c39b2"
      },
      "execution_count": 182,
      "outputs": [
        {
          "output_type": "stream",
          "name": "stderr",
          "text": [
            "<ipython-input-182-fb7865b5159f>:3: SettingWithCopyWarning: \n",
            "A value is trying to be set on a copy of a slice from a DataFrame\n",
            "\n",
            "See the caveats in the documentation: https://pandas.pydata.org/pandas-docs/stable/user_guide/indexing.html#returning-a-view-versus-a-copy\n",
            "  inter['RNA_2023'][i]=\"RNA\"\n"
          ]
        }
      ]
    },
    {
      "cell_type": "code",
      "execution_count": 183,
      "metadata": {
        "colab": {
          "base_uri": "https://localhost:8080/"
        },
        "id": "zxwfrkF95axD",
        "outputId": "f8ffbe90-e34b-4702-a717-8280c5b74fde"
      },
      "outputs": [
        {
          "output_type": "stream",
          "name": "stdout",
          "text": [
            "Success\n"
          ]
        }
      ],
      "source": [
        "file3='intersec.xlsx'\n",
        "inter.to_excel(file3)\n",
        "print(\"Success\")"
      ]
    },
    {
      "cell_type": "code",
      "execution_count": 184,
      "metadata": {
        "colab": {
          "base_uri": "https://localhost:8080/"
        },
        "id": "TNqf5nhP6cXF",
        "outputId": "d18f8619-d2b5-412e-9ad1-c6040720fd07"
      },
      "outputs": [
        {
          "output_type": "execute_result",
          "data": {
            "text/plain": [
              "['Unnamed: 0',\n",
              " 'Individu - Code Etudiant',\n",
              " 'Note Session 1_Année_N',\n",
              " 'Résultat Session 1_Année_N',\n",
              " 'Note Session 2_Année_N',\n",
              " 'Résultat Session 2_Année_N',\n",
              " 'Série du bac_x',\n",
              " 'Predictions_RNA',\n",
              " 'Probabilité_RNA',\n",
              " \"Année de l'inscription_x\",\n",
              " 'Niveau',\n",
              " \"Type d'étape\",\n",
              " 'Diplôme SISE intitulé 1 (lib.)',\n",
              " 'IAE - Etape (lib.)_x',\n",
              " 'Individu - Sexe',\n",
              " 'Nationalité (code)',\n",
              " 'Nationalité (lib.)',\n",
              " 'Nationalité - continent',\n",
              " 'Adresse fixe - Code postal',\n",
              " 'Naissance - Date',\n",
              " 'Age au bac',\n",
              " \"Bac - Année d'obtention\",\n",
              " 'Bac ou équivalence (code)',\n",
              " 'Groupe de bac',\n",
              " 'Série du bac_y',\n",
              " 'Spécialité 1 du bac NBGE',\n",
              " 'Bac - Mention (lib.)',\n",
              " 'Situation année précédente (lib.)',\n",
              " 'Diplôme SISE (type)',\n",
              " 'Discipline SISE (code)',\n",
              " 'Discipline SISE (lib.)',\n",
              " 'Secteur disciplinaire SISE (code)',\n",
              " 'Secteur disciplinaire SISE (lib.)',\n",
              " 'Niveau dans le diplôme (calc)',\n",
              " 'PCS - parent (code)',\n",
              " 'PCS - parent (lib.)',\n",
              " \"Régime d'inscription (code)\",\n",
              " \"Régime d'inscription (lib.)\",\n",
              " 'Boursier (O/N)',\n",
              " 'Composante',\n",
              " 'Cursus LMD',\n",
              " 'IAE - Etape (code)_x',\n",
              " 'Etudiant oui ou oui-si',\n",
              " \"Année 1ère inscript. dans l'étab.\",\n",
              " 'Année de dernière inscription',\n",
              " 'Nombre d’admis VET',\n",
              " 'Adresse fixe - Commune (code)',\n",
              " 'Diplôme Evry ou Saclay',\n",
              " 'Bac - Etab. préparation (code)',\n",
              " 'Code commune Lycée',\n",
              " 'IPS du lycée',\n",
              " 'PCS - autre parent (code)',\n",
              " 'Profession du parent 2',\n",
              " \"Année de l'inscription_y\",\n",
              " 'IAE - Etape (code)_y',\n",
              " 'IAE - Etape (lib.)_y',\n",
              " 'Note Session 1',\n",
              " 'Résultat Session 1',\n",
              " 'Note Session 2',\n",
              " 'Résultat Session 2',\n",
              " 'Nombre_d_admis_VET',\n",
              " 'RNA_2023']"
            ]
          },
          "metadata": {},
          "execution_count": 184
        }
      ],
      "source": [
        "inter.columns.tolist()"
      ]
    },
    {
      "cell_type": "code",
      "execution_count": 185,
      "metadata": {
        "id": "_-8ObzUH5Vdj"
      },
      "outputs": [],
      "source": [
        "n=0\n",
        "for i in range(len(inter)):\n",
        "  #if inter['RNA_2023'][i]==inter['Prediction_RNA_2022'][i]:\n",
        "  if inter['RNA_2023'][i]==inter['Predictions_RNA'][i]:\n",
        "    n=n+1"
      ]
    },
    {
      "cell_type": "code",
      "execution_count": 186,
      "metadata": {
        "colab": {
          "base_uri": "https://localhost:8080/"
        },
        "id": "Qh2t9VkFBe3M",
        "outputId": "80a251cd-e50e-4923-af16-4e2ceeb43021"
      },
      "outputs": [
        {
          "output_type": "execute_result",
          "data": {
            "text/plain": [
              "RNA       303\n",
              "NonRNA    194\n",
              "Name: RNA_2023, dtype: int64"
            ]
          },
          "metadata": {},
          "execution_count": 186
        }
      ],
      "source": [
        "inter['RNA_2023'].value_counts()"
      ]
    },
    {
      "cell_type": "code",
      "execution_count": 187,
      "metadata": {
        "colab": {
          "base_uri": "https://localhost:8080/",
          "height": 718
        },
        "id": "3hFjIfnRcsQb",
        "outputId": "ac500c68-7838-4047-c1f2-2c0ef2ac468f"
      },
      "outputs": [
        {
          "output_type": "display_data",
          "data": {
            "text/plain": [
              "<Figure size 1000x800 with 2 Axes>"
            ],
            "image/png": "[encoded data removed]"
          },
          "metadata": {}
        }
      ],
      "source": [
        "\n",
        "confusion_matrix = pd.crosstab(inter['RNA_2023'],inter['Predictions_RNA'] )\n",
        "\n",
        "plt.figure(figsize=(10, 8))\n",
        "sns.heatmap(confusion_matrix, annot=True, cmap='Blues', fmt='d')\n",
        "plt.xlabel('Valeur Prédite')\n",
        "plt.ylabel('Valeur Réelle')\n",
        "plt.title('Carte de Chaleur - Valeurs Réelles vs. Prédites')\n",
        "plt.show()\n"
      ]
    },
    {
      "cell_type": "code",
      "execution_count": 188,
      "metadata": {
        "colab": {
          "base_uri": "https://localhost:8080/"
        },
        "id": "HxgUcPff7chG",
        "outputId": "2f12aa86-c8a7-45b1-f0b0-3d398f41e655"
      },
      "outputs": [
        {
          "output_type": "execute_result",
          "data": {
            "text/plain": [
              "0.7344064386317908"
            ]
          },
          "metadata": {},
          "execution_count": 188
        }
      ],
      "source": [
        "n/len(inter)"
      ]
    },
    {
      "cell_type": "code",
      "execution_count": 189,
      "metadata": {
        "colab": {
          "base_uri": "https://localhost:8080/"
        },
        "id": "zMWg3J4lDKGp",
        "outputId": "02f12c02-bf64-42c8-f84c-7a56d53047ba"
      },
      "outputs": [
        {
          "output_type": "execute_result",
          "data": {
            "text/plain": [
              "RNA       303\n",
              "NonRNA    194\n",
              "Name: RNA_2023, dtype: int64"
            ]
          },
          "metadata": {},
          "execution_count": 189
        }
      ],
      "source": [
        "inter['RNA_2023'].value_counts(normalize=False)"
      ]
    },
    {
      "cell_type": "code",
      "execution_count": 190,
      "metadata": {
        "colab": {
          "base_uri": "https://localhost:8080/"
        },
        "id": "nYr0ivYdIi9o",
        "outputId": "59f0b689-c524-4dd0-bb7c-c742037af3d7"
      },
      "outputs": [
        {
          "output_type": "execute_result",
          "data": {
            "text/plain": [
              "227"
            ]
          },
          "metadata": {},
          "execution_count": 190
        }
      ],
      "source": [
        "nR=0\n",
        "for i in range(len(inter)):\n",
        "  if (inter['RNA_2023'][i]==\"RNA\") & (inter['Predictions_RNA'][i]==\"RNA\"):\n",
        "  #if (inter['RNA_2023'][i]==\"RNA\") & (inter['Prediction_RNA_2022'][i]==\"RNA\"):\n",
        "    nR=nR+1\n",
        "nR"
      ]
    },
    {
      "cell_type": "code",
      "execution_count": 191,
      "metadata": {
        "colab": {
          "base_uri": "https://localhost:8080/"
        },
        "id": "Ss2cCYgSXh6C",
        "outputId": "5e40617a-a5a6-4fa7-db15-c1a9a164bdc3"
      },
      "outputs": [
        {
          "output_type": "execute_result",
          "data": {
            "text/plain": [
              "0.7160883280757098"
            ]
          },
          "metadata": {},
          "execution_count": 191
        }
      ],
      "source": [
        "nR/317"
      ]
    },
    {
      "cell_type": "code",
      "execution_count": 192,
      "metadata": {
        "colab": {
          "base_uri": "https://localhost:8080/"
        },
        "id": "l_77NQv0YMxq",
        "outputId": "afc04878-5ea3-4c7b-e12f-ae5af4ccb958"
      },
      "outputs": [
        {
          "output_type": "stream",
          "name": "stdout",
          "text": [
            "Success\n"
          ]
        }
      ],
      "source": [
        "inter1=inter[['Individu - Code Etudiant','Predictions_RNA','Probabilité_RNA','RNA_2023']]\n",
        "#inter1=inter[['Individu - Code Etudiant','Prediction_RNA_2022','Probabilité_RNA','RNA_2023']]\n",
        "file5='pred_reduit.xlsx'\n",
        "inter1.to_excel(file5)\n",
        "print(\"Success\")"
      ]
    },
    {
      "cell_type": "code",
      "execution_count": 193,
      "metadata": {
        "id": "2XSvKlytOApZ"
      },
      "outputs": [],
      "source": [
        "#predi=pd.read_excel(r'/content/pred_reduit.xlsx')\n"
      ]
    },
    {
      "cell_type": "code",
      "execution_count": 194,
      "metadata": {
        "id": "RP1PF5dJKqCQ"
      },
      "outputs": [],
      "source": [
        "#nn=0\n",
        "#for i in range(len(predi)):\n",
        "  #if predi['Predictions_RNA'][i]==predi['RNA_2023'][i]:\n",
        "    #nn=nn+1\n",
        "#nn/len(predi)"
      ]
    },
    {
      "cell_type": "code",
      "execution_count": 195,
      "metadata": {
        "colab": {
          "base_uri": "https://localhost:8080/"
        },
        "id": "rVD3c2IYTcb5",
        "outputId": "d8d77db6-ce9d-463d-cd3e-d19d8e72a04c"
      },
      "outputs": [
        {
          "output_type": "execute_result",
          "data": {
            "text/plain": [
              "(76, 62)"
            ]
          },
          "metadata": {},
          "execution_count": 195
        }
      ],
      "source": [
        "selected = inter[(inter['RNA_2023'] == 'RNA') & (inter['Predictions_RNA'] == 'NonRNA')]\n",
        "selected.shape"
      ]
    }
  ],
  "metadata": {
    "colab": {
      "provenance": [],
      "authorship_tag": "ABX9TyM+0n1+ifP+AsPfUojM3K29",
      "include_colab_link": true
    },
    "kernelspec": {
      "display_name": "Python 3",
      "name": "python3"
    },
    "language_info": {
      "name": "python"
    }
  },
  "nbformat": 4,
  "nbformat_minor": 0
}