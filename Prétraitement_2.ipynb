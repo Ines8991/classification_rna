{
  "nbformat": 4,
  "nbformat_minor": 0,
  "metadata": {
    "colab": {
      "provenance": [],
      "authorship_tag": "ABX9TyM0NQoKLc+i7KauxKxXRRhn",
      "include_colab_link": true
    },
    "kernelspec": {
      "name": "python3",
      "display_name": "Python 3"
    },
    "language_info": {
      "name": "python"
    }
  },
  "cells": [
    {
      "cell_type": "markdown",
      "metadata": {
        "id": "view-in-github",
        "colab_type": "text"
      },
      "source": [
        "<a href=\"https://colab.research.google.com/github/Ines8991/classification_rna/blob/main/Pr%C3%A9traitement_2.ipynb\" target=\"_parent\"><img src=\"https://colab.research.google.com/assets/colab-badge.svg\" alt=\"Open In Colab\"/></a>"
      ]
    },
    {
      "cell_type": "code",
      "execution_count": 1,
      "metadata": {
        "id": "sxndlqZxWGSf"
      },
      "outputs": [],
      "source": [
        "import numpy as np\n",
        "import matplotlib.pyplot as plt\n",
        "import pandas as pd\n",
        "import seaborn as sns\n",
        "from sklearn.model_selection import train_test_split"
      ]
    },
    {
      "cell_type": "code",
      "source": [
        "data=pd.read_excel(r'/content/donnees.xlsx')\n",
        "data.shape"
      ],
      "metadata": {
        "colab": {
          "base_uri": "https://localhost:8080/"
        },
        "id": "FZr359BMWLwn",
        "outputId": "88535e88-c61b-4d09-f76e-7edd93b96165"
      },
      "execution_count": 2,
      "outputs": [
        {
          "output_type": "execute_result",
          "data": {
            "text/plain": [
              "(50862, 73)"
            ]
          },
          "metadata": {},
          "execution_count": 2
        }
      ]
    },
    {
      "cell_type": "code",
      "source": [
        "data['Année_N'].unique()"
      ],
      "metadata": {
        "id": "AkXp9qJ9ou-K",
        "outputId": "b7a8ac97-8eed-47bc-f456-73bea0b06671",
        "colab": {
          "base_uri": "https://localhost:8080/"
        }
      },
      "execution_count": 3,
      "outputs": [
        {
          "output_type": "execute_result",
          "data": {
            "text/plain": [
              "array([2012, 2013, 2014, 2015, 2016, 2017, 2018, 2019, 2020, 2021])"
            ]
          },
          "metadata": {},
          "execution_count": 3
        }
      ]
    },
    {
      "cell_type": "markdown",
      "source": [
        "Traitement des valeurs manquantes"
      ],
      "metadata": {
        "id": "C6myQO22Wnfe"
      }
    },
    {
      "cell_type": "code",
      "source": [
        "result = data.isna().sum().to_string(max_rows=None)\n",
        "print(result)"
      ],
      "metadata": {
        "colab": {
          "base_uri": "https://localhost:8080/"
        },
        "id": "RNjzK5otWilo",
        "outputId": "43686fa6-411e-4e06-fc62-12be2a3a5f4d"
      },
      "execution_count": 4,
      "outputs": [
        {
          "output_type": "stream",
          "name": "stdout",
          "text": [
            "Année_N                                            0\n",
            "Individu - Code Etudiant                           0\n",
            "Individu - Sexe                                    0\n",
            "Nationalité (code)                                 0\n",
            "Nationalité (lib.)                                 0\n",
            "Nationalité - continent                            0\n",
            "Age au bac                                       184\n",
            "Bac ou équivalence (code)                          0\n",
            "Groupe de bac                                      0\n",
            "Série du bac                                       0\n",
            "Bac - Mention (lib.)                            2688\n",
            "Bac - Etab. préparation (code)                  8457\n",
            "Code commune Lycée                             11172\n",
            "IPS du lycée                                   11172\n",
            "Etudiant oui ou oui-si                             0\n",
            "PCS - parent (code)_Année_N                        0\n",
            "PCS - parent (lib.)_Année_N                        0\n",
            "PCS - autre parent (code)_Année_N                  1\n",
            "Profession du parent 2_Année_N                     1\n",
            "Adresse fixe - Commune (code)_Année_N            175\n",
            "nom_de_la_commune_Année_N                        307\n",
            "Distance_en_km_Année_N                           307\n",
            "Année 1ère inscript. dans l'étab._Année_N          0\n",
            "Année de dernière inscription_Année_N          11245\n",
            "Situation année précédente (lib.)_Année_N          0\n",
            "Diplôme Evry ou Saclay_Année_N                     0\n",
            "Niveau_Année_N                                   212\n",
            "Type d'étape_Année_N                               0\n",
            "IAE - Etape (lib.)_Année_N                         0\n",
            "IAE - Etape (code)_Année_N                         0\n",
            "Diplôme SISE (type)_Année_N                        1\n",
            "Diplôme SISE intitulé 1 (lib.)_Année_N             1\n",
            "Discipline SISE (code)_Année_N                    84\n",
            "Discipline SISE (lib.)_Année_N                    84\n",
            "Secteur disciplinaire SISE (code)_Année_N         84\n",
            "Secteur disciplinaire SISE (lib.)_Année_N         84\n",
            "Composante_Année_N                                 0\n",
            "Cursus LMD_Année_N                               477\n",
            "Niveau dans le diplôme (calc)_Année_N              0\n",
            "Régime d'inscription (code)_Année_N                0\n",
            "Régime d'inscription (lib.)_Année_N                0\n",
            "Boursier (O/N)_Année_N                             0\n",
            "Note Session 1_Année_N                         13596\n",
            "Résultat Session 1_Année_N                      2134\n",
            "Note Session 2_Année_N                         34980\n",
            "Résultat Session 2_Année_N                     30134\n",
            "Nombre d’admis VET_Année_N                         0\n",
            "PCS - parent (code)_Année_N+1                      0\n",
            "PCS - parent (lib.)_Année_N+1                      0\n",
            "PCS - autre parent (code)_Année_N+1                2\n",
            "Profession du parent 2_Année_N+1                   2\n",
            "Adresse fixe - Commune (code)_Année_N+1          287\n",
            "nom_de_la_commune_Année_N+1                      757\n",
            "Distance_en_km_Année_N+1                         757\n",
            "Situation année précédente (lib.)_Année_N+1        0\n",
            "Diplôme Evry ou Saclay_Année_N+1                   0\n",
            "Niveau_Année_N+1                                 999\n",
            "Type d'étape_Année_N+1                             0\n",
            "IAE - Etape (lib.)_Année_N+1                       0\n",
            "IAE - Etape (code)_Année_N+1                       0\n",
            "Diplôme SISE (type)_Année_N+1                     13\n",
            "Diplôme SISE intitulé 1 (lib.)_Année_N+1          13\n",
            "Discipline SISE (code)_Année_N+1                 102\n",
            "Discipline SISE (lib.)_Année_N+1                 102\n",
            "Secteur disciplinaire SISE (code)_Année_N+1      102\n",
            "Secteur disciplinaire SISE (lib.)_Année_N+1      102\n",
            "Composante_Année_N+1                               0\n",
            "Cursus LMD_Année_N+1                            1599\n",
            "Niveau dans le diplôme (calc)_Année_N+1            0\n",
            "Régime d'inscription (code)_Année_N+1              0\n",
            "Régime d'inscription (lib.)_Année_N+1              0\n",
            "Boursier (O/N)_Année_N+1                           0\n",
            "RNA                                                0\n"
          ]
        }
      ]
    },
    {
      "cell_type": "code",
      "source": [
        "data['Age au bac'].fillna(0,inplace=True)\n",
        "data['Bac - Mention (lib.)'].fillna(\"Sans mention\",inplace=True)\n",
        "data['Bac - Etab. préparation (code)'].fillna(0,inplace=True)\n",
        "data['Code commune Lycée'].fillna(0,inplace=True)\n",
        "data['IPS du lycée'].fillna(0,inplace=True)\n",
        "data['PCS - autre parent (code)_Année_N'].fillna(0,inplace=True)\n",
        "data['Profession du parent 2_Année_N'].fillna(\"NonRenseigné\",inplace=True)\n",
        "data['Adresse fixe - Commune (code)_Année_N'].fillna(0,inplace=True)\n",
        "data['Adresse fixe - Commune (code)_Année_N+1'].fillna(0,inplace=True)"
      ],
      "metadata": {
        "id": "HG95VDSG_rB2"
      },
      "execution_count": 5,
      "outputs": []
    },
    {
      "cell_type": "code",
      "source": [
        "np.isnan(data['Résultat Session 1_Année_N'][2])==False"
      ],
      "metadata": {
        "colab": {
          "base_uri": "https://localhost:8080/"
        },
        "id": "FoRUZPQFWAV2",
        "outputId": "f45e8be0-5cb9-4e47-dc73-61724dab409e"
      },
      "execution_count": 6,
      "outputs": [
        {
          "output_type": "execute_result",
          "data": {
            "text/plain": [
              "False"
            ]
          },
          "metadata": {},
          "execution_count": 6
        }
      ]
    },
    {
      "cell_type": "markdown",
      "source": [
        "Code pour associer chaque note à une mention au niveau des deux sessions. Entre 0 et 10 la mention \"Ajourné\" sera associée et pour une note de plus de 10 la mention \"Admis\" sera associée. Le but de cette opération est de réduire la taille des valeurs manquantes dans les 4 colonnes."
      ],
      "metadata": {
        "id": "Ezf_6UrtZvK3"
      }
    },
    {
      "cell_type": "code",
      "source": [
        "for i in range(len(data)):\n",
        "  if (data['Note Session 1_Année_N'][i]<10) & (data['Note Session 1_Année_N'][i]>=0) and pd.isnull(data['Résultat Session 1_Année_N'][i]) :\n",
        "    data['Résultat Session 1_Année_N'][i]=\"Ajourné\"\n",
        "  if (data['Note Session 2_Année_N'][i]<10) & (data['Note Session 2_Année_N'][i]>=0 and pd.isnull(data['Résultat Session 2_Année_N'][i])):\n",
        "    data['Résultat Session 2_Année_N'][i]=\"Ajourné\"\n",
        "  if (data['Note Session 1_Année_N'][i]>=10 and pd.isnull(data['Résultat Session 1_Année_N'][i])):\n",
        "    data['Résultat Session 1_Année_N'][i]=\"Admis\"\n",
        "  if (data['Note Session 2_Année_N'][i]>=10 and pd.isnull(data['Résultat Session 2_Année_N'][i])):\n",
        "    data['Résultat Session 2_Année_N'][i]=\"Admis\""
      ],
      "metadata": {
        "colab": {
          "base_uri": "https://localhost:8080/"
        },
        "id": "vAjhHGx0J7i7",
        "outputId": "68677ae2-01f7-4dab-bde5-8e1c079c9dac"
      },
      "execution_count": 7,
      "outputs": [
        {
          "output_type": "stream",
          "name": "stderr",
          "text": [
            "<ipython-input-7-afbde0ba3788>:9: SettingWithCopyWarning: \n",
            "A value is trying to be set on a copy of a slice from a DataFrame\n",
            "\n",
            "See the caveats in the documentation: https://pandas.pydata.org/pandas-docs/stable/user_guide/indexing.html#returning-a-view-versus-a-copy\n",
            "  data['Résultat Session 2_Année_N'][i]=\"Admis\"\n",
            "<ipython-input-7-afbde0ba3788>:7: SettingWithCopyWarning: \n",
            "A value is trying to be set on a copy of a slice from a DataFrame\n",
            "\n",
            "See the caveats in the documentation: https://pandas.pydata.org/pandas-docs/stable/user_guide/indexing.html#returning-a-view-versus-a-copy\n",
            "  data['Résultat Session 1_Année_N'][i]=\"Admis\"\n",
            "<ipython-input-7-afbde0ba3788>:5: SettingWithCopyWarning: \n",
            "A value is trying to be set on a copy of a slice from a DataFrame\n",
            "\n",
            "See the caveats in the documentation: https://pandas.pydata.org/pandas-docs/stable/user_guide/indexing.html#returning-a-view-versus-a-copy\n",
            "  data['Résultat Session 2_Année_N'][i]=\"Ajourné\"\n",
            "<ipython-input-7-afbde0ba3788>:3: SettingWithCopyWarning: \n",
            "A value is trying to be set on a copy of a slice from a DataFrame\n",
            "\n",
            "See the caveats in the documentation: https://pandas.pydata.org/pandas-docs/stable/user_guide/indexing.html#returning-a-view-versus-a-copy\n",
            "  data['Résultat Session 1_Année_N'][i]=\"Ajourné\"\n"
          ]
        }
      ]
    },
    {
      "cell_type": "code",
      "source": [],
      "metadata": {
        "id": "XjnK70pNaKnT"
      },
      "execution_count": 7,
      "outputs": []
    },
    {
      "cell_type": "markdown",
      "source": [
        "Dans le code suivant, si un étudiant a plus de 10 pour la session 1 et n'a pas de note pour la session 2, la note de la session 1 sera affectée à la note de la session 2. Nous considérons donc que si un étudiant a la moyenne pour la session 1 et n'a pas passé la session 2, la même note est conservée. De même si un étudiant a été admis ou admissible à la session 1, alors il est noté comme admis/admissible pour la session 2. Ceci est une continuité du code précédent pour le traitement des valeurs manquantes."
      ],
      "metadata": {
        "id": "iWqBQ6fGaMpB"
      }
    },
    {
      "cell_type": "code",
      "source": [
        "for i in range(len(data)):\n",
        "  if data['Note Session 1_Année_N'][i]>=10 and pd.isnull(data['Note Session 2_Année_N'][i]):\n",
        "    data['Note Session 2_Année_N'][i]=data['Note Session 1_Année_N'][i]\n",
        "  if data['Résultat Session 1_Année_N'][i]!=\"\" and pd.isnull(data['Résultat Session 2_Année_N'][i]):\n",
        "    data['Résultat Session 2_Année_N'][i]=data['Résultat Session 1_Année_N'][i]\n"
      ],
      "metadata": {
        "colab": {
          "base_uri": "https://localhost:8080/"
        },
        "id": "e7ok7oMzN4JO",
        "outputId": "27ab0a93-eb19-4177-9690-be4c26c1a396"
      },
      "execution_count": 8,
      "outputs": [
        {
          "output_type": "stream",
          "name": "stderr",
          "text": [
            "<ipython-input-8-a17d757997cd>:3: SettingWithCopyWarning: \n",
            "A value is trying to be set on a copy of a slice from a DataFrame\n",
            "\n",
            "See the caveats in the documentation: https://pandas.pydata.org/pandas-docs/stable/user_guide/indexing.html#returning-a-view-versus-a-copy\n",
            "  data['Note Session 2_Année_N'][i]=data['Note Session 1_Année_N'][i]\n",
            "<ipython-input-8-a17d757997cd>:5: SettingWithCopyWarning: \n",
            "A value is trying to be set on a copy of a slice from a DataFrame\n",
            "\n",
            "See the caveats in the documentation: https://pandas.pydata.org/pandas-docs/stable/user_guide/indexing.html#returning-a-view-versus-a-copy\n",
            "  data['Résultat Session 2_Année_N'][i]=data['Résultat Session 1_Année_N'][i]\n"
          ]
        }
      ]
    },
    {
      "cell_type": "code",
      "source": [
        "for i in range(len(data)):\n",
        "  if data['Note Session 1_Année_N'][i]<10 and pd.isnull(data['Note Session 2_Année_N'][i]):\n",
        "    data['Note Session 2_Année_N'][i]=data['Note Session 1_Année_N'][i]\n",
        "  if data['Note Session 2_Année_N'][i]<10 and pd.isnull(data['Résultat Session 2_Année_N'][i]):\n",
        "    data['Résultat Session 2_Année_N'][i]=data['Résultat Session 1_Année_N'][i]"
      ],
      "metadata": {
        "colab": {
          "base_uri": "https://localhost:8080/"
        },
        "id": "FaGaBNzvbeHe",
        "outputId": "0a744f4c-808f-4569-cf36-ad13518fbd34"
      },
      "execution_count": 9,
      "outputs": [
        {
          "output_type": "stream",
          "name": "stderr",
          "text": [
            "<ipython-input-9-ef0cc602bcdf>:3: SettingWithCopyWarning: \n",
            "A value is trying to be set on a copy of a slice from a DataFrame\n",
            "\n",
            "See the caveats in the documentation: https://pandas.pydata.org/pandas-docs/stable/user_guide/indexing.html#returning-a-view-versus-a-copy\n",
            "  data['Note Session 2_Année_N'][i]=data['Note Session 1_Année_N'][i]\n"
          ]
        }
      ]
    },
    {
      "cell_type": "code",
      "source": [
        "data.iloc[9736]\n",
        "df15=data[data['RNA']==\"RNA\"]\n",
        "\n",
        "df15['Note Session 1_Année_N'].max()"
      ],
      "metadata": {
        "id": "-GVA0e4qVGJG",
        "colab": {
          "base_uri": "https://localhost:8080/"
        },
        "outputId": "8cc8fd7b-cb56-4a30-c9f1-092c1c3e13f9"
      },
      "execution_count": 10,
      "outputs": [
        {
          "output_type": "execute_result",
          "data": {
            "text/plain": [
              "13.165"
            ]
          },
          "metadata": {},
          "execution_count": 10
        }
      ]
    },
    {
      "cell_type": "code",
      "source": [
        "df15['Note Session 2_Année_N'].max()"
      ],
      "metadata": {
        "colab": {
          "base_uri": "https://localhost:8080/"
        },
        "id": "1__PDnFVRFQi",
        "outputId": "597e8363-63f8-413d-ad8b-1fd71bee6e6a"
      },
      "execution_count": 11,
      "outputs": [
        {
          "output_type": "execute_result",
          "data": {
            "text/plain": [
              "13.367"
            ]
          },
          "metadata": {},
          "execution_count": 11
        }
      ]
    },
    {
      "cell_type": "code",
      "source": [
        "file='don.xlsx'\n",
        "data.to_excel(file)\n",
        "print(\"Success\")"
      ],
      "metadata": {
        "colab": {
          "base_uri": "https://localhost:8080/"
        },
        "id": "RBEDIs5rQijq",
        "outputId": "77dd55cf-3618-40db-a345-f41a26cf29a8"
      },
      "execution_count": 12,
      "outputs": [
        {
          "output_type": "stream",
          "name": "stdout",
          "text": [
            "Success\n"
          ]
        }
      ]
    },
    {
      "cell_type": "code",
      "source": [
        "data['Note Session 1_Année_N'].fillna(-1,inplace=True)\n",
        "data['Note Session 2_Année_N'].fillna(-1,inplace=True)"
      ],
      "metadata": {
        "id": "cqG6xAoDRuFO"
      },
      "execution_count": 13,
      "outputs": []
    },
    {
      "cell_type": "code",
      "source": [
        "data['RNA'].value_counts()['RNA']/len(data)"
      ],
      "metadata": {
        "id": "0u4Q4QLhg_AS",
        "colab": {
          "base_uri": "https://localhost:8080/"
        },
        "outputId": "6408537b-2212-4de9-b270-c9c5d942ccfb"
      },
      "execution_count": 14,
      "outputs": [
        {
          "output_type": "execute_result",
          "data": {
            "text/plain": [
              "0.10614997444064331"
            ]
          },
          "metadata": {},
          "execution_count": 14
        }
      ]
    },
    {
      "cell_type": "code",
      "source": [
        "result = data.isna().sum().to_string(max_rows=None)\n",
        "print(result)"
      ],
      "metadata": {
        "colab": {
          "base_uri": "https://localhost:8080/"
        },
        "id": "JGVfVg43h9CM",
        "outputId": "e0998e47-e93c-4e74-8e40-35b532a516d0"
      },
      "execution_count": 15,
      "outputs": [
        {
          "output_type": "stream",
          "name": "stdout",
          "text": [
            "Année_N                                            0\n",
            "Individu - Code Etudiant                           0\n",
            "Individu - Sexe                                    0\n",
            "Nationalité (code)                                 0\n",
            "Nationalité (lib.)                                 0\n",
            "Nationalité - continent                            0\n",
            "Age au bac                                         0\n",
            "Bac ou équivalence (code)                          0\n",
            "Groupe de bac                                      0\n",
            "Série du bac                                       0\n",
            "Bac - Mention (lib.)                               0\n",
            "Bac - Etab. préparation (code)                     0\n",
            "Code commune Lycée                                 0\n",
            "IPS du lycée                                       0\n",
            "Etudiant oui ou oui-si                             0\n",
            "PCS - parent (code)_Année_N                        0\n",
            "PCS - parent (lib.)_Année_N                        0\n",
            "PCS - autre parent (code)_Année_N                  0\n",
            "Profession du parent 2_Année_N                     0\n",
            "Adresse fixe - Commune (code)_Année_N              0\n",
            "nom_de_la_commune_Année_N                        307\n",
            "Distance_en_km_Année_N                           307\n",
            "Année 1ère inscript. dans l'étab._Année_N          0\n",
            "Année de dernière inscription_Année_N          11245\n",
            "Situation année précédente (lib.)_Année_N          0\n",
            "Diplôme Evry ou Saclay_Année_N                     0\n",
            "Niveau_Année_N                                   212\n",
            "Type d'étape_Année_N                               0\n",
            "IAE - Etape (lib.)_Année_N                         0\n",
            "IAE - Etape (code)_Année_N                         0\n",
            "Diplôme SISE (type)_Année_N                        1\n",
            "Diplôme SISE intitulé 1 (lib.)_Année_N             1\n",
            "Discipline SISE (code)_Année_N                    84\n",
            "Discipline SISE (lib.)_Année_N                    84\n",
            "Secteur disciplinaire SISE (code)_Année_N         84\n",
            "Secteur disciplinaire SISE (lib.)_Année_N         84\n",
            "Composante_Année_N                                 0\n",
            "Cursus LMD_Année_N                               477\n",
            "Niveau dans le diplôme (calc)_Année_N              0\n",
            "Régime d'inscription (code)_Année_N                0\n",
            "Régime d'inscription (lib.)_Année_N                0\n",
            "Boursier (O/N)_Année_N                             0\n",
            "Note Session 1_Année_N                             0\n",
            "Résultat Session 1_Année_N                      2126\n",
            "Note Session 2_Année_N                             0\n",
            "Résultat Session 2_Année_N                      2065\n",
            "Nombre d’admis VET_Année_N                         0\n",
            "PCS - parent (code)_Année_N+1                      0\n",
            "PCS - parent (lib.)_Année_N+1                      0\n",
            "PCS - autre parent (code)_Année_N+1                2\n",
            "Profession du parent 2_Année_N+1                   2\n",
            "Adresse fixe - Commune (code)_Année_N+1            0\n",
            "nom_de_la_commune_Année_N+1                      757\n",
            "Distance_en_km_Année_N+1                         757\n",
            "Situation année précédente (lib.)_Année_N+1        0\n",
            "Diplôme Evry ou Saclay_Année_N+1                   0\n",
            "Niveau_Année_N+1                                 999\n",
            "Type d'étape_Année_N+1                             0\n",
            "IAE - Etape (lib.)_Année_N+1                       0\n",
            "IAE - Etape (code)_Année_N+1                       0\n",
            "Diplôme SISE (type)_Année_N+1                     13\n",
            "Diplôme SISE intitulé 1 (lib.)_Année_N+1          13\n",
            "Discipline SISE (code)_Année_N+1                 102\n",
            "Discipline SISE (lib.)_Année_N+1                 102\n",
            "Secteur disciplinaire SISE (code)_Année_N+1      102\n",
            "Secteur disciplinaire SISE (lib.)_Année_N+1      102\n",
            "Composante_Année_N+1                               0\n",
            "Cursus LMD_Année_N+1                            1599\n",
            "Niveau dans le diplôme (calc)_Année_N+1            0\n",
            "Régime d'inscription (code)_Année_N+1              0\n",
            "Régime d'inscription (lib.)_Année_N+1              0\n",
            "Boursier (O/N)_Année_N+1                           0\n",
            "RNA                                                0\n"
          ]
        }
      ]
    },
    {
      "cell_type": "code",
      "source": [
        "mask = (\n",
        "    pd.isnull(data['Note Session 1_Année_N']) &\n",
        "    pd.isnull(data['Note Session 2_Année_N']) &\n",
        "    pd.isnull(data['Résultat Session 1_Année_N']) &\n",
        "    pd.isnull(data['Résultat Session 2_Année_N'])\n",
        ")\n",
        "#value = data[mask].iloc[2]['Note Session 1_Année_N']\n"
      ],
      "metadata": {
        "id": "LGCgGVbOONR7"
      },
      "execution_count": 16,
      "outputs": []
    },
    {
      "cell_type": "code",
      "source": [
        "data1=data[~mask]"
      ],
      "metadata": {
        "id": "rv2fDKFKOVcd"
      },
      "execution_count": 17,
      "outputs": []
    },
    {
      "cell_type": "code",
      "source": [
        "pd.set_option('display.max_columns', None)\n",
        "pd.set_option('display.max_rows', None)\n"
      ],
      "metadata": {
        "id": "twwT9GfW_Yxl"
      },
      "execution_count": 18,
      "outputs": []
    },
    {
      "cell_type": "code",
      "source": [
        "data1.isna().sum()"
      ],
      "metadata": {
        "colab": {
          "base_uri": "https://localhost:8080/"
        },
        "id": "7sMTVpGMRq1r",
        "outputId": "3fba183d-7b4f-41ad-92d9-2460d468e946"
      },
      "execution_count": 19,
      "outputs": [
        {
          "output_type": "execute_result",
          "data": {
            "text/plain": [
              "Année_N                                            0\n",
              "Individu - Code Etudiant                           0\n",
              "Individu - Sexe                                    0\n",
              "Nationalité (code)                                 0\n",
              "Nationalité (lib.)                                 0\n",
              "Nationalité - continent                            0\n",
              "Age au bac                                         0\n",
              "Bac ou équivalence (code)                          0\n",
              "Groupe de bac                                      0\n",
              "Série du bac                                       0\n",
              "Bac - Mention (lib.)                               0\n",
              "Bac - Etab. préparation (code)                     0\n",
              "Code commune Lycée                                 0\n",
              "IPS du lycée                                       0\n",
              "Etudiant oui ou oui-si                             0\n",
              "PCS - parent (code)_Année_N                        0\n",
              "PCS - parent (lib.)_Année_N                        0\n",
              "PCS - autre parent (code)_Année_N                  0\n",
              "Profession du parent 2_Année_N                     0\n",
              "Adresse fixe - Commune (code)_Année_N              0\n",
              "nom_de_la_commune_Année_N                        307\n",
              "Distance_en_km_Année_N                           307\n",
              "Année 1ère inscript. dans l'étab._Année_N          0\n",
              "Année de dernière inscription_Année_N          11245\n",
              "Situation année précédente (lib.)_Année_N          0\n",
              "Diplôme Evry ou Saclay_Année_N                     0\n",
              "Niveau_Année_N                                   212\n",
              "Type d'étape_Année_N                               0\n",
              "IAE - Etape (lib.)_Année_N                         0\n",
              "IAE - Etape (code)_Année_N                         0\n",
              "Diplôme SISE (type)_Année_N                        1\n",
              "Diplôme SISE intitulé 1 (lib.)_Année_N             1\n",
              "Discipline SISE (code)_Année_N                    84\n",
              "Discipline SISE (lib.)_Année_N                    84\n",
              "Secteur disciplinaire SISE (code)_Année_N         84\n",
              "Secteur disciplinaire SISE (lib.)_Année_N         84\n",
              "Composante_Année_N                                 0\n",
              "Cursus LMD_Année_N                               477\n",
              "Niveau dans le diplôme (calc)_Année_N              0\n",
              "Régime d'inscription (code)_Année_N                0\n",
              "Régime d'inscription (lib.)_Année_N                0\n",
              "Boursier (O/N)_Année_N                             0\n",
              "Note Session 1_Année_N                             0\n",
              "Résultat Session 1_Année_N                      2126\n",
              "Note Session 2_Année_N                             0\n",
              "Résultat Session 2_Année_N                      2065\n",
              "Nombre d’admis VET_Année_N                         0\n",
              "PCS - parent (code)_Année_N+1                      0\n",
              "PCS - parent (lib.)_Année_N+1                      0\n",
              "PCS - autre parent (code)_Année_N+1                2\n",
              "Profession du parent 2_Année_N+1                   2\n",
              "Adresse fixe - Commune (code)_Année_N+1            0\n",
              "nom_de_la_commune_Année_N+1                      757\n",
              "Distance_en_km_Année_N+1                         757\n",
              "Situation année précédente (lib.)_Année_N+1        0\n",
              "Diplôme Evry ou Saclay_Année_N+1                   0\n",
              "Niveau_Année_N+1                                 999\n",
              "Type d'étape_Année_N+1                             0\n",
              "IAE - Etape (lib.)_Année_N+1                       0\n",
              "IAE - Etape (code)_Année_N+1                       0\n",
              "Diplôme SISE (type)_Année_N+1                     13\n",
              "Diplôme SISE intitulé 1 (lib.)_Année_N+1          13\n",
              "Discipline SISE (code)_Année_N+1                 102\n",
              "Discipline SISE (lib.)_Année_N+1                 102\n",
              "Secteur disciplinaire SISE (code)_Année_N+1      102\n",
              "Secteur disciplinaire SISE (lib.)_Année_N+1      102\n",
              "Composante_Année_N+1                               0\n",
              "Cursus LMD_Année_N+1                            1599\n",
              "Niveau dans le diplôme (calc)_Année_N+1            0\n",
              "Régime d'inscription (code)_Année_N+1              0\n",
              "Régime d'inscription (lib.)_Année_N+1              0\n",
              "Boursier (O/N)_Année_N+1                           0\n",
              "RNA                                                0\n",
              "dtype: int64"
            ]
          },
          "metadata": {},
          "execution_count": 19
        }
      ]
    },
    {
      "cell_type": "code",
      "source": [
        "#H=data[~data['Note Session 1_Année_N'].isna()]\n",
        "H=data[~data['Résultat Session 1_Année_N'].isna()]"
      ],
      "metadata": {
        "id": "c5L0lYLLSTW_"
      },
      "execution_count": 20,
      "outputs": []
    },
    {
      "cell_type": "markdown",
      "source": [
        "Pour le traitement des valeurs manquantes des notes, j'ai considéré les étudiants qui avaient au moins une note lors des deux sessions ou au moins un résultat(défaillant ou autre)"
      ],
      "metadata": {
        "id": "LvkFJLZfjzen"
      }
    },
    {
      "cell_type": "code",
      "source": [
        "H.reset_index(drop=True, inplace=True)\n"
      ],
      "metadata": {
        "id": "GChBAfhJfIpg"
      },
      "execution_count": 21,
      "outputs": []
    },
    {
      "cell_type": "code",
      "source": [
        "for i in range(len(H)):\n",
        "  if (H['Type d\\'étape_Année_N'][i]==\"M1\"):\n",
        "    H['Niveau_Année_N'][i]=\"bac+4\"\n",
        "    H['Cursus LMD_Année_N'][i]=\"cursus M\"\n",
        "  if H['Type d\\'étape_Année_N+1'][i]==\"M1\":\n",
        "    H['Niveau_Année_N+1'][i]=\"bac+4\"\n",
        "    H['Cursus LMD_Année_N+1'][i]=\"cursus M\"\n",
        "  if H['Type d\\'étape_Année_N'][i]==\"M2\":\n",
        "    H['Niveau_Année_N'][i]=\"bac+5\"\n",
        "    H['Cursus LMD_Année_N'][i]=\"cursus M\"\n",
        "  if H['Type d\\'étape_Année_N+1'][i]==\"M2\":\n",
        "    H['Niveau_Année_N+1'][i]=\"bac+5\"\n",
        "    H['Cursus LMD_Année_N+1'][i]=\"cursus M\"\n",
        "  if H['Type d\\'étape_Année_N'][i]==\"MEEF2\":\n",
        "    H['Niveau_Année_N'][i]=\"bac+5\"\n",
        "    H['Cursus LMD_Année_N'][i]=\"cursus M\"\n",
        "  if H['Type d\\'étape_Année_N+1'][i]==\"MEEF2\":\n",
        "    H['Niveau_Année_N+1'][i]=\"bac+5\"\n",
        "    H['Cursus LMD_Année_N+1'][i]=\"cursus M\"\n",
        "\n"
      ],
      "metadata": {
        "colab": {
          "base_uri": "https://localhost:8080/"
        },
        "id": "5bwVgKLqFLcX",
        "outputId": "de93ddc9-ef2c-4002-b54a-3bf00f03a2cb"
      },
      "execution_count": 22,
      "outputs": [
        {
          "output_type": "stream",
          "name": "stderr",
          "text": [
            "<ipython-input-22-b32c0372a5a2>:9: SettingWithCopyWarning: \n",
            "A value is trying to be set on a copy of a slice from a DataFrame\n",
            "\n",
            "See the caveats in the documentation: https://pandas.pydata.org/pandas-docs/stable/user_guide/indexing.html#returning-a-view-versus-a-copy\n",
            "  H['Niveau_Année_N'][i]=\"bac+5\"\n",
            "<ipython-input-22-b32c0372a5a2>:10: SettingWithCopyWarning: \n",
            "A value is trying to be set on a copy of a slice from a DataFrame\n",
            "\n",
            "See the caveats in the documentation: https://pandas.pydata.org/pandas-docs/stable/user_guide/indexing.html#returning-a-view-versus-a-copy\n",
            "  H['Cursus LMD_Année_N'][i]=\"cursus M\"\n",
            "<ipython-input-22-b32c0372a5a2>:12: SettingWithCopyWarning: \n",
            "A value is trying to be set on a copy of a slice from a DataFrame\n",
            "\n",
            "See the caveats in the documentation: https://pandas.pydata.org/pandas-docs/stable/user_guide/indexing.html#returning-a-view-versus-a-copy\n",
            "  H['Niveau_Année_N+1'][i]=\"bac+5\"\n",
            "<ipython-input-22-b32c0372a5a2>:13: SettingWithCopyWarning: \n",
            "A value is trying to be set on a copy of a slice from a DataFrame\n",
            "\n",
            "See the caveats in the documentation: https://pandas.pydata.org/pandas-docs/stable/user_guide/indexing.html#returning-a-view-versus-a-copy\n",
            "  H['Cursus LMD_Année_N+1'][i]=\"cursus M\"\n",
            "<ipython-input-22-b32c0372a5a2>:3: SettingWithCopyWarning: \n",
            "A value is trying to be set on a copy of a slice from a DataFrame\n",
            "\n",
            "See the caveats in the documentation: https://pandas.pydata.org/pandas-docs/stable/user_guide/indexing.html#returning-a-view-versus-a-copy\n",
            "  H['Niveau_Année_N'][i]=\"bac+4\"\n",
            "<ipython-input-22-b32c0372a5a2>:4: SettingWithCopyWarning: \n",
            "A value is trying to be set on a copy of a slice from a DataFrame\n",
            "\n",
            "See the caveats in the documentation: https://pandas.pydata.org/pandas-docs/stable/user_guide/indexing.html#returning-a-view-versus-a-copy\n",
            "  H['Cursus LMD_Année_N'][i]=\"cursus M\"\n",
            "<ipython-input-22-b32c0372a5a2>:6: SettingWithCopyWarning: \n",
            "A value is trying to be set on a copy of a slice from a DataFrame\n",
            "\n",
            "See the caveats in the documentation: https://pandas.pydata.org/pandas-docs/stable/user_guide/indexing.html#returning-a-view-versus-a-copy\n",
            "  H['Niveau_Année_N+1'][i]=\"bac+4\"\n",
            "<ipython-input-22-b32c0372a5a2>:7: SettingWithCopyWarning: \n",
            "A value is trying to be set on a copy of a slice from a DataFrame\n",
            "\n",
            "See the caveats in the documentation: https://pandas.pydata.org/pandas-docs/stable/user_guide/indexing.html#returning-a-view-versus-a-copy\n",
            "  H['Cursus LMD_Année_N+1'][i]=\"cursus M\"\n",
            "<ipython-input-22-b32c0372a5a2>:18: SettingWithCopyWarning: \n",
            "A value is trying to be set on a copy of a slice from a DataFrame\n",
            "\n",
            "See the caveats in the documentation: https://pandas.pydata.org/pandas-docs/stable/user_guide/indexing.html#returning-a-view-versus-a-copy\n",
            "  H['Niveau_Année_N+1'][i]=\"bac+5\"\n",
            "<ipython-input-22-b32c0372a5a2>:19: SettingWithCopyWarning: \n",
            "A value is trying to be set on a copy of a slice from a DataFrame\n",
            "\n",
            "See the caveats in the documentation: https://pandas.pydata.org/pandas-docs/stable/user_guide/indexing.html#returning-a-view-versus-a-copy\n",
            "  H['Cursus LMD_Année_N+1'][i]=\"cursus M\"\n",
            "<ipython-input-22-b32c0372a5a2>:15: SettingWithCopyWarning: \n",
            "A value is trying to be set on a copy of a slice from a DataFrame\n",
            "\n",
            "See the caveats in the documentation: https://pandas.pydata.org/pandas-docs/stable/user_guide/indexing.html#returning-a-view-versus-a-copy\n",
            "  H['Niveau_Année_N'][i]=\"bac+5\"\n",
            "<ipython-input-22-b32c0372a5a2>:16: SettingWithCopyWarning: \n",
            "A value is trying to be set on a copy of a slice from a DataFrame\n",
            "\n",
            "See the caveats in the documentation: https://pandas.pydata.org/pandas-docs/stable/user_guide/indexing.html#returning-a-view-versus-a-copy\n",
            "  H['Cursus LMD_Année_N'][i]=\"cursus M\"\n"
          ]
        }
      ]
    },
    {
      "cell_type": "code",
      "source": [
        "H['Cursus LMD_Année_N'].fillna(\"cursus L\",inplace=True)\n",
        "H['Cursus LMD_Année_N+1'].fillna(\"cursus L\",inplace=True)"
      ],
      "metadata": {
        "colab": {
          "base_uri": "https://localhost:8080/"
        },
        "id": "f9mSVS-djaUB",
        "outputId": "cb15f189-ea22-4ff4-9050-9333c701c761"
      },
      "execution_count": 23,
      "outputs": [
        {
          "output_type": "stream",
          "name": "stderr",
          "text": [
            "<ipython-input-23-85710142c9f1>:1: SettingWithCopyWarning: \n",
            "A value is trying to be set on a copy of a slice from a DataFrame\n",
            "\n",
            "See the caveats in the documentation: https://pandas.pydata.org/pandas-docs/stable/user_guide/indexing.html#returning-a-view-versus-a-copy\n",
            "  H['Cursus LMD_Année_N'].fillna(\"cursus L\",inplace=True)\n",
            "<ipython-input-23-85710142c9f1>:2: SettingWithCopyWarning: \n",
            "A value is trying to be set on a copy of a slice from a DataFrame\n",
            "\n",
            "See the caveats in the documentation: https://pandas.pydata.org/pandas-docs/stable/user_guide/indexing.html#returning-a-view-versus-a-copy\n",
            "  H['Cursus LMD_Année_N+1'].fillna(\"cursus L\",inplace=True)\n"
          ]
        }
      ]
    },
    {
      "cell_type": "markdown",
      "source": [
        "Nous avons classé les étudiants en MEEF comme étant en master et de niveau bac+4/bac+5. Après cette manipulation il restait quelques valeurs manquantes au niveau du cursus. Après vérification seuls les étudiants en Licence Pro avait des valeurs manquantes au niveau de la variable \"Cursus LMD\" . Nous avons donc complété cette variable chez cette catégorie d'étudiant."
      ],
      "metadata": {
        "id": "z5gcy3pFkKeB"
      }
    },
    {
      "cell_type": "code",
      "source": [
        "H['nom_de_la_commune_Année_N'].fillna(\"Etranger\",inplace=True)\n",
        "H['Distance_en_km_Année_N'].fillna(H['Distance_en_km_Année_N'].mean(),inplace=True)\n",
        "H['nom_de_la_commune_Année_N+1'].fillna(\"Etranger\",inplace=True)\n",
        "H['Distance_en_km_Année_N+1'].fillna(H['Distance_en_km_Année_N+1'].mean(),inplace=True)"
      ],
      "metadata": {
        "colab": {
          "base_uri": "https://localhost:8080/"
        },
        "id": "WhyreCVJlFgo",
        "outputId": "3cc781fb-e16e-40e0-f217-c4662e389ebb"
      },
      "execution_count": 24,
      "outputs": [
        {
          "output_type": "stream",
          "name": "stderr",
          "text": [
            "<ipython-input-24-6d091ed7986b>:1: SettingWithCopyWarning: \n",
            "A value is trying to be set on a copy of a slice from a DataFrame\n",
            "\n",
            "See the caveats in the documentation: https://pandas.pydata.org/pandas-docs/stable/user_guide/indexing.html#returning-a-view-versus-a-copy\n",
            "  H['nom_de_la_commune_Année_N'].fillna(\"Etranger\",inplace=True)\n",
            "<ipython-input-24-6d091ed7986b>:2: SettingWithCopyWarning: \n",
            "A value is trying to be set on a copy of a slice from a DataFrame\n",
            "\n",
            "See the caveats in the documentation: https://pandas.pydata.org/pandas-docs/stable/user_guide/indexing.html#returning-a-view-versus-a-copy\n",
            "  H['Distance_en_km_Année_N'].fillna(H['Distance_en_km_Année_N'].mean(),inplace=True)\n",
            "<ipython-input-24-6d091ed7986b>:3: SettingWithCopyWarning: \n",
            "A value is trying to be set on a copy of a slice from a DataFrame\n",
            "\n",
            "See the caveats in the documentation: https://pandas.pydata.org/pandas-docs/stable/user_guide/indexing.html#returning-a-view-versus-a-copy\n",
            "  H['nom_de_la_commune_Année_N+1'].fillna(\"Etranger\",inplace=True)\n",
            "<ipython-input-24-6d091ed7986b>:4: SettingWithCopyWarning: \n",
            "A value is trying to be set on a copy of a slice from a DataFrame\n",
            "\n",
            "See the caveats in the documentation: https://pandas.pydata.org/pandas-docs/stable/user_guide/indexing.html#returning-a-view-versus-a-copy\n",
            "  H['Distance_en_km_Année_N+1'].fillna(H['Distance_en_km_Année_N+1'].mean(),inplace=True)\n"
          ]
        }
      ]
    },
    {
      "cell_type": "markdown",
      "source": [
        "Nous avons utilisé le fichier recensant les noms des communes et les coordonnees geographiques de ces communes sur le site de datagouv. N'ayant pas retrouvé certains codes communes dans ce fichier, nous allons considérer que ces communes se trouvent hors de la france, ce qui justifie le choix pour le remplissage des valeurs manquantes de ces variables. Pour la variable de la distance, nous avons choisi une imputation par la moyenne."
      ],
      "metadata": {
        "id": "ZwHdf6WSlr5L"
      }
    },
    {
      "cell_type": "code",
      "source": [
        "H.isna().sum()"
      ],
      "metadata": {
        "colab": {
          "base_uri": "https://localhost:8080/"
        },
        "id": "KQAlPfiVgpyj",
        "outputId": "c7faf6c7-c809-4d76-86d1-9efab632ba1d"
      },
      "execution_count": 25,
      "outputs": [
        {
          "output_type": "execute_result",
          "data": {
            "text/plain": [
              "Année_N                                            0\n",
              "Individu - Code Etudiant                           0\n",
              "Individu - Sexe                                    0\n",
              "Nationalité (code)                                 0\n",
              "Nationalité (lib.)                                 0\n",
              "Nationalité - continent                            0\n",
              "Age au bac                                         0\n",
              "Bac ou équivalence (code)                          0\n",
              "Groupe de bac                                      0\n",
              "Série du bac                                       0\n",
              "Bac - Mention (lib.)                               0\n",
              "Bac - Etab. préparation (code)                     0\n",
              "Code commune Lycée                                 0\n",
              "IPS du lycée                                       0\n",
              "Etudiant oui ou oui-si                             0\n",
              "PCS - parent (code)_Année_N                        0\n",
              "PCS - parent (lib.)_Année_N                        0\n",
              "PCS - autre parent (code)_Année_N                  0\n",
              "Profession du parent 2_Année_N                     0\n",
              "Adresse fixe - Commune (code)_Année_N              0\n",
              "nom_de_la_commune_Année_N                          0\n",
              "Distance_en_km_Année_N                             0\n",
              "Année 1ère inscript. dans l'étab._Année_N          0\n",
              "Année de dernière inscription_Année_N          11074\n",
              "Situation année précédente (lib.)_Année_N          0\n",
              "Diplôme Evry ou Saclay_Année_N                     0\n",
              "Niveau_Année_N                                    21\n",
              "Type d'étape_Année_N                               0\n",
              "IAE - Etape (lib.)_Année_N                         0\n",
              "IAE - Etape (code)_Année_N                         0\n",
              "Diplôme SISE (type)_Année_N                        0\n",
              "Diplôme SISE intitulé 1 (lib.)_Année_N             0\n",
              "Discipline SISE (code)_Année_N                    82\n",
              "Discipline SISE (lib.)_Année_N                    82\n",
              "Secteur disciplinaire SISE (code)_Année_N         82\n",
              "Secteur disciplinaire SISE (lib.)_Année_N         82\n",
              "Composante_Année_N                                 0\n",
              "Cursus LMD_Année_N                                 0\n",
              "Niveau dans le diplôme (calc)_Année_N              0\n",
              "Régime d'inscription (code)_Année_N                0\n",
              "Régime d'inscription (lib.)_Année_N                0\n",
              "Boursier (O/N)_Année_N                             0\n",
              "Note Session 1_Année_N                             0\n",
              "Résultat Session 1_Année_N                         0\n",
              "Note Session 2_Année_N                             0\n",
              "Résultat Session 2_Année_N                         0\n",
              "Nombre d’admis VET_Année_N                         0\n",
              "PCS - parent (code)_Année_N+1                      0\n",
              "PCS - parent (lib.)_Année_N+1                      0\n",
              "PCS - autre parent (code)_Année_N+1                1\n",
              "Profession du parent 2_Année_N+1                   1\n",
              "Adresse fixe - Commune (code)_Année_N+1            0\n",
              "nom_de_la_commune_Année_N+1                        0\n",
              "Distance_en_km_Année_N+1                           0\n",
              "Situation année précédente (lib.)_Année_N+1        0\n",
              "Diplôme Evry ou Saclay_Année_N+1                   0\n",
              "Niveau_Année_N+1                                  34\n",
              "Type d'étape_Année_N+1                             0\n",
              "IAE - Etape (lib.)_Année_N+1                       0\n",
              "IAE - Etape (code)_Année_N+1                       0\n",
              "Diplôme SISE (type)_Année_N+1                     12\n",
              "Diplôme SISE intitulé 1 (lib.)_Année_N+1          12\n",
              "Discipline SISE (code)_Année_N+1                  99\n",
              "Discipline SISE (lib.)_Année_N+1                  99\n",
              "Secteur disciplinaire SISE (code)_Année_N+1       99\n",
              "Secteur disciplinaire SISE (lib.)_Année_N+1       99\n",
              "Composante_Année_N+1                               0\n",
              "Cursus LMD_Année_N+1                               0\n",
              "Niveau dans le diplôme (calc)_Année_N+1            0\n",
              "Régime d'inscription (code)_Année_N+1              0\n",
              "Régime d'inscription (lib.)_Année_N+1              0\n",
              "Boursier (O/N)_Année_N+1                           0\n",
              "RNA                                                0\n",
              "dtype: int64"
            ]
          },
          "metadata": {},
          "execution_count": 25
        }
      ]
    },
    {
      "cell_type": "code",
      "source": [
        "file1='don1.xlsx'\n",
        "H.to_excel(file1)\n",
        "print(\"Success\")"
      ],
      "metadata": {
        "colab": {
          "base_uri": "https://localhost:8080/"
        },
        "id": "-fnSjmrhgvHH",
        "outputId": "7c458dd7-159a-451a-dcee-c7f63951452f"
      },
      "execution_count": 26,
      "outputs": [
        {
          "output_type": "stream",
          "name": "stdout",
          "text": [
            "Success\n"
          ]
        }
      ]
    },
    {
      "cell_type": "code",
      "source": [
        "# Identifions les colonnes de type \"object\"\n",
        "object_cols = data.select_dtypes(include=['object']).columns\n",
        "\n",
        "# Remplacons les valeurs manquantes dans ces colonnes\n",
        "data[object_cols] = data[object_cols].fillna(\"NonRenseigné\")"
      ],
      "metadata": {
        "id": "BHddtWDWLWka"
      },
      "execution_count": 27,
      "outputs": []
    },
    {
      "cell_type": "code",
      "source": [
        "np.isnan(data['Note Session 1_Année_N'][2]) & np.isnan(data['Note Session 2_Année_N'][2])"
      ],
      "metadata": {
        "id": "Hvxl2MaE9v2Y",
        "colab": {
          "base_uri": "https://localhost:8080/"
        },
        "outputId": "a99c9b0e-a7ba-4655-f673-ad3e7c5f9df0"
      },
      "execution_count": 28,
      "outputs": [
        {
          "output_type": "execute_result",
          "data": {
            "text/plain": [
              "False"
            ]
          },
          "metadata": {},
          "execution_count": 28
        }
      ]
    },
    {
      "cell_type": "code",
      "source": [
        "H.isna().sum()"
      ],
      "metadata": {
        "colab": {
          "base_uri": "https://localhost:8080/"
        },
        "id": "JoS8mIQPWyVt",
        "outputId": "2367741c-30f7-47fa-89bd-61acc99d19ed"
      },
      "execution_count": 29,
      "outputs": [
        {
          "output_type": "execute_result",
          "data": {
            "text/plain": [
              "Année_N                                            0\n",
              "Individu - Code Etudiant                           0\n",
              "Individu - Sexe                                    0\n",
              "Nationalité (code)                                 0\n",
              "Nationalité (lib.)                                 0\n",
              "Nationalité - continent                            0\n",
              "Age au bac                                         0\n",
              "Bac ou équivalence (code)                          0\n",
              "Groupe de bac                                      0\n",
              "Série du bac                                       0\n",
              "Bac - Mention (lib.)                               0\n",
              "Bac - Etab. préparation (code)                     0\n",
              "Code commune Lycée                                 0\n",
              "IPS du lycée                                       0\n",
              "Etudiant oui ou oui-si                             0\n",
              "PCS - parent (code)_Année_N                        0\n",
              "PCS - parent (lib.)_Année_N                        0\n",
              "PCS - autre parent (code)_Année_N                  0\n",
              "Profession du parent 2_Année_N                     0\n",
              "Adresse fixe - Commune (code)_Année_N              0\n",
              "nom_de_la_commune_Année_N                          0\n",
              "Distance_en_km_Année_N                             0\n",
              "Année 1ère inscript. dans l'étab._Année_N          0\n",
              "Année de dernière inscription_Année_N          11074\n",
              "Situation année précédente (lib.)_Année_N          0\n",
              "Diplôme Evry ou Saclay_Année_N                     0\n",
              "Niveau_Année_N                                    21\n",
              "Type d'étape_Année_N                               0\n",
              "IAE - Etape (lib.)_Année_N                         0\n",
              "IAE - Etape (code)_Année_N                         0\n",
              "Diplôme SISE (type)_Année_N                        0\n",
              "Diplôme SISE intitulé 1 (lib.)_Année_N             0\n",
              "Discipline SISE (code)_Année_N                    82\n",
              "Discipline SISE (lib.)_Année_N                    82\n",
              "Secteur disciplinaire SISE (code)_Année_N         82\n",
              "Secteur disciplinaire SISE (lib.)_Année_N         82\n",
              "Composante_Année_N                                 0\n",
              "Cursus LMD_Année_N                                 0\n",
              "Niveau dans le diplôme (calc)_Année_N              0\n",
              "Régime d'inscription (code)_Année_N                0\n",
              "Régime d'inscription (lib.)_Année_N                0\n",
              "Boursier (O/N)_Année_N                             0\n",
              "Note Session 1_Année_N                             0\n",
              "Résultat Session 1_Année_N                         0\n",
              "Note Session 2_Année_N                             0\n",
              "Résultat Session 2_Année_N                         0\n",
              "Nombre d’admis VET_Année_N                         0\n",
              "PCS - parent (code)_Année_N+1                      0\n",
              "PCS - parent (lib.)_Année_N+1                      0\n",
              "PCS - autre parent (code)_Année_N+1                1\n",
              "Profession du parent 2_Année_N+1                   1\n",
              "Adresse fixe - Commune (code)_Année_N+1            0\n",
              "nom_de_la_commune_Année_N+1                        0\n",
              "Distance_en_km_Année_N+1                           0\n",
              "Situation année précédente (lib.)_Année_N+1        0\n",
              "Diplôme Evry ou Saclay_Année_N+1                   0\n",
              "Niveau_Année_N+1                                  34\n",
              "Type d'étape_Année_N+1                             0\n",
              "IAE - Etape (lib.)_Année_N+1                       0\n",
              "IAE - Etape (code)_Année_N+1                       0\n",
              "Diplôme SISE (type)_Année_N+1                     12\n",
              "Diplôme SISE intitulé 1 (lib.)_Année_N+1          12\n",
              "Discipline SISE (code)_Année_N+1                  99\n",
              "Discipline SISE (lib.)_Année_N+1                  99\n",
              "Secteur disciplinaire SISE (code)_Année_N+1       99\n",
              "Secteur disciplinaire SISE (lib.)_Année_N+1       99\n",
              "Composante_Année_N+1                               0\n",
              "Cursus LMD_Année_N+1                               0\n",
              "Niveau dans le diplôme (calc)_Année_N+1            0\n",
              "Régime d'inscription (code)_Année_N+1              0\n",
              "Régime d'inscription (lib.)_Année_N+1              0\n",
              "Boursier (O/N)_Année_N+1                           0\n",
              "RNA                                                0\n",
              "dtype: int64"
            ]
          },
          "metadata": {},
          "execution_count": 29
        }
      ]
    }
  ]
}