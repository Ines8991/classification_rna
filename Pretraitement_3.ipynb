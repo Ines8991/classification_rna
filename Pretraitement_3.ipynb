{
  "nbformat": 4,
  "nbformat_minor": 0,
  "metadata": {
    "colab": {
      "provenance": [],
      "authorship_tag": "ABX9TyPhC47no1PK5o3Ti+uOfXME",
      "include_colab_link": true
    },
    "kernelspec": {
      "name": "python3",
      "display_name": "Python 3"
    },
    "language_info": {
      "name": "python"
    }
  },
  "cells": [
    {
      "cell_type": "markdown",
      "metadata": {
        "id": "view-in-github",
        "colab_type": "text"
      },
      "source": [
        "<a href=\"https://colab.research.google.com/github/Ines8991/classification_rna/blob/main/Pretraitement_3.ipynb\" target=\"_parent\"><img src=\"https://colab.research.google.com/assets/colab-badge.svg\" alt=\"Open In Colab\"/></a>"
      ]
    },
    {
      "cell_type": "code",
      "execution_count": 1,
      "metadata": {
        "id": "c0rPOgXZDi0G"
      },
      "outputs": [],
      "source": [
        "import numpy as np\n",
        "import matplotlib.pyplot as plt\n",
        "import pandas as pd\n",
        "import seaborn as sns\n",
        "from sklearn.model_selection import train_test_split"
      ]
    },
    {
      "cell_type": "code",
      "source": [
        "df=pd.read_excel(r'/content/donneees.xlsx')\n",
        "df.shape"
      ],
      "metadata": {
        "colab": {
          "base_uri": "https://localhost:8080/"
        },
        "id": "kXolcqZJDn2B",
        "outputId": "12730767-56f5-48d0-90ab-bfb1361edb76"
      },
      "execution_count": 2,
      "outputs": [
        {
          "output_type": "execute_result",
          "data": {
            "text/plain": [
              "(48736, 74)"
            ]
          },
          "metadata": {},
          "execution_count": 2
        }
      ]
    },
    {
      "cell_type": "code",
      "source": [
        "result = df.isna().sum().to_string(max_rows=None)\n",
        "print(result)"
      ],
      "metadata": {
        "colab": {
          "base_uri": "https://localhost:8080/"
        },
        "id": "n1PNvbihD_sq",
        "outputId": "53b42f74-fcf1-4448-de7c-451a3bb78c38"
      },
      "execution_count": 3,
      "outputs": [
        {
          "output_type": "stream",
          "name": "stdout",
          "text": [
            "Unnamed: 0                                         0\n",
            "Année_N                                            0\n",
            "Individu - Code Etudiant                           0\n",
            "Individu - Sexe                                    0\n",
            "Nationalité (code)                                 0\n",
            "Nationalité (lib.)                                 0\n",
            "Nationalité - continent                            0\n",
            "Age au bac                                         0\n",
            "Bac ou équivalence (code)                          0\n",
            "Groupe de bac                                      0\n",
            "Série du bac                                       0\n",
            "Bac - Mention (lib.)                               0\n",
            "Bac - Etab. préparation (code)                     0\n",
            "Code commune Lycée                                 0\n",
            "IPS du lycée                                       0\n",
            "Etudiant oui ou oui-si                             0\n",
            "PCS - parent (code)_Année_N                        0\n",
            "PCS - parent (lib.)_Année_N                        0\n",
            "PCS - autre parent (code)_Année_N                  0\n",
            "Profession du parent 2_Année_N                     0\n",
            "Adresse fixe - Commune (code)_Année_N              0\n",
            "nom_de_la_commune_Année_N                          0\n",
            "Distance_en_km_Année_N                             0\n",
            "Année 1ère inscript. dans l'étab._Année_N          0\n",
            "Année de dernière inscription_Année_N          11074\n",
            "Situation année précédente (lib.)_Année_N          0\n",
            "Diplôme Evry ou Saclay_Année_N                     0\n",
            "Niveau_Année_N                                    21\n",
            "Type d'étape_Année_N                               0\n",
            "IAE - Etape (lib.)_Année_N                         0\n",
            "IAE - Etape (code)_Année_N                         0\n",
            "Diplôme SISE (type)_Année_N                        0\n",
            "Diplôme SISE intitulé 1 (lib.)_Année_N             0\n",
            "Discipline SISE (code)_Année_N                    82\n",
            "Discipline SISE (lib.)_Année_N                    82\n",
            "Secteur disciplinaire SISE (code)_Année_N         82\n",
            "Secteur disciplinaire SISE (lib.)_Année_N         82\n",
            "Composante_Année_N                                 0\n",
            "Cursus LMD_Année_N                                 0\n",
            "Niveau dans le diplôme (calc)_Année_N              0\n",
            "Régime d'inscription (code)_Année_N                0\n",
            "Régime d'inscription (lib.)_Année_N                0\n",
            "Boursier (O/N)_Année_N                             0\n",
            "Note Session 1_Année_N                             0\n",
            "Résultat Session 1_Année_N                         0\n",
            "Note Session 2_Année_N                             0\n",
            "Résultat Session 2_Année_N                         0\n",
            "Nombre d’admis VET_Année_N                         0\n",
            "PCS - parent (code)_Année_N+1                      0\n",
            "PCS - parent (lib.)_Année_N+1                      0\n",
            "PCS - autre parent (code)_Année_N+1                1\n",
            "Profession du parent 2_Année_N+1                   1\n",
            "Adresse fixe - Commune (code)_Année_N+1            0\n",
            "nom_de_la_commune_Année_N+1                        0\n",
            "Distance_en_km_Année_N+1                           0\n",
            "Situation année précédente (lib.)_Année_N+1        0\n",
            "Diplôme Evry ou Saclay_Année_N+1                   0\n",
            "Niveau_Année_N+1                                  34\n",
            "Type d'étape_Année_N+1                             0\n",
            "IAE - Etape (lib.)_Année_N+1                       0\n",
            "IAE - Etape (code)_Année_N+1                       0\n",
            "Diplôme SISE (type)_Année_N+1                     12\n",
            "Diplôme SISE intitulé 1 (lib.)_Année_N+1          12\n",
            "Discipline SISE (code)_Année_N+1                  99\n",
            "Discipline SISE (lib.)_Année_N+1                  99\n",
            "Secteur disciplinaire SISE (code)_Année_N+1       99\n",
            "Secteur disciplinaire SISE (lib.)_Année_N+1       99\n",
            "Composante_Année_N+1                               0\n",
            "Cursus LMD_Année_N+1                               0\n",
            "Niveau dans le diplôme (calc)_Année_N+1            0\n",
            "Régime d'inscription (code)_Année_N+1              0\n",
            "Régime d'inscription (lib.)_Année_N+1              0\n",
            "Boursier (O/N)_Année_N+1                           0\n",
            "RNA                                                0\n"
          ]
        }
      ]
    },
    {
      "cell_type": "code",
      "source": [
        "for i in range(len(df)):\n",
        "  if df['Type d\\'étape_Année_N+1'][i]==\"MEEF1\":\n",
        "    df['Niveau_Année_N+1'][i]=\"bac+4\"\n",
        "    df['Cursus LMD_Année_N+1'][i]=\"cursus M\"\n",
        "  if df['Type d\\'étape_Année_N'][i]==\"MEEF1\":\n",
        "    df['Niveau_Année_N'][i]=\"bac+4\"\n",
        "    df['Cursus LMD_Année_N'][i]=\"cursus M\""
      ],
      "metadata": {
        "colab": {
          "base_uri": "https://localhost:8080/"
        },
        "id": "7jUPhKJDHEoZ",
        "outputId": "0e7e19c9-c8a5-42f1-df06-e8ffbf0e5ea4"
      },
      "execution_count": 4,
      "outputs": [
        {
          "output_type": "stream",
          "name": "stderr",
          "text": [
            "<ipython-input-4-15b0f205b87b>:3: SettingWithCopyWarning: \n",
            "A value is trying to be set on a copy of a slice from a DataFrame\n",
            "\n",
            "See the caveats in the documentation: https://pandas.pydata.org/pandas-docs/stable/user_guide/indexing.html#returning-a-view-versus-a-copy\n",
            "  df['Niveau_Année_N+1'][i]=\"bac+4\"\n",
            "<ipython-input-4-15b0f205b87b>:4: SettingWithCopyWarning: \n",
            "A value is trying to be set on a copy of a slice from a DataFrame\n",
            "\n",
            "See the caveats in the documentation: https://pandas.pydata.org/pandas-docs/stable/user_guide/indexing.html#returning-a-view-versus-a-copy\n",
            "  df['Cursus LMD_Année_N+1'][i]=\"cursus M\"\n",
            "<ipython-input-4-15b0f205b87b>:6: SettingWithCopyWarning: \n",
            "A value is trying to be set on a copy of a slice from a DataFrame\n",
            "\n",
            "See the caveats in the documentation: https://pandas.pydata.org/pandas-docs/stable/user_guide/indexing.html#returning-a-view-versus-a-copy\n",
            "  df['Niveau_Année_N'][i]=\"bac+4\"\n",
            "<ipython-input-4-15b0f205b87b>:7: SettingWithCopyWarning: \n",
            "A value is trying to be set on a copy of a slice from a DataFrame\n",
            "\n",
            "See the caveats in the documentation: https://pandas.pydata.org/pandas-docs/stable/user_guide/indexing.html#returning-a-view-versus-a-copy\n",
            "  df['Cursus LMD_Année_N'][i]=\"cursus M\"\n"
          ]
        }
      ]
    },
    {
      "cell_type": "code",
      "source": [],
      "metadata": {
        "id": "Ef0uyfOuG1On"
      },
      "execution_count": 4,
      "outputs": []
    },
    {
      "cell_type": "code",
      "source": [
        "dflicence=df[df['Niveau_Année_N']==\"bac+1\"]\n",
        "dflicence.shape"
      ],
      "metadata": {
        "colab": {
          "base_uri": "https://localhost:8080/"
        },
        "id": "dorkwaEKE_Vd",
        "outputId": "554aff74-6204-43d9-8975-4ff04053612f"
      },
      "execution_count": 5,
      "outputs": [
        {
          "output_type": "execute_result",
          "data": {
            "text/plain": [
              "(21760, 74)"
            ]
          },
          "metadata": {},
          "execution_count": 5
        }
      ]
    },
    {
      "cell_type": "code",
      "source": [
        "result = dflicence.isna().sum().to_string(max_rows=None)\n",
        "print(result)"
      ],
      "metadata": {
        "colab": {
          "base_uri": "https://localhost:8080/"
        },
        "id": "P9s2hQ_0FXGC",
        "outputId": "448337f8-24df-43f7-9b4a-8e500fe59a0f"
      },
      "execution_count": 6,
      "outputs": [
        {
          "output_type": "stream",
          "name": "stdout",
          "text": [
            "Unnamed: 0                                        0\n",
            "Année_N                                           0\n",
            "Individu - Code Etudiant                          0\n",
            "Individu - Sexe                                   0\n",
            "Nationalité (code)                                0\n",
            "Nationalité (lib.)                                0\n",
            "Nationalité - continent                           0\n",
            "Age au bac                                        0\n",
            "Bac ou équivalence (code)                         0\n",
            "Groupe de bac                                     0\n",
            "Série du bac                                      0\n",
            "Bac - Mention (lib.)                              0\n",
            "Bac - Etab. préparation (code)                    0\n",
            "Code commune Lycée                                0\n",
            "IPS du lycée                                      0\n",
            "Etudiant oui ou oui-si                            0\n",
            "PCS - parent (code)_Année_N                       0\n",
            "PCS - parent (lib.)_Année_N                       0\n",
            "PCS - autre parent (code)_Année_N                 0\n",
            "Profession du parent 2_Année_N                    0\n",
            "Adresse fixe - Commune (code)_Année_N             0\n",
            "nom_de_la_commune_Année_N                         0\n",
            "Distance_en_km_Année_N                            0\n",
            "Année 1ère inscript. dans l'étab._Année_N         0\n",
            "Année de dernière inscription_Année_N          5437\n",
            "Situation année précédente (lib.)_Année_N         0\n",
            "Diplôme Evry ou Saclay_Année_N                    0\n",
            "Niveau_Année_N                                    0\n",
            "Type d'étape_Année_N                              0\n",
            "IAE - Etape (lib.)_Année_N                        0\n",
            "IAE - Etape (code)_Année_N                        0\n",
            "Diplôme SISE (type)_Année_N                       0\n",
            "Diplôme SISE intitulé 1 (lib.)_Année_N            0\n",
            "Discipline SISE (code)_Année_N                   11\n",
            "Discipline SISE (lib.)_Année_N                   11\n",
            "Secteur disciplinaire SISE (code)_Année_N        11\n",
            "Secteur disciplinaire SISE (lib.)_Année_N        11\n",
            "Composante_Année_N                                0\n",
            "Cursus LMD_Année_N                                0\n",
            "Niveau dans le diplôme (calc)_Année_N             0\n",
            "Régime d'inscription (code)_Année_N               0\n",
            "Régime d'inscription (lib.)_Année_N               0\n",
            "Boursier (O/N)_Année_N                            0\n",
            "Note Session 1_Année_N                            0\n",
            "Résultat Session 1_Année_N                        0\n",
            "Note Session 2_Année_N                            0\n",
            "Résultat Session 2_Année_N                        0\n",
            "Nombre d’admis VET_Année_N                        0\n",
            "PCS - parent (code)_Année_N+1                     0\n",
            "PCS - parent (lib.)_Année_N+1                     0\n",
            "PCS - autre parent (code)_Année_N+1               1\n",
            "Profession du parent 2_Année_N+1                  1\n",
            "Adresse fixe - Commune (code)_Année_N+1           0\n",
            "nom_de_la_commune_Année_N+1                       0\n",
            "Distance_en_km_Année_N+1                          0\n",
            "Situation année précédente (lib.)_Année_N+1       0\n",
            "Diplôme Evry ou Saclay_Année_N+1                  0\n",
            "Niveau_Année_N+1                                 17\n",
            "Type d'étape_Année_N+1                            0\n",
            "IAE - Etape (lib.)_Année_N+1                      0\n",
            "IAE - Etape (code)_Année_N+1                      0\n",
            "Diplôme SISE (type)_Année_N+1                     0\n",
            "Diplôme SISE intitulé 1 (lib.)_Année_N+1          0\n",
            "Discipline SISE (code)_Année_N+1                  1\n",
            "Discipline SISE (lib.)_Année_N+1                  1\n",
            "Secteur disciplinaire SISE (code)_Année_N+1       1\n",
            "Secteur disciplinaire SISE (lib.)_Année_N+1       1\n",
            "Composante_Année_N+1                              0\n",
            "Cursus LMD_Année_N+1                              0\n",
            "Niveau dans le diplôme (calc)_Année_N+1           0\n",
            "Régime d'inscription (code)_Année_N+1             0\n",
            "Régime d'inscription (lib.)_Année_N+1             0\n",
            "Boursier (O/N)_Année_N+1                          0\n",
            "RNA                                               0\n"
          ]
        }
      ]
    },
    {
      "cell_type": "code",
      "source": [
        "dflicence['Cursus LMD_Année_N+1'].unique()\n"
      ],
      "metadata": {
        "colab": {
          "base_uri": "https://localhost:8080/"
        },
        "id": "qbthuRodFjyS",
        "outputId": "da8cf35c-d205-4038-d224-d7de7c54ec42"
      },
      "execution_count": 7,
      "outputs": [
        {
          "output_type": "execute_result",
          "data": {
            "text/plain": [
              "array(['cursus L', 'cursus M'], dtype=object)"
            ]
          },
          "metadata": {},
          "execution_count": 7
        }
      ]
    },
    {
      "cell_type": "code",
      "source": [
        "pd.set_option('display.max_columns', None)\n",
        "pd.set_option('display.max_rows', None)\n"
      ],
      "metadata": {
        "id": "WYBUIBaoGpuT"
      },
      "execution_count": 8,
      "outputs": []
    },
    {
      "cell_type": "code",
      "source": [
        "li=dflicence[dflicence['Cursus LMD_Année_N+1']==\"cursus M\"]\n",
        "li.reset_index(drop=True, inplace=True)\n"
      ],
      "metadata": {
        "id": "H7Zz5orNGMVo"
      },
      "execution_count": 9,
      "outputs": []
    },
    {
      "cell_type": "code",
      "source": [
        "li.reset_index(drop=True, inplace=True)"
      ],
      "metadata": {
        "id": "UIf9pAISI3Xg"
      },
      "execution_count": 10,
      "outputs": []
    },
    {
      "cell_type": "markdown",
      "source": [
        "Juste par vérification, nous avons cherché le cursus en année N+1 des étudiants sélectionnés (en licence). On remarque qu'il y'a un étudiant passe de licence 1 à master 1. Son cycle d'études semblant non ordinaire (après les 3 années de licence il refait une licence 1 puis un cycle de master) nous avons décidé de le supprimer."
      ],
      "metadata": {
        "id": "Jf70tRDfKnkg"
      }
    },
    {
      "cell_type": "code",
      "source": [
        "li.iloc[0]"
      ],
      "metadata": {
        "colab": {
          "base_uri": "https://localhost:8080/"
        },
        "id": "n-Z4fj8RJPj-",
        "outputId": "e3256cd3-4bc2-44b0-e69c-c5e923eb3486"
      },
      "execution_count": 11,
      "outputs": [
        {
          "output_type": "execute_result",
          "data": {
            "text/plain": [
              "Unnamed: 0                                                                                 23334\n",
              "Année_N                                                                                     2017\n",
              "Individu - Code Etudiant                                                                20130091\n",
              "Individu - Sexe                                                                                M\n",
              "Nationalité (code)                                                                           100\n",
              "Nationalité (lib.)                                                                   FRANCAIS(E)\n",
              "Nationalité - continent                                                                   Europe\n",
              "Age au bac                                                                                    18\n",
              "Bac ou équivalence (code)                                                                      S\n",
              "Groupe de bac                                                                        Bac général\n",
              "Série du bac                                                                                   S\n",
              "Bac - Mention (lib.)                                                                  Assez bien\n",
              "Bac - Etab. préparation (code)                                                          0912161E\n",
              "Code commune Lycée                                                                         91174\n",
              "IPS du lycée                                                                               122.0\n",
              "Etudiant oui ou oui-si                                                                       Oui\n",
              "PCS - parent (code)_Année_N                                                                   48\n",
              "PCS - parent (lib.)_Année_N                                           professions intermédiaires\n",
              "PCS - autre parent (code)_Année_N                                                             82\n",
              "Profession du parent 2_Année_N                            chômeur, sans activité professionnelle\n",
              "Adresse fixe - Commune (code)_Année_N                                                      91086\n",
              "nom_de_la_commune_Année_N                                                              BONDOUFLE\n",
              "Distance_en_km_Année_N                                                                  3.976811\n",
              "Année 1ère inscript. dans l'étab._Année_N                                                   2013\n",
              "Année de dernière inscription_Année_N                                                     2020.0\n",
              "Situation année précédente (lib.)_Année_N      Université (hors IUT, IUFM, Ecole d'ingénieur ...\n",
              "Diplôme Evry ou Saclay_Année_N                                                      Diplôme UEVE\n",
              "Niveau_Année_N                                                                             bac+1\n",
              "Type d'étape_Année_N                                                                          L1\n",
              "IAE - Etape (lib.)_Année_N                                                    L1 PHYSIQUE-CHIMIE\n",
              "IAE - Etape (code)_Année_N                                                                L1PHCH\n",
              "Diplôme SISE (type)_Année_N                                                        LICENCE (LMD)\n",
              "Diplôme SISE intitulé 1 (lib.)_Année_N                                          PHYSIQUE, CHIMIE\n",
              "Discipline SISE (code)_Année_N                                                              15.0\n",
              "Discipline SISE (lib.)_Année_N                                                               SFA\n",
              "Secteur disciplinaire SISE (code)_Année_N                                                   43.0\n",
              "Secteur disciplinaire SISE (lib.)_Année_N                                             phys,chimi\n",
              "Composante_Année_N                                                                           SFA\n",
              "Cursus LMD_Année_N                                                                      cursus L\n",
              "Niveau dans le diplôme (calc)_Année_N                                                          1\n",
              "Régime d'inscription (code)_Année_N                                                     initiale\n",
              "Régime d'inscription (lib.)_Année_N                                                     initiale\n",
              "Boursier (O/N)_Année_N                                                                         N\n",
              "Note Session 1_Année_N                                                                     2.924\n",
              "Résultat Session 1_Année_N                                                               Ajourné\n",
              "Note Session 2_Année_N                                                                     0.671\n",
              "Résultat Session 2_Année_N                                                               Ajourné\n",
              "Nombre d’admis VET_Année_N                                                                     0\n",
              "PCS - parent (code)_Année_N+1                                                                 48\n",
              "PCS - parent (lib.)_Année_N+1                                         professions intermédiaires\n",
              "PCS - autre parent (code)_Année_N+1                                                         82.0\n",
              "Profession du parent 2_Année_N+1                          chômeur, sans activité professionnelle\n",
              "Adresse fixe - Commune (code)_Année_N+1                                                    91086\n",
              "nom_de_la_commune_Année_N+1                                                            BONDOUFLE\n",
              "Distance_en_km_Année_N+1                                                                3.976811\n",
              "Situation année précédente (lib.)_Année_N+1    Université (hors IUT, IUFM, Ecole d'ingénieur ...\n",
              "Diplôme Evry ou Saclay_Année_N+1                                                  Diplôme Saclay\n",
              "Niveau_Année_N+1                                                                           bac+4\n",
              "Type d'étape_Année_N+1                                                                        M1\n",
              "IAE - Etape (lib.)_Année_N+1                                            M1 DT AFF. - DT AFFAI YR\n",
              "IAE - Etape (code)_Année_N+1                                                               M1DAF\n",
              "Diplôme SISE (type)_Année_N+1                                                       MASTER (LMD)\n",
              "Diplôme SISE intitulé 1 (lib.)_Année_N+1                                      DROIT DES AFFAIRES\n",
              "Discipline SISE (code)_Année_N+1                                                             1.0\n",
              "Discipline SISE (lib.)_Année_N+1                                                      Droit - Po\n",
              "Secteur disciplinaire SISE (code)_Année_N+1                                                 36.0\n",
              "Secteur disciplinaire SISE (lib.)_Année_N+1                                           Sc juridiq\n",
              "Composante_Année_N+1                                                                         DSP\n",
              "Cursus LMD_Année_N+1                                                                    cursus M\n",
              "Niveau dans le diplôme (calc)_Année_N+1                                                        1\n",
              "Régime d'inscription (code)_Année_N+1                                                   initiale\n",
              "Régime d'inscription (lib.)_Année_N+1                                                   initiale\n",
              "Boursier (O/N)_Année_N+1                                                                       N\n",
              "RNA                                                                                       NonRNA\n",
              "Name: 0, dtype: object"
            ]
          },
          "metadata": {},
          "execution_count": 11
        }
      ]
    },
    {
      "cell_type": "code",
      "source": [
        "licence=dflicence[dflicence['Cursus LMD_Année_N+1']!=\"cursus M\"]\n",
        "licence.reset_index(drop=True, inplace=True)"
      ],
      "metadata": {
        "id": "jeaUmvKQLeyZ"
      },
      "execution_count": 12,
      "outputs": []
    },
    {
      "cell_type": "code",
      "source": [
        "licence.shape"
      ],
      "metadata": {
        "colab": {
          "base_uri": "https://localhost:8080/"
        },
        "id": "9YEvD9p9L8Om",
        "outputId": "ce42c3f3-7ddf-477c-93c3-59b59c46211f"
      },
      "execution_count": 13,
      "outputs": [
        {
          "output_type": "execute_result",
          "data": {
            "text/plain": [
              "(21758, 74)"
            ]
          },
          "metadata": {},
          "execution_count": 13
        }
      ]
    },
    {
      "cell_type": "code",
      "source": [
        "del licence['Cursus LMD_Année_N']\n",
        "del licence['Type d\\'étape_Année_N']\n",
        "del licence['Niveau_Année_N']"
      ],
      "metadata": {
        "id": "sTi5YhuIMAnw"
      },
      "execution_count": 14,
      "outputs": []
    },
    {
      "cell_type": "code",
      "source": [
        "result = licence.isna().sum().to_string(max_rows=None)\n",
        "print(result)"
      ],
      "metadata": {
        "colab": {
          "base_uri": "https://localhost:8080/"
        },
        "id": "Mgkp7eLoMh3r",
        "outputId": "45001a4a-9ddb-4709-dcd2-33813aca1447"
      },
      "execution_count": 15,
      "outputs": [
        {
          "output_type": "stream",
          "name": "stdout",
          "text": [
            "Unnamed: 0                                        0\n",
            "Année_N                                           0\n",
            "Individu - Code Etudiant                          0\n",
            "Individu - Sexe                                   0\n",
            "Nationalité (code)                                0\n",
            "Nationalité (lib.)                                0\n",
            "Nationalité - continent                           0\n",
            "Age au bac                                        0\n",
            "Bac ou équivalence (code)                         0\n",
            "Groupe de bac                                     0\n",
            "Série du bac                                      0\n",
            "Bac - Mention (lib.)                              0\n",
            "Bac - Etab. préparation (code)                    0\n",
            "Code commune Lycée                                0\n",
            "IPS du lycée                                      0\n",
            "Etudiant oui ou oui-si                            0\n",
            "PCS - parent (code)_Année_N                       0\n",
            "PCS - parent (lib.)_Année_N                       0\n",
            "PCS - autre parent (code)_Année_N                 0\n",
            "Profession du parent 2_Année_N                    0\n",
            "Adresse fixe - Commune (code)_Année_N             0\n",
            "nom_de_la_commune_Année_N                         0\n",
            "Distance_en_km_Année_N                            0\n",
            "Année 1ère inscript. dans l'étab._Année_N         0\n",
            "Année de dernière inscription_Année_N          5436\n",
            "Situation année précédente (lib.)_Année_N         0\n",
            "Diplôme Evry ou Saclay_Année_N                    0\n",
            "IAE - Etape (lib.)_Année_N                        0\n",
            "IAE - Etape (code)_Année_N                        0\n",
            "Diplôme SISE (type)_Année_N                       0\n",
            "Diplôme SISE intitulé 1 (lib.)_Année_N            0\n",
            "Discipline SISE (code)_Année_N                   11\n",
            "Discipline SISE (lib.)_Année_N                   11\n",
            "Secteur disciplinaire SISE (code)_Année_N        11\n",
            "Secteur disciplinaire SISE (lib.)_Année_N        11\n",
            "Composante_Année_N                                0\n",
            "Niveau dans le diplôme (calc)_Année_N             0\n",
            "Régime d'inscription (code)_Année_N               0\n",
            "Régime d'inscription (lib.)_Année_N               0\n",
            "Boursier (O/N)_Année_N                            0\n",
            "Note Session 1_Année_N                            0\n",
            "Résultat Session 1_Année_N                        0\n",
            "Note Session 2_Année_N                            0\n",
            "Résultat Session 2_Année_N                        0\n",
            "Nombre d’admis VET_Année_N                        0\n",
            "PCS - parent (code)_Année_N+1                     0\n",
            "PCS - parent (lib.)_Année_N+1                     0\n",
            "PCS - autre parent (code)_Année_N+1               1\n",
            "Profession du parent 2_Année_N+1                  1\n",
            "Adresse fixe - Commune (code)_Année_N+1           0\n",
            "nom_de_la_commune_Année_N+1                       0\n",
            "Distance_en_km_Année_N+1                          0\n",
            "Situation année précédente (lib.)_Année_N+1       0\n",
            "Diplôme Evry ou Saclay_Année_N+1                  0\n",
            "Niveau_Année_N+1                                 17\n",
            "Type d'étape_Année_N+1                            0\n",
            "IAE - Etape (lib.)_Année_N+1                      0\n",
            "IAE - Etape (code)_Année_N+1                      0\n",
            "Diplôme SISE (type)_Année_N+1                     0\n",
            "Diplôme SISE intitulé 1 (lib.)_Année_N+1          0\n",
            "Discipline SISE (code)_Année_N+1                  1\n",
            "Discipline SISE (lib.)_Année_N+1                  1\n",
            "Secteur disciplinaire SISE (code)_Année_N+1       1\n",
            "Secteur disciplinaire SISE (lib.)_Année_N+1       1\n",
            "Composante_Année_N+1                              0\n",
            "Cursus LMD_Année_N+1                              0\n",
            "Niveau dans le diplôme (calc)_Année_N+1           0\n",
            "Régime d'inscription (code)_Année_N+1             0\n",
            "Régime d'inscription (lib.)_Année_N+1             0\n",
            "Boursier (O/N)_Année_N+1                          0\n",
            "RNA                                               0\n"
          ]
        }
      ]
    },
    {
      "cell_type": "code",
      "source": [
        "licence['nom_de_la_commune_Année_N'].fillna(\"Etranger\",inplace=True)\n",
        "licence['Distance_en_km_Année_N'].fillna(licence['Distance_en_km_Année_N'].mean(),inplace=True)\n",
        "licence['nom_de_la_commune_Année_N+1'].fillna(\"Etranger\",inplace=True)\n",
        "licence['Distance_en_km_Année_N+1'].fillna(licence['Distance_en_km_Année_N+1'].mean(),inplace=True)"
      ],
      "metadata": {
        "colab": {
          "base_uri": "https://localhost:8080/"
        },
        "id": "hGI0J280MveA",
        "outputId": "7a4edff2-c603-472c-a9f6-69c61d06613d"
      },
      "execution_count": 16,
      "outputs": [
        {
          "output_type": "stream",
          "name": "stderr",
          "text": [
            "<ipython-input-16-1ccbf17696fb>:1: SettingWithCopyWarning: \n",
            "A value is trying to be set on a copy of a slice from a DataFrame\n",
            "\n",
            "See the caveats in the documentation: https://pandas.pydata.org/pandas-docs/stable/user_guide/indexing.html#returning-a-view-versus-a-copy\n",
            "  licence['nom_de_la_commune_Année_N'].fillna(\"Etranger\",inplace=True)\n",
            "<ipython-input-16-1ccbf17696fb>:2: SettingWithCopyWarning: \n",
            "A value is trying to be set on a copy of a slice from a DataFrame\n",
            "\n",
            "See the caveats in the documentation: https://pandas.pydata.org/pandas-docs/stable/user_guide/indexing.html#returning-a-view-versus-a-copy\n",
            "  licence['Distance_en_km_Année_N'].fillna(licence['Distance_en_km_Année_N'].mean(),inplace=True)\n",
            "<ipython-input-16-1ccbf17696fb>:3: SettingWithCopyWarning: \n",
            "A value is trying to be set on a copy of a slice from a DataFrame\n",
            "\n",
            "See the caveats in the documentation: https://pandas.pydata.org/pandas-docs/stable/user_guide/indexing.html#returning-a-view-versus-a-copy\n",
            "  licence['nom_de_la_commune_Année_N+1'].fillna(\"Etranger\",inplace=True)\n",
            "<ipython-input-16-1ccbf17696fb>:4: SettingWithCopyWarning: \n",
            "A value is trying to be set on a copy of a slice from a DataFrame\n",
            "\n",
            "See the caveats in the documentation: https://pandas.pydata.org/pandas-docs/stable/user_guide/indexing.html#returning-a-view-versus-a-copy\n",
            "  licence['Distance_en_km_Année_N+1'].fillna(licence['Distance_en_km_Année_N+1'].mean(),inplace=True)\n"
          ]
        }
      ]
    },
    {
      "cell_type": "code",
      "source": [
        "file='data_licence.xlsx'\n",
        "licence.to_excel(file)\n",
        "print(\"Success\")"
      ],
      "metadata": {
        "colab": {
          "base_uri": "https://localhost:8080/"
        },
        "id": "suoRsIbyNCRV",
        "outputId": "5dab051b-a948-4e09-d8f5-a61e42f84489"
      },
      "execution_count": 17,
      "outputs": [
        {
          "output_type": "stream",
          "name": "stdout",
          "text": [
            "Success\n"
          ]
        }
      ]
    },
    {
      "cell_type": "code",
      "source": [
        "(licence[licence['Diplôme SISE intitulé 1 (lib.)_Année_N']==\"MATHEMATIQUES\"])['Secteur disciplinaire SISE (lib.)_Année_N'].unique()"
      ],
      "metadata": {
        "colab": {
          "base_uri": "https://localhost:8080/"
        },
        "id": "wTw1SADANmgO",
        "outputId": "9bddeeaf-f23b-495c-b816-590f905b2284"
      },
      "execution_count": 18,
      "outputs": [
        {
          "output_type": "execute_result",
          "data": {
            "text/plain": [
              "array(['Mathématiq', nan], dtype=object)"
            ]
          },
          "metadata": {},
          "execution_count": 18
        }
      ]
    },
    {
      "cell_type": "code",
      "source": [
        "licence['Discipline SISE (code)_Année_N'].fillna(15.,inplace=True)\n",
        "licence['Secteur disciplinaire SISE (code)_Année_N'].fillna(1.,inplace=True)\n",
        "licence['Discipline SISE (lib.)_Année_N'].fillna(\"SFA\",inplace=True)\n",
        "licence['Secteur disciplinaire SISE (lib.)_Année_N'].fillna(\"Mathématiq\",inplace=True)"
      ],
      "metadata": {
        "colab": {
          "base_uri": "https://localhost:8080/"
        },
        "id": "FT6ZcAJtOGnO",
        "outputId": "efcfc030-dc92-46f4-8012-f1b9e0c18fc7"
      },
      "execution_count": 19,
      "outputs": [
        {
          "output_type": "stream",
          "name": "stderr",
          "text": [
            "<ipython-input-19-16ce34167141>:1: SettingWithCopyWarning: \n",
            "A value is trying to be set on a copy of a slice from a DataFrame\n",
            "\n",
            "See the caveats in the documentation: https://pandas.pydata.org/pandas-docs/stable/user_guide/indexing.html#returning-a-view-versus-a-copy\n",
            "  licence['Discipline SISE (code)_Année_N'].fillna(15.,inplace=True)\n",
            "<ipython-input-19-16ce34167141>:2: SettingWithCopyWarning: \n",
            "A value is trying to be set on a copy of a slice from a DataFrame\n",
            "\n",
            "See the caveats in the documentation: https://pandas.pydata.org/pandas-docs/stable/user_guide/indexing.html#returning-a-view-versus-a-copy\n",
            "  licence['Secteur disciplinaire SISE (code)_Année_N'].fillna(1.,inplace=True)\n",
            "<ipython-input-19-16ce34167141>:3: SettingWithCopyWarning: \n",
            "A value is trying to be set on a copy of a slice from a DataFrame\n",
            "\n",
            "See the caveats in the documentation: https://pandas.pydata.org/pandas-docs/stable/user_guide/indexing.html#returning-a-view-versus-a-copy\n",
            "  licence['Discipline SISE (lib.)_Année_N'].fillna(\"SFA\",inplace=True)\n",
            "<ipython-input-19-16ce34167141>:4: SettingWithCopyWarning: \n",
            "A value is trying to be set on a copy of a slice from a DataFrame\n",
            "\n",
            "See the caveats in the documentation: https://pandas.pydata.org/pandas-docs/stable/user_guide/indexing.html#returning-a-view-versus-a-copy\n",
            "  licence['Secteur disciplinaire SISE (lib.)_Année_N'].fillna(\"Mathématiq\",inplace=True)\n"
          ]
        }
      ]
    },
    {
      "cell_type": "code",
      "source": [
        "licence['Discipline SISE (code)_Année_N+1'].fillna(15.,inplace=True)\n",
        "licence['Secteur disciplinaire SISE (code)_Année_N+1'].fillna(1.,inplace=True)\n",
        "licence['Discipline SISE (lib.)_Année_N+1'].fillna(\"SFA\",inplace=True)\n",
        "licence['Secteur disciplinaire SISE (lib.)_Année_N+1'].fillna(\"Mathématiq\",inplace=True)"
      ],
      "metadata": {
        "colab": {
          "base_uri": "https://localhost:8080/"
        },
        "id": "eGVRcaBBPczm",
        "outputId": "4440a684-eb69-4b4d-e12f-affbc9c70be6"
      },
      "execution_count": 20,
      "outputs": [
        {
          "output_type": "stream",
          "name": "stderr",
          "text": [
            "<ipython-input-20-ad118ba72c27>:1: SettingWithCopyWarning: \n",
            "A value is trying to be set on a copy of a slice from a DataFrame\n",
            "\n",
            "See the caveats in the documentation: https://pandas.pydata.org/pandas-docs/stable/user_guide/indexing.html#returning-a-view-versus-a-copy\n",
            "  licence['Discipline SISE (code)_Année_N+1'].fillna(15.,inplace=True)\n",
            "<ipython-input-20-ad118ba72c27>:2: SettingWithCopyWarning: \n",
            "A value is trying to be set on a copy of a slice from a DataFrame\n",
            "\n",
            "See the caveats in the documentation: https://pandas.pydata.org/pandas-docs/stable/user_guide/indexing.html#returning-a-view-versus-a-copy\n",
            "  licence['Secteur disciplinaire SISE (code)_Année_N+1'].fillna(1.,inplace=True)\n",
            "<ipython-input-20-ad118ba72c27>:3: SettingWithCopyWarning: \n",
            "A value is trying to be set on a copy of a slice from a DataFrame\n",
            "\n",
            "See the caveats in the documentation: https://pandas.pydata.org/pandas-docs/stable/user_guide/indexing.html#returning-a-view-versus-a-copy\n",
            "  licence['Discipline SISE (lib.)_Année_N+1'].fillna(\"SFA\",inplace=True)\n",
            "<ipython-input-20-ad118ba72c27>:4: SettingWithCopyWarning: \n",
            "A value is trying to be set on a copy of a slice from a DataFrame\n",
            "\n",
            "See the caveats in the documentation: https://pandas.pydata.org/pandas-docs/stable/user_guide/indexing.html#returning-a-view-versus-a-copy\n",
            "  licence['Secteur disciplinaire SISE (lib.)_Année_N+1'].fillna(\"Mathématiq\",inplace=True)\n"
          ]
        }
      ]
    },
    {
      "cell_type": "code",
      "source": [
        "licence['Année de dernière inscription_Année_N'].fillna(2024,inplace=True)"
      ],
      "metadata": {
        "colab": {
          "base_uri": "https://localhost:8080/"
        },
        "id": "tGC2eV4cP1wl",
        "outputId": "7ba9d9ba-5621-407b-93cd-ecf781fe9fd5"
      },
      "execution_count": 21,
      "outputs": [
        {
          "output_type": "stream",
          "name": "stderr",
          "text": [
            "<ipython-input-21-6cd771ea6c8d>:1: SettingWithCopyWarning: \n",
            "A value is trying to be set on a copy of a slice from a DataFrame\n",
            "\n",
            "See the caveats in the documentation: https://pandas.pydata.org/pandas-docs/stable/user_guide/indexing.html#returning-a-view-versus-a-copy\n",
            "  licence['Année de dernière inscription_Année_N'].fillna(2024,inplace=True)\n"
          ]
        }
      ]
    },
    {
      "cell_type": "code",
      "source": [
        "file2='datli.xlsx'\n",
        "licence.to_excel(file2)\n",
        "print(\"Sucess\")"
      ],
      "metadata": {
        "colab": {
          "base_uri": "https://localhost:8080/"
        },
        "id": "RCqUl_TKQZMI",
        "outputId": "1f394583-9c4e-4f55-f399-29912bf36016"
      },
      "execution_count": 22,
      "outputs": [
        {
          "output_type": "stream",
          "name": "stdout",
          "text": [
            "Sucess\n"
          ]
        }
      ]
    },
    {
      "cell_type": "code",
      "source": [
        "del licence['Cursus LMD_Année_N+1']\n",
        "licence['Niveau_Année_N+1'].fillna(\"bac+1\",inplace=True)"
      ],
      "metadata": {
        "colab": {
          "base_uri": "https://localhost:8080/"
        },
        "id": "cgmI9cKYRJO2",
        "outputId": "3b62c499-1d79-4ebe-c04d-18bb834d2d6a"
      },
      "execution_count": 23,
      "outputs": [
        {
          "output_type": "stream",
          "name": "stderr",
          "text": [
            "<ipython-input-23-87b5ba072849>:2: SettingWithCopyWarning: \n",
            "A value is trying to be set on a copy of a slice from a DataFrame\n",
            "\n",
            "See the caveats in the documentation: https://pandas.pydata.org/pandas-docs/stable/user_guide/indexing.html#returning-a-view-versus-a-copy\n",
            "  licence['Niveau_Année_N+1'].fillna(\"bac+1\",inplace=True)\n"
          ]
        }
      ]
    },
    {
      "cell_type": "code",
      "source": [
        "del licence['Unnamed: 0']"
      ],
      "metadata": {
        "id": "LPWVmzBAR0oB"
      },
      "execution_count": 24,
      "outputs": []
    },
    {
      "cell_type": "code",
      "source": [
        "file2='data_licence1.xlsx'\n",
        "licence.to_excel(file2)\n",
        "print(\"Sucess\")"
      ],
      "metadata": {
        "colab": {
          "base_uri": "https://localhost:8080/"
        },
        "id": "c2NS_P5CSBoi",
        "outputId": "7f238c46-32e3-455f-c814-0167b19dd948"
      },
      "execution_count": 25,
      "outputs": [
        {
          "output_type": "stream",
          "name": "stdout",
          "text": [
            "Sucess\n"
          ]
        }
      ]
    }
  ]
}