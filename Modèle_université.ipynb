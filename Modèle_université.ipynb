{
  "nbformat": 4,
  "nbformat_minor": 0,
  "metadata": {
    "colab": {
      "provenance": [],
      "authorship_tag": "ABX9TyPWC/GVfss1mFnh2/Nv5auq",
      "include_colab_link": true
    },
    "kernelspec": {
      "name": "python3",
      "display_name": "Python 3"
    },
    "language_info": {
      "name": "python"
    }
  },
  "cells": [
    {
      "cell_type": "markdown",
      "metadata": {
        "id": "view-in-github",
        "colab_type": "text"
      },
      "source": [
        "<a href=\"https://colab.research.google.com/github/Ines8991/classification_rna/blob/main/Mod%C3%A8le_universit%C3%A9.ipynb\" target=\"_parent\"><img src=\"https://colab.research.google.com/assets/colab-badge.svg\" alt=\"Open In Colab\"/></a>"
      ]
    },
    {
      "cell_type": "code",
      "execution_count": 1,
      "metadata": {
        "id": "hmBjzwfQf15r"
      },
      "outputs": [],
      "source": [
        "import numpy as np\n",
        "import matplotlib.pyplot as plt\n",
        "import pandas as pd\n",
        "import seaborn as sns\n",
        "import os\n",
        "import re\n",
        "from sklearn.model_selection import train_test_split\n",
        "from sklearn.preprocessing import RobustScaler\n",
        "\n",
        "from sklearn.linear_model import LogisticRegression"
      ]
    },
    {
      "cell_type": "markdown",
      "source": [
        "##CHARGEMENT ET TRAITEMENT DE VALEURS MANQUANTES POTENTIELLES"
      ],
      "metadata": {
        "id": "3JGBZYx7RaUX"
      }
    },
    {
      "cell_type": "markdown",
      "source": [
        "Il faudrait charger le fichier data_licence1 (2) recensant les caractéristiques des étudiants sur 2 ans, le fichier distance_et_nom_commune permettant de calculer la distance et le nouveau finchier dont on veut prédire les RNA"
      ],
      "metadata": {
        "id": "jl-kh2nyRlLI"
      }
    },
    {
      "cell_type": "code",
      "source": [
        "don=pd.read_excel(r'/content/data_licence1 (2).xlsx')\n",
        "don.shape"
      ],
      "metadata": {
        "colab": {
          "base_uri": "https://localhost:8080/"
        },
        "id": "rvggEaqjgyxu",
        "outputId": "f550b6fd-477d-4c77-c4e3-62df49d695b5"
      },
      "execution_count": 2,
      "outputs": [
        {
          "output_type": "execute_result",
          "data": {
            "text/plain": [
              "(21758, 70)"
            ]
          },
          "metadata": {},
          "execution_count": 2
        }
      ]
    },
    {
      "cell_type": "markdown",
      "source": [
        "Traitement de potentielles valeurs manquantes dans le nouveau fichier"
      ],
      "metadata": {
        "id": "iq3LbC_eJILg"
      }
    },
    {
      "cell_type": "code",
      "source": [
        "new=pd.read_excel(r'/content/data_licence_2021.xlsx')\n",
        "new.columns.tolist()"
      ],
      "metadata": {
        "colab": {
          "base_uri": "https://localhost:8080/"
        },
        "id": "aMRJnIaOxrRy",
        "outputId": "09beaa54-bfeb-482e-bd2f-fc6d26f0012e"
      },
      "execution_count": 3,
      "outputs": [
        {
          "output_type": "execute_result",
          "data": {
            "text/plain": [
              "['Année_N',\n",
              " 'Individu - Code Etudiant',\n",
              " 'Individu - Sexe',\n",
              " 'Nationalité (code)',\n",
              " 'Age au bac',\n",
              " 'Groupe de bac',\n",
              " 'Série du bac',\n",
              " 'Bac - Mention (lib.)',\n",
              " 'IPS du lycée',\n",
              " 'Etudiant oui ou oui-si',\n",
              " 'PCS - parent (lib.)_Année_N',\n",
              " 'Profession du parent 2_Année_N',\n",
              " 'Situation année précédente (lib.)_Année_N',\n",
              " 'Diplôme Evry ou Saclay_Année_N+1',\n",
              " 'IAE - Etape (lib.)_Année_N',\n",
              " 'Diplôme SISE intitulé 1 (lib.)_Année_N',\n",
              " 'Discipline SISE (lib.)_Année_N',\n",
              " 'Secteur disciplinaire SISE (lib.)_Année_N',\n",
              " 'Composante_Année_N',\n",
              " 'Nombre d’admis VET_Année_N',\n",
              " 'Adresse fixe - Commune (code)_Année_N',\n",
              " 'Adresse fixe - Commune (code)_Année_N+1',\n",
              " 'IAE - Etape (lib.)_Année_N+1',\n",
              " 'Boursier (O/N)_Année_N',\n",
              " 'Note Session 1_Année_N',\n",
              " 'Résultat Session 1_Année_N',\n",
              " 'Note Session 2_Année_N',\n",
              " 'Résultat Session 2_Année_N',\n",
              " 'PCS - parent (lib.)_Année_N+1',\n",
              " \"Type d'étape_Année_N+1\",\n",
              " 'Profession du parent 2_Année_N+1',\n",
              " \"Régime d'inscription (lib.)_Année_N+1\",\n",
              " 'Boursier (O/N)_Année_N+1',\n",
              " 'RNA']"
            ]
          },
          "metadata": {},
          "execution_count": 3
        }
      ]
    },
    {
      "cell_type": "code",
      "source": [
        "dist=pd.read_excel(r'/content/distance_et_nom_commune.xlsx')"
      ],
      "metadata": {
        "id": "WqdhsfgrLl8i"
      },
      "execution_count": 4,
      "outputs": []
    },
    {
      "cell_type": "code",
      "source": [
        "new['Adresse fixe - Commune (code)_Année_N']=new['Adresse fixe - Commune (code)_Année_N'].astype(int)\n",
        "new['Adresse fixe - Commune (code)_Année_N'] = new['Adresse fixe - Commune (code)_Année_N'].astype(str)\n",
        "new['Adresse fixe - Commune (code)_Année_N'] = new['Adresse fixe - Commune (code)_Année_N'].apply(lambda x: f'{x}')"
      ],
      "metadata": {
        "id": "W7HtPRoFOT2P"
      },
      "execution_count": 5,
      "outputs": []
    },
    {
      "cell_type": "code",
      "source": [
        "new['Adresse fixe - Commune (code)_Année_N+1']=new['Adresse fixe - Commune (code)_Année_N+1'].astype(int)\n",
        "new['Adresse fixe - Commune (code)_Année_N+1'] = new['Adresse fixe - Commune (code)_Année_N+1'].astype(str)\n",
        "new['Adresse fixe - Commune (code)_Année_N+1'] = new['Adresse fixe - Commune (code)_Année_N+1'].apply(lambda x: f'{x}')"
      ],
      "metadata": {
        "id": "Ks3OgB1JOiOS"
      },
      "execution_count": 6,
      "outputs": []
    },
    {
      "cell_type": "code",
      "source": [
        "new=pd.merge(new,dist,left_on=\"Adresse fixe - Commune (code)_Année_N\",right_on=\"Adresse fixe - Commune (code)\",how=\"left\")\n",
        "new.head(2)\n",
        "\n"
      ],
      "metadata": {
        "colab": {
          "base_uri": "https://localhost:8080/",
          "height": 283
        },
        "id": "ZBbbKGGgKDgw",
        "outputId": "da9193e7-2baa-40f3-e47c-9d8981cf3c2b"
      },
      "execution_count": 7,
      "outputs": [
        {
          "output_type": "execute_result",
          "data": {
            "text/plain": [
              "   Année_N  Individu - Code Etudiant Individu - Sexe  Nationalité (code)  \\\n",
              "0     2021                  20032780               F                 100   \n",
              "1     2021                  20151426               M                 100   \n",
              "\n",
              "   Age au bac Groupe de bac       Série du bac Bac - Mention (lib.)  \\\n",
              "0          20    Bac techno               STMG             Passable   \n",
              "1          20       Bac pro  Bac Pro Tertiaire                 Bien   \n",
              "\n",
              "   IPS du lycée Etudiant oui ou oui-si  ... Résultat Session 2_Année_N  \\\n",
              "0           0.0                    Oui  ...                      Admis   \n",
              "1          88.3                    Oui  ...                      Admis   \n",
              "\n",
              "            PCS - parent (lib.)_Année_N+1 Type d'étape_Année_N+1  \\\n",
              "0  chômeur, sans activité professionnelle                     L2   \n",
              "1              professions intermédiaires                     L2   \n",
              "\n",
              "         Profession du parent 2_Année_N+1  \\\n",
              "0             sans objet ou non renseigné   \n",
              "1  chômeur, sans activité professionnelle   \n",
              "\n",
              "  Régime d'inscription (lib.)_Année_N+1 Boursier (O/N)_Année_N+1     RNA  \\\n",
              "0                            FC sans CP                        N  NonRNA   \n",
              "1                            FC sans CP                        N  NonRNA   \n",
              "\n",
              "  Adresse fixe - Commune (code) nom_de_la_commune  Distance_en_km  \n",
              "0                         91286            GRIGNY        4.595448  \n",
              "1                         91432          MORANGIS       10.861572  \n",
              "\n",
              "[2 rows x 37 columns]"
            ],
            "text/html": [
              "\n",
              "  <div id=\"df-97229eb5-e7dc-4c9b-a6fb-cfda071c589a\" class=\"colab-df-container\">\n",
              "    <div>\n",
              "<style scoped>\n",
              "    .dataframe tbody tr th:only-of-type {\n",
              "        vertical-align: middle;\n",
              "    }\n",
              "\n",
              "    .dataframe tbody tr th {\n",
              "        vertical-align: top;\n",
              "    }\n",
              "\n",
              "    .dataframe thead th {\n",
              "        text-align: right;\n",
              "    }\n",
              "</style>\n",
              "<table border=\"1\" class=\"dataframe\">\n",
              "  <thead>\n",
              "    <tr style=\"text-align: right;\">\n",
              "      <th></th>\n",
              "      <th>Année_N</th>\n",
              "      <th>Individu - Code Etudiant</th>\n",
              "      <th>Individu - Sexe</th>\n",
              "      <th>Nationalité (code)</th>\n",
              "      <th>Age au bac</th>\n",
              "      <th>Groupe de bac</th>\n",
              "      <th>Série du bac</th>\n",
              "      <th>Bac - Mention (lib.)</th>\n",
              "      <th>IPS du lycée</th>\n",
              "      <th>Etudiant oui ou oui-si</th>\n",
              "      <th>...</th>\n",
              "      <th>Résultat Session 2_Année_N</th>\n",
              "      <th>PCS - parent (lib.)_Année_N+1</th>\n",
              "      <th>Type d'étape_Année_N+1</th>\n",
              "      <th>Profession du parent 2_Année_N+1</th>\n",
              "      <th>Régime d'inscription (lib.)_Année_N+1</th>\n",
              "      <th>Boursier (O/N)_Année_N+1</th>\n",
              "      <th>RNA</th>\n",
              "      <th>Adresse fixe - Commune (code)</th>\n",
              "      <th>nom_de_la_commune</th>\n",
              "      <th>Distance_en_km</th>\n",
              "    </tr>\n",
              "  </thead>\n",
              "  <tbody>\n",
              "    <tr>\n",
              "      <th>0</th>\n",
              "      <td>2021</td>\n",
              "      <td>20032780</td>\n",
              "      <td>F</td>\n",
              "      <td>100</td>\n",
              "      <td>20</td>\n",
              "      <td>Bac techno</td>\n",
              "      <td>STMG</td>\n",
              "      <td>Passable</td>\n",
              "      <td>0.0</td>\n",
              "      <td>Oui</td>\n",
              "      <td>...</td>\n",
              "      <td>Admis</td>\n",
              "      <td>chômeur, sans activité professionnelle</td>\n",
              "      <td>L2</td>\n",
              "      <td>sans objet ou non renseigné</td>\n",
              "      <td>FC sans CP</td>\n",
              "      <td>N</td>\n",
              "      <td>NonRNA</td>\n",
              "      <td>91286</td>\n",
              "      <td>GRIGNY</td>\n",
              "      <td>4.595448</td>\n",
              "    </tr>\n",
              "    <tr>\n",
              "      <th>1</th>\n",
              "      <td>2021</td>\n",
              "      <td>20151426</td>\n",
              "      <td>M</td>\n",
              "      <td>100</td>\n",
              "      <td>20</td>\n",
              "      <td>Bac pro</td>\n",
              "      <td>Bac Pro Tertiaire</td>\n",
              "      <td>Bien</td>\n",
              "      <td>88.3</td>\n",
              "      <td>Oui</td>\n",
              "      <td>...</td>\n",
              "      <td>Admis</td>\n",
              "      <td>professions intermédiaires</td>\n",
              "      <td>L2</td>\n",
              "      <td>chômeur, sans activité professionnelle</td>\n",
              "      <td>FC sans CP</td>\n",
              "      <td>N</td>\n",
              "      <td>NonRNA</td>\n",
              "      <td>91432</td>\n",
              "      <td>MORANGIS</td>\n",
              "      <td>10.861572</td>\n",
              "    </tr>\n",
              "  </tbody>\n",
              "</table>\n",
              "<p>2 rows × 37 columns</p>\n",
              "</div>\n",
              "    <div class=\"colab-df-buttons\">\n",
              "\n",
              "  <div class=\"colab-df-container\">\n",
              "    <button class=\"colab-df-convert\" onclick=\"convertToInteractive('df-97229eb5-e7dc-4c9b-a6fb-cfda071c589a')\"\n",
              "            title=\"Convert this dataframe to an interactive table.\"\n",
              "            style=\"display:none;\">\n",
              "\n",
              "  <svg xmlns=\"http://www.w3.org/2000/svg\" height=\"24px\" viewBox=\"0 -960 960 960\">\n",
              "    <path d=\"M120-120v-720h720v720H120Zm60-500h600v-160H180v160Zm220 220h160v-160H400v160Zm0 220h160v-160H400v160ZM180-400h160v-160H180v160Zm440 0h160v-160H620v160ZM180-180h160v-160H180v160Zm440 0h160v-160H620v160Z\"/>\n",
              "  </svg>\n",
              "    </button>\n",
              "\n",
              "  <style>\n",
              "    .colab-df-container {\n",
              "      display:flex;\n",
              "      gap: 12px;\n",
              "    }\n",
              "\n",
              "    .colab-df-convert {\n",
              "      background-color: #E8F0FE;\n",
              "      border: none;\n",
              "      border-radius: 50%;\n",
              "      cursor: pointer;\n",
              "      display: none;\n",
              "      fill: #1967D2;\n",
              "      height: 32px;\n",
              "      padding: 0 0 0 0;\n",
              "      width: 32px;\n",
              "    }\n",
              "\n",
              "    .colab-df-convert:hover {\n",
              "      background-color: #E2EBFA;\n",
              "      box-shadow: 0px 1px 2px rgba(60, 64, 67, 0.3), 0px 1px 3px 1px rgba(60, 64, 67, 0.15);\n",
              "      fill: #174EA6;\n",
              "    }\n",
              "\n",
              "    .colab-df-buttons div {\n",
              "      margin-bottom: 4px;\n",
              "    }\n",
              "\n",
              "    [theme=dark] .colab-df-convert {\n",
              "      background-color: #3B4455;\n",
              "      fill: #D2E3FC;\n",
              "    }\n",
              "\n",
              "    [theme=dark] .colab-df-convert:hover {\n",
              "      background-color: #434B5C;\n",
              "      box-shadow: 0px 1px 3px 1px rgba(0, 0, 0, 0.15);\n",
              "      filter: drop-shadow(0px 1px 2px rgba(0, 0, 0, 0.3));\n",
              "      fill: #FFFFFF;\n",
              "    }\n",
              "  </style>\n",
              "\n",
              "    <script>\n",
              "      const buttonEl =\n",
              "        document.querySelector('#df-97229eb5-e7dc-4c9b-a6fb-cfda071c589a button.colab-df-convert');\n",
              "      buttonEl.style.display =\n",
              "        google.colab.kernel.accessAllowed ? 'block' : 'none';\n",
              "\n",
              "      async function convertToInteractive(key) {\n",
              "        const element = document.querySelector('#df-97229eb5-e7dc-4c9b-a6fb-cfda071c589a');\n",
              "        const dataTable =\n",
              "          await google.colab.kernel.invokeFunction('convertToInteractive',\n",
              "                                                    [key], {});\n",
              "        if (!dataTable) return;\n",
              "\n",
              "        const docLinkHtml = 'Like what you see? Visit the ' +\n",
              "          '<a target=\"_blank\" href=https://colab.research.google.com/notebooks/data_table.ipynb>data table notebook</a>'\n",
              "          + ' to learn more about interactive tables.';\n",
              "        element.innerHTML = '';\n",
              "        dataTable['output_type'] = 'display_data';\n",
              "        await google.colab.output.renderOutput(dataTable, element);\n",
              "        const docLink = document.createElement('div');\n",
              "        docLink.innerHTML = docLinkHtml;\n",
              "        element.appendChild(docLink);\n",
              "      }\n",
              "    </script>\n",
              "  </div>\n",
              "\n",
              "\n",
              "<div id=\"df-dbb5ebb8-774f-49a5-9805-8498509f4dcd\">\n",
              "  <button class=\"colab-df-quickchart\" onclick=\"quickchart('df-dbb5ebb8-774f-49a5-9805-8498509f4dcd')\"\n",
              "            title=\"Suggest charts.\"\n",
              "            style=\"display:none;\">\n",
              "\n",
              "<svg xmlns=\"http://www.w3.org/2000/svg\" height=\"24px\"viewBox=\"0 0 24 24\"\n",
              "     width=\"24px\">\n",
              "    <g>\n",
              "        <path d=\"M19 3H5c-1.1 0-2 .9-2 2v14c0 1.1.9 2 2 2h14c1.1 0 2-.9 2-2V5c0-1.1-.9-2-2-2zM9 17H7v-7h2v7zm4 0h-2V7h2v10zm4 0h-2v-4h2v4z\"/>\n",
              "    </g>\n",
              "</svg>\n",
              "  </button>\n",
              "\n",
              "<style>\n",
              "  .colab-df-quickchart {\n",
              "      --bg-color: #E8F0FE;\n",
              "      --fill-color: #1967D2;\n",
              "      --hover-bg-color: #E2EBFA;\n",
              "      --hover-fill-color: #174EA6;\n",
              "      --disabled-fill-color: #AAA;\n",
              "      --disabled-bg-color: #DDD;\n",
              "  }\n",
              "\n",
              "  [theme=dark] .colab-df-quickchart {\n",
              "      --bg-color: #3B4455;\n",
              "      --fill-color: #D2E3FC;\n",
              "      --hover-bg-color: #434B5C;\n",
              "      --hover-fill-color: #FFFFFF;\n",
              "      --disabled-bg-color: #3B4455;\n",
              "      --disabled-fill-color: #666;\n",
              "  }\n",
              "\n",
              "  .colab-df-quickchart {\n",
              "    background-color: var(--bg-color);\n",
              "    border: none;\n",
              "    border-radius: 50%;\n",
              "    cursor: pointer;\n",
              "    display: none;\n",
              "    fill: var(--fill-color);\n",
              "    height: 32px;\n",
              "    padding: 0;\n",
              "    width: 32px;\n",
              "  }\n",
              "\n",
              "  .colab-df-quickchart:hover {\n",
              "    background-color: var(--hover-bg-color);\n",
              "    box-shadow: 0 1px 2px rgba(60, 64, 67, 0.3), 0 1px 3px 1px rgba(60, 64, 67, 0.15);\n",
              "    fill: var(--button-hover-fill-color);\n",
              "  }\n",
              "\n",
              "  .colab-df-quickchart-complete:disabled,\n",
              "  .colab-df-quickchart-complete:disabled:hover {\n",
              "    background-color: var(--disabled-bg-color);\n",
              "    fill: var(--disabled-fill-color);\n",
              "    box-shadow: none;\n",
              "  }\n",
              "\n",
              "  .colab-df-spinner {\n",
              "    border: 2px solid var(--fill-color);\n",
              "    border-color: transparent;\n",
              "    border-bottom-color: var(--fill-color);\n",
              "    animation:\n",
              "      spin 1s steps(1) infinite;\n",
              "  }\n",
              "\n",
              "  @keyframes spin {\n",
              "    0% {\n",
              "      border-color: transparent;\n",
              "      border-bottom-color: var(--fill-color);\n",
              "      border-left-color: var(--fill-color);\n",
              "    }\n",
              "    20% {\n",
              "      border-color: transparent;\n",
              "      border-left-color: var(--fill-color);\n",
              "      border-top-color: var(--fill-color);\n",
              "    }\n",
              "    30% {\n",
              "      border-color: transparent;\n",
              "      border-left-color: var(--fill-color);\n",
              "      border-top-color: var(--fill-color);\n",
              "      border-right-color: var(--fill-color);\n",
              "    }\n",
              "    40% {\n",
              "      border-color: transparent;\n",
              "      border-right-color: var(--fill-color);\n",
              "      border-top-color: var(--fill-color);\n",
              "    }\n",
              "    60% {\n",
              "      border-color: transparent;\n",
              "      border-right-color: var(--fill-color);\n",
              "    }\n",
              "    80% {\n",
              "      border-color: transparent;\n",
              "      border-right-color: var(--fill-color);\n",
              "      border-bottom-color: var(--fill-color);\n",
              "    }\n",
              "    90% {\n",
              "      border-color: transparent;\n",
              "      border-bottom-color: var(--fill-color);\n",
              "    }\n",
              "  }\n",
              "</style>\n",
              "\n",
              "  <script>\n",
              "    async function quickchart(key) {\n",
              "      const quickchartButtonEl =\n",
              "        document.querySelector('#' + key + ' button');\n",
              "      quickchartButtonEl.disabled = true;  // To prevent multiple clicks.\n",
              "      quickchartButtonEl.classList.add('colab-df-spinner');\n",
              "      try {\n",
              "        const charts = await google.colab.kernel.invokeFunction(\n",
              "            'suggestCharts', [key], {});\n",
              "      } catch (error) {\n",
              "        console.error('Error during call to suggestCharts:', error);\n",
              "      }\n",
              "      quickchartButtonEl.classList.remove('colab-df-spinner');\n",
              "      quickchartButtonEl.classList.add('colab-df-quickchart-complete');\n",
              "    }\n",
              "    (() => {\n",
              "      let quickchartButtonEl =\n",
              "        document.querySelector('#df-dbb5ebb8-774f-49a5-9805-8498509f4dcd button');\n",
              "      quickchartButtonEl.style.display =\n",
              "        google.colab.kernel.accessAllowed ? 'block' : 'none';\n",
              "    })();\n",
              "  </script>\n",
              "</div>\n",
              "    </div>\n",
              "  </div>\n"
            ]
          },
          "metadata": {},
          "execution_count": 7
        }
      ]
    },
    {
      "cell_type": "code",
      "source": [
        "del new['Adresse fixe - Commune (code)_Année_N']\n",
        "del new['nom_de_la_commune']\n",
        "new.rename(columns={'Distance_en_km': 'Distance_en_km_Année_N'}, inplace=True)"
      ],
      "metadata": {
        "id": "NeGlWjFAPasm"
      },
      "execution_count": 8,
      "outputs": []
    },
    {
      "cell_type": "code",
      "source": [
        "\n",
        "new=pd.merge(new,dist,left_on=\"Adresse fixe - Commune (code)_Année_N+1\",right_on=\"Adresse fixe - Commune (code)\",how=\"left\")\n",
        "del new['Adresse fixe - Commune (code)_Année_N+1']\n",
        "del new['nom_de_la_commune']\n",
        "new.rename(columns={'Distance_en_km': 'Distance_en_km_Année_N+1'}, inplace=True)"
      ],
      "metadata": {
        "id": "MSwh4jgmMjDI"
      },
      "execution_count": 9,
      "outputs": []
    },
    {
      "cell_type": "code",
      "source": [
        "new['Distance_en_km_Année_N'].fillna(new['Distance_en_km_Année_N'].mean(),inplace=True)\n",
        "new['Distance_en_km_Année_N+1'].fillna(new['Distance_en_km_Année_N+1'].mean(),inplace=True)"
      ],
      "metadata": {
        "id": "KUu6Lfr2Msmn"
      },
      "execution_count": 10,
      "outputs": []
    },
    {
      "cell_type": "code",
      "source": [
        "new['Age au bac'].fillna(0,inplace=True)\n",
        "new['Bac - Mention (lib.)'].fillna(\"Sans mention\",inplace=True)\n",
        "new['RNA'].fillna(\"NonRNA\",inplace=True)\n",
        "new['IPS du lycée'].fillna(0,inplace=True)\n",
        "new['Profession du parent 2_Année_N'].fillna(\"NonRenseigné\",inplace=True)\n",
        "new['PCS - parent (lib.)_Année_N'].fillna(\"NonRenseigné\",inplace=True)"
      ],
      "metadata": {
        "id": "2FSf77Oi75kj"
      },
      "execution_count": 11,
      "outputs": []
    },
    {
      "cell_type": "code",
      "source": [
        "for i in range(len(new)):\n",
        "  if (new['Note Session 1_Année_N'][i]<10) & (new['Note Session 1_Année_N'][i]>=0) and pd.isnull(new['Résultat Session 1_Année_N'][i]) :\n",
        "    new['Résultat Session 1_Année_N'][i]=\"Ajourné\"\n",
        "  if (new['Note Session 2_Année_N'][i]<10) & (new['Note Session 2_Année_N'][i]>=0 and pd.isnull(new['Résultat Session 2_Année_N'][i])):\n",
        "    new['Résultat Session 2_Année_N'][i]=\"Ajourné\"\n",
        "  if (new['Note Session 1_Année_N'][i]>=10 and pd.isnull(new['Résultat Session 1_Année_N'][i])):\n",
        "    new['Résultat Session 1_Année_N'][i]=\"Admis\"\n",
        "  if (new['Note Session 2_Année_N'][i]>=10 and pd.isnull(new['Résultat Session 2_Année_N'][i])):\n",
        "    new['Résultat Session 2_Année_N'][i]=\"Admis\""
      ],
      "metadata": {
        "id": "MhRbe5WSEezp"
      },
      "execution_count": 12,
      "outputs": []
    },
    {
      "cell_type": "code",
      "source": [
        "for i in range(len(new)):\n",
        "  if (new['Note Session 1_Année_N'][i]<10) & (new['Note Session 1_Année_N'][i]>=0) and pd.isnull(new['Résultat Session 1_Année_N'][i]) :\n",
        "    new['Résultat Session 1_Année_N'][i]=\"Ajourné\"\n",
        "  if (new['Note Session 2_Année_N'][i]<10) & (new['Note Session 2_Année_N'][i]>=0 and pd.isnull(new['Résultat Session 2_Année_N'][i])):\n",
        "    new['Résultat Session 2_Année_N'][i]=\"Ajourné\"\n",
        "  if (new['Note Session 1_Année_N'][i]>=10 and pd.isnull(new['Résultat Session 1_Année_N'][i])):\n",
        "    new['Résultat Session 1_Année_N'][i]=\"Admis\"\n",
        "  if (new['Note Session 2_Année_N'][i]>=10 and pd.isnull(new['Résultat Session 2_Année_N'][i])):\n",
        "    new['Résultat Session 2_Année_N'][i]=\"Admis\""
      ],
      "metadata": {
        "id": "8ilzFQteEytA"
      },
      "execution_count": 13,
      "outputs": []
    },
    {
      "cell_type": "code",
      "source": [
        "for i in range(len(new)):\n",
        "  if new['Note Session 1_Année_N'][i]<10 and pd.isnull(new['Note Session 2_Année_N'][i]):\n",
        "    new['Note Session 2_Année_N'][i]=new['Note Session 1_Année_N'][i]\n",
        "  if new['Note Session 2_Année_N'][i]<10 and pd.isnull(new['Résultat Session 2_Année_N'][i]):\n",
        "    new['Résultat Session 2_Année_N'][i]=new['Résultat Session 1_Année_N'][i]"
      ],
      "metadata": {
        "id": "Ga6pxKmVFJns"
      },
      "execution_count": 14,
      "outputs": []
    },
    {
      "cell_type": "code",
      "source": [
        "new['Note Session 1_Année_N'].fillna(-1,inplace=True)\n",
        "new['Note Session 2_Année_N'].fillna(-1,inplace=True)\n",
        "new['Discipline SISE (lib.)_Année_N'].fillna(\"SFA\",inplace=True)\n",
        "new['Secteur disciplinaire SISE (lib.)_Année_N'].fillna(\"Mathématiq\",inplace=True)"
      ],
      "metadata": {
        "id": "rKq989mIFecY"
      },
      "execution_count": 15,
      "outputs": []
    },
    {
      "cell_type": "code",
      "source": [
        "don = don[don['Année_N'] != 2019]\n"
      ],
      "metadata": {
        "id": "oqyiOXH1g2qN"
      },
      "execution_count": 17,
      "outputs": []
    },
    {
      "cell_type": "code",
      "source": [
        "don['Année_N'].unique()"
      ],
      "metadata": {
        "colab": {
          "base_uri": "https://localhost:8080/"
        },
        "id": "5zsD2HpU6mMS",
        "outputId": "fc66c028-d7a4-458c-a66f-71a3c7ddb900"
      },
      "execution_count": 18,
      "outputs": [
        {
          "output_type": "execute_result",
          "data": {
            "text/plain": [
              "array([2012, 2013, 2014, 2015, 2016, 2017, 2018, 2020, 2021])"
            ]
          },
          "metadata": {},
          "execution_count": 18
        }
      ]
    },
    {
      "cell_type": "code",
      "source": [
        "df=don[don['Nombre d’admis VET_Année_N']==0]\n",
        "df=df[df[\"Type d\\'étape_Année_N+1\"]==\"L1\"]\n",
        "data=df[df['IAE - Etape (lib.)_Année_N']==df['IAE - Etape (lib.)_Année_N+1']]\n",
        "data.shape\n",
        "data = data.reset_index(drop=True)"
      ],
      "metadata": {
        "id": "kOvIvwyfg-At"
      },
      "execution_count": 19,
      "outputs": []
    },
    {
      "cell_type": "code",
      "source": [
        "new=new[new['Nombre d’admis VET_Année_N']==0]\n",
        "new=new[new[\"Type d\\'étape_Année_N+1\"]==\"L1\"]\n",
        "new=new[new['IAE - Etape (lib.)_Année_N']==new['IAE - Etape (lib.)_Année_N+1']]\n",
        "new = new.reset_index(drop=True)"
      ],
      "metadata": {
        "id": "-gXPkj67eNYy"
      },
      "execution_count": 20,
      "outputs": []
    },
    {
      "cell_type": "code",
      "source": [
        "new.shape"
      ],
      "metadata": {
        "colab": {
          "base_uri": "https://localhost:8080/"
        },
        "id": "uFiMJkURxAKy",
        "outputId": "968fa25d-ec27-472d-84b1-eb63cd4f5682"
      },
      "execution_count": 21,
      "outputs": [
        {
          "output_type": "execute_result",
          "data": {
            "text/plain": [
              "(499, 36)"
            ]
          },
          "metadata": {},
          "execution_count": 21
        }
      ]
    },
    {
      "cell_type": "code",
      "source": [
        "new.shape\n",
        "newnew=new.copy()"
      ],
      "metadata": {
        "id": "_2EuRLEruoYN"
      },
      "execution_count": 22,
      "outputs": []
    },
    {
      "cell_type": "code",
      "source": [
        "del new['Nombre d’admis VET_Année_N']\n",
        "del new[\"Type d\\'étape_Année_N+1\"]\n",
        "del new['IAE - Etape (lib.)_Année_N+1']\n",
        "del new['Adresse fixe - Commune (code)_x']\n",
        "del new['Adresse fixe - Commune (code)_y']"
      ],
      "metadata": {
        "id": "kk8V1iRxeVJw"
      },
      "execution_count": 23,
      "outputs": []
    },
    {
      "cell_type": "code",
      "source": [
        "column_names = new.columns\n",
        "data = data[column_names]\n",
        "data.shape"
      ],
      "metadata": {
        "colab": {
          "base_uri": "https://localhost:8080/"
        },
        "id": "mjiR2stV2_yY",
        "outputId": "2816c2b5-382a-496f-ad30-6b9573cf77d2"
      },
      "execution_count": 24,
      "outputs": [
        {
          "output_type": "execute_result",
          "data": {
            "text/plain": [
              "(4202, 31)"
            ]
          },
          "metadata": {},
          "execution_count": 24
        }
      ]
    },
    {
      "cell_type": "code",
      "source": [
        "new.columns"
      ],
      "metadata": {
        "colab": {
          "base_uri": "https://localhost:8080/"
        },
        "id": "yu6W8WLbvrvi",
        "outputId": "f8f5bb74-95e8-4f78-abaf-b8a5e9dfa574"
      },
      "execution_count": 25,
      "outputs": [
        {
          "output_type": "execute_result",
          "data": {
            "text/plain": [
              "Index(['Année_N', 'Individu - Code Etudiant', 'Individu - Sexe',\n",
              "       'Nationalité (code)', 'Age au bac', 'Groupe de bac', 'Série du bac',\n",
              "       'Bac - Mention (lib.)', 'IPS du lycée', 'Etudiant oui ou oui-si',\n",
              "       'PCS - parent (lib.)_Année_N', 'Profession du parent 2_Année_N',\n",
              "       'Situation année précédente (lib.)_Année_N',\n",
              "       'Diplôme Evry ou Saclay_Année_N+1', 'IAE - Etape (lib.)_Année_N',\n",
              "       'Diplôme SISE intitulé 1 (lib.)_Année_N',\n",
              "       'Discipline SISE (lib.)_Année_N',\n",
              "       'Secteur disciplinaire SISE (lib.)_Année_N', 'Composante_Année_N',\n",
              "       'Boursier (O/N)_Année_N', 'Note Session 1_Année_N',\n",
              "       'Résultat Session 1_Année_N', 'Note Session 2_Année_N',\n",
              "       'Résultat Session 2_Année_N', 'PCS - parent (lib.)_Année_N+1',\n",
              "       'Profession du parent 2_Année_N+1',\n",
              "       'Régime d'inscription (lib.)_Année_N+1', 'Boursier (O/N)_Année_N+1',\n",
              "       'RNA', 'Distance_en_km_Année_N', 'Distance_en_km_Année_N+1'],\n",
              "      dtype='object')"
            ]
          },
          "metadata": {},
          "execution_count": 25
        }
      ]
    },
    {
      "cell_type": "code",
      "source": [
        "def coding(col, codeDict):\n",
        "    colCoded = pd.Series(col, copy=True)\n",
        "    for key, value in codeDict.items():\n",
        "        colCoded.replace(key, value, inplace=True)\n",
        "    return colCoded\n",
        "\n",
        "print('Avant codage:')\n",
        "print(pd.value_counts(data[\"RNA\"]))\n",
        "data[\"RNA\"] = coding(data[\"RNA\"], {'NonRNA':0.0,'RNA':1.0})\n",
        "print('\\nAprès codage:')\n",
        "print(pd.value_counts(data[\"RNA\"]))"
      ],
      "metadata": {
        "colab": {
          "base_uri": "https://localhost:8080/"
        },
        "id": "_e2PsWTyhgCH",
        "outputId": "4527f4a4-811b-4c39-e0dc-6431a0fbacef"
      },
      "execution_count": 26,
      "outputs": [
        {
          "output_type": "stream",
          "name": "stdout",
          "text": [
            "Avant codage:\n",
            "RNA       2833\n",
            "NonRNA    1369\n",
            "Name: RNA, dtype: int64\n",
            "\n",
            "Après codage:\n",
            "1.0    2833\n",
            "0.0    1369\n",
            "Name: RNA, dtype: int64\n"
          ]
        }
      ]
    },
    {
      "cell_type": "code",
      "source": [
        "def coding(col, codeDict):\n",
        "    colCoded = pd.Series(col, copy=True)\n",
        "    for key, value in codeDict.items():\n",
        "        colCoded.replace(key, value, inplace=True)\n",
        "    return colCoded\n",
        "\n",
        "print('Avant codage:')\n",
        "print(pd.value_counts(new[\"RNA\"]))\n",
        "new[\"RNA\"] = coding(new[\"RNA\"], {'NonRNA':0.0,'RNA':1.0})\n",
        "print('\\nAprès codage:')\n",
        "print(pd.value_counts(new[\"RNA\"]))"
      ],
      "metadata": {
        "colab": {
          "base_uri": "https://localhost:8080/"
        },
        "id": "oeTIE8IS5nLr",
        "outputId": "63263c1e-ce18-4fb0-af5c-4057f1bb54f4"
      },
      "execution_count": 27,
      "outputs": [
        {
          "output_type": "stream",
          "name": "stdout",
          "text": [
            "Avant codage:\n",
            "RNA       493\n",
            "NonRNA      6\n",
            "Name: RNA, dtype: int64\n",
            "\n",
            "Après codage:\n",
            "1.0    493\n",
            "0.0      6\n",
            "Name: RNA, dtype: int64\n"
          ]
        }
      ]
    },
    {
      "cell_type": "code",
      "source": [
        "combined_data = pd.concat([data, new], ignore_index=True)\n",
        "dat_columns = combined_data.select_dtypes(['object']).columns\n",
        "\n",
        "for col in dat_columns:\n",
        "    combined_data[col] = pd.factorize(combined_data[col])[0]\n",
        "\n",
        "data_len = len(data)\n",
        "new_len = len(new)\n",
        "\n",
        "data_factorized = combined_data.iloc[:data_len]\n",
        "new_factorized = combined_data.iloc[data_len:]"
      ],
      "metadata": {
        "id": "1qNn42916Fbl"
      },
      "execution_count": 28,
      "outputs": []
    },
    {
      "cell_type": "code",
      "source": [
        "scaler = RobustScaler()\n",
        "scaled_data = scaler.fit_transform(data_factorized)\n",
        "new_scaled = scaler.transform(new_factorized)\n",
        "scaled_data_df = pd.DataFrame(scaled_data, columns=column_names)\n",
        "new_scaled_df = pd.DataFrame(new_scaled, columns=column_names)\n"
      ],
      "metadata": {
        "id": "Ezj1RIO3uUaX"
      },
      "execution_count": 29,
      "outputs": []
    },
    {
      "cell_type": "code",
      "source": [
        "data=scaled_data_df.copy()\n",
        "new=new_scaled_df.copy()\n",
        "data=data[data['Année_N']!=data['Année_N'].max()]\n",
        "data=data.reset_index(drop=True)\n",
        "del data['Individu - Code Etudiant']\n",
        "del data['Année_N']\n",
        "del new['Individu - Code Etudiant']\n",
        "del new['Année_N']"
      ],
      "metadata": {
        "id": "N2iyC9Bb3RLi"
      },
      "execution_count": 30,
      "outputs": []
    },
    {
      "cell_type": "code",
      "source": [
        "new['RNA'].value_counts()"
      ],
      "metadata": {
        "colab": {
          "base_uri": "https://localhost:8080/"
        },
        "id": "fzGN1NZ16D-o",
        "outputId": "c555b682-b150-4214-833b-bb228e7e8c66"
      },
      "execution_count": 31,
      "outputs": [
        {
          "output_type": "execute_result",
          "data": {
            "text/plain": [
              " 0.0    493\n",
              "-1.0      6\n",
              "Name: RNA, dtype: int64"
            ]
          },
          "metadata": {},
          "execution_count": 31
        }
      ]
    },
    {
      "cell_type": "code",
      "source": [
        "data['RNA'] = data['RNA'].replace({0.0: 1, -1.0: 0})\n",
        "new['RNA'] = new['RNA'].replace({0.0: 1, -1.0: 0})"
      ],
      "metadata": {
        "id": "rAwC62wWjhm7"
      },
      "execution_count": 32,
      "outputs": []
    },
    {
      "cell_type": "code",
      "source": [
        "X=data.drop(columns='RNA')\n",
        "y=data[['RNA']]\n",
        "Xnew=new.drop(columns='RNA')\n"
      ],
      "metadata": {
        "id": "iyGnwigUdUGm"
      },
      "execution_count": 33,
      "outputs": []
    },
    {
      "cell_type": "markdown",
      "source": [
        "##Entrainement du modèle"
      ],
      "metadata": {
        "id": "YA4LWoWCS3Qz"
      }
    },
    {
      "cell_type": "code",
      "source": [
        "X_train, X_test, y_train, y_test = train_test_split(X, y, test_size=0.2, random_state=42, stratify=y)\n",
        "logreg_model = LogisticRegression(C=1.0, penalty='l2',max_iter=1000,solver='lbfgs',random_state=42)\n",
        "logreg_model.fit(X_train, y_train)\n",
        "y_pred = logreg_model.predict(Xnew)"
      ],
      "metadata": {
        "colab": {
          "base_uri": "https://localhost:8080/"
        },
        "id": "TK6bbBSVfL9m",
        "outputId": "c735e363-4161-41ce-cc56-b6d5a2265bea"
      },
      "execution_count": 34,
      "outputs": [
        {
          "output_type": "stream",
          "name": "stderr",
          "text": [
            "/usr/local/lib/python3.10/dist-packages/sklearn/utils/validation.py:1143: DataConversionWarning: A column-vector y was passed when a 1d array was expected. Please change the shape of y to (n_samples, ), for example using ravel().\n",
            "  y = column_or_1d(y, warn=True)\n"
          ]
        }
      ]
    },
    {
      "cell_type": "code",
      "source": [
        "predictions = logreg_model.predict(Xnew)\n",
        "predictions_df = pd.DataFrame({'Predictions_RNA': predictions})\n",
        "newnew['Predictions_RNA']=predictions_df['Predictions_RNA']\n",
        "predictions_proba = logreg_model.predict_proba(Xnew)\n",
        "predicted_class_probabilities = 100*predictions_proba[:, 1]\n",
        "df_predictions = pd.DataFrame(predicted_class_probabilities, columns=['Probabilité_RNA'])"
      ],
      "metadata": {
        "id": "kmyOBe4Gl1XR"
      },
      "execution_count": 35,
      "outputs": []
    },
    {
      "cell_type": "code",
      "source": [
        "newnew=newnew.reset_index(drop=True)\n",
        "df2021_with_probabilities = newnew.assign(Probabilité_RNA=df_predictions['Probabilité_RNA'])\n",
        "df2021_with_probabilities=df2021_with_probabilities.assign(Prediction_RNA_2022=predictions_df['Predictions_RNA'])\n",
        "df2021_with_probabilities=df2021_with_probabilities.reset_index(drop=True)"
      ],
      "metadata": {
        "id": "F421etdNoAf2"
      },
      "execution_count": 36,
      "outputs": []
    },
    {
      "cell_type": "code",
      "source": [
        "for i in range(len(df2021_with_probabilities)):\n",
        "  if df2021_with_probabilities['Prediction_RNA_2022'][i]==1:\n",
        "    df2021_with_probabilities['Predictions_RNA'][i]=\"RNA\"\n",
        "  else:\n",
        "    df2021_with_probabilities['Predictions_RNA'][i]=\"NonRNA\""
      ],
      "metadata": {
        "colab": {
          "base_uri": "https://localhost:8080/"
        },
        "id": "NTPWPXq8ocCR",
        "outputId": "d12b07f1-8d30-4330-d56e-49a6df6c6eac"
      },
      "execution_count": 37,
      "outputs": [
        {
          "output_type": "stream",
          "name": "stderr",
          "text": [
            "<ipython-input-37-8b2554d58124>:3: SettingWithCopyWarning: \n",
            "A value is trying to be set on a copy of a slice from a DataFrame\n",
            "\n",
            "See the caveats in the documentation: https://pandas.pydata.org/pandas-docs/stable/user_guide/indexing.html#returning-a-view-versus-a-copy\n",
            "  df2021_with_probabilities['Predictions_RNA'][i]=\"RNA\"\n"
          ]
        }
      ]
    },
    {
      "cell_type": "code",
      "source": [
        "data2021=df2021_with_probabilities[['Individu - Code Etudiant','Note Session 1_Année_N','Résultat Session 1_Année_N','Note Session 2_Année_N','Résultat Session 2_Année_N','Série du bac','Predictions_RNA','Probabilité_RNA']].copy()"
      ],
      "metadata": {
        "id": "ZX0pLcsmoeAU"
      },
      "execution_count": 38,
      "outputs": []
    },
    {
      "cell_type": "code",
      "source": [
        "class_counts = data2021['Predictions_RNA'].value_counts()\n",
        "\n",
        "plt.figure(figsize=(8, 8))\n",
        "plt.pie(class_counts, labels=class_counts.index, autopct='%1.1f%%', startangle=90)\n",
        "plt.axis('equal')\n",
        "plt.title('Répartition des classes RNA')\n",
        "\n",
        "plt.show()"
      ],
      "metadata": {
        "colab": {
          "base_uri": "https://localhost:8080/",
          "height": 675
        },
        "id": "6Klu_CuWokWV",
        "outputId": "fab0d25d-302f-4571-9414-74bbbb5ce99d"
      },
      "execution_count": 39,
      "outputs": [
        {
          "output_type": "display_data",
          "data": {
            "text/plain": [
              "<Figure size 800x800 with 1 Axes>"
            ],
            "image/png": "[encoded data removed]"
          },
          "metadata": {}
        }
      ]
    },
    {
      "cell_type": "code",
      "source": [
        "for i in range(len(data2021)):\n",
        "  if data2021['Probabilité_RNA'][i]<=25:\n",
        "    data2021['Probabilité_RNA'][i]=\"Entre 0 et 25% de chances d'être RNA\"\n",
        "  elif (data2021['Probabilité_RNA'][i]>25) & (data2021['Probabilité_RNA'][i]<=50):\n",
        "    data2021['Probabilité_RNA'][i]=\"Entre 25% et 50% de chances d'être RNA\"\n",
        "  elif (data2021['Probabilité_RNA'][i]>50) & (data2021['Probabilité_RNA'][i]<=75):\n",
        "    data2021['Probabilité_RNA'][i]=\"Entre 50% et 75% de chances d'être RNA\"\n",
        "  elif data2021['Probabilité_RNA'][i]>75:\n",
        "    data2021['Probabilité_RNA'][i]=\"Entre 75% et 100% de chances d'être RNA\"\n"
      ],
      "metadata": {
        "colab": {
          "base_uri": "https://localhost:8080/"
        },
        "id": "N29vMW_88M-C",
        "outputId": "d995b7cf-4c4a-4e37-c3cc-5aec09a5ed46"
      },
      "execution_count": 40,
      "outputs": [
        {
          "output_type": "stream",
          "name": "stderr",
          "text": [
            "<ipython-input-40-d6beccc6d7bd>:7: SettingWithCopyWarning: \n",
            "A value is trying to be set on a copy of a slice from a DataFrame\n",
            "\n",
            "See the caveats in the documentation: https://pandas.pydata.org/pandas-docs/stable/user_guide/indexing.html#returning-a-view-versus-a-copy\n",
            "  data2021['Probabilité_RNA'][i]=\"Entre 50% et 75% de chances d'être RNA\"\n"
          ]
        }
      ]
    },
    {
      "cell_type": "code",
      "source": [
        "data2021['Note Session 1_Année_N'] = data2021['Note Session 1_Année_N'].replace(-1, np.nan)\n",
        "data2021['Note Session 2_Année_N'] = data2021['Note Session 2_Année_N'].replace(-1, np.nan)"
      ],
      "metadata": {
        "id": "uNtQmR---iq6"
      },
      "execution_count": 41,
      "outputs": []
    },
    {
      "cell_type": "code",
      "source": [
        "file='prediction_licence1.xlsx'\n",
        "data2021.to_excel(file, index=False)\n",
        "print(\"Success\")"
      ],
      "metadata": {
        "colab": {
          "base_uri": "https://localhost:8080/"
        },
        "id": "clZEt_m-8Daf",
        "outputId": "9311d2cb-d281-4dd1-c8ca-24028e5dfec8"
      },
      "execution_count": 42,
      "outputs": [
        {
          "output_type": "stream",
          "name": "stdout",
          "text": [
            "Success\n"
          ]
        }
      ]
    },
    {
      "cell_type": "markdown",
      "source": [
        "Le fichier obtenu est prediction_licence1. Il comporte le code étudiant, les notes et résultats en session 1 et 2, la série du bac, la probabilité d'être RNA et la prédiction faite par le modèle"
      ],
      "metadata": {
        "id": "02lGxbquTHIk"
      }
    }
  ]
}